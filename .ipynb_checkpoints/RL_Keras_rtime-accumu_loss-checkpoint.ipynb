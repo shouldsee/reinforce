{
 "cells": [
  {
   "cell_type": "code",
   "execution_count": 92,
   "metadata": {
    "collapsed": false
   },
   "outputs": [],
   "source": [
    "\"\"\" Trains an agent with (stochastic) Policy Gradients on Pong. Uses OpenAI Gym. \"\"\"\n",
    "import numpy as np\n",
    "import cPickle as pickle\n",
    "import tensorflow as tf\n",
    "import gym\n",
    "from matplotlib import pyplot as plt\n",
    "# hyperparameters\n",
    "H = 200 # number of hidden layer neurons\n",
    "batch_size = 10 # every how many episodes to do a param update?\n",
    "learning_rate = 1e-4\n",
    "gamma = 0.99 # discount factor for reward\n",
    "# gamma = 1-0.\n",
    "decay_rate = 0.99 # decay factor for RMSProp leaky sum of grad^2\n",
    "resume = True # resume from previous checkpoint?\n",
    "# resume = False;\n",
    "render = False\n",
    "# render = True\n",
    "backlen=20;\n",
    "\n",
    "\n",
    "def sigmoid(x): \n",
    "  return 1.0 / (1.0 + np.exp(-x)) # sigmoid \"squashing\" function to interval [0,1]\n",
    "\n",
    "def prepro(I):\n",
    "  \"\"\" prepro 210x160x3 uint8 frame into 6400 (80x80) 1D float vector \"\"\"\n",
    "  I = I[35:195] # crop\n",
    "  I = I[::2,::2,0] # downsample by factor of 2\n",
    "  I[I == 144] = 0 # erase background (background type 1)\n",
    "  I[I == 109] = 0 # erase background (background type 2)\n",
    "  I[I != 0] = 1 # everything else (paddles, ball) just set to 1\n",
    "  return I.astype(np.float).ravel()\n",
    "\n",
    "def discount_rewards(r):\n",
    "  \"\"\" take 1D float array of rewards and compute discounted reward \"\"\"\n",
    "  discounted_r = np.zeros_like(r)\n",
    "  running_add = 0\n",
    "  for t in reversed(xrange(0, r.size)):\n",
    "    if r[t] != 0: running_add = 0 # reset the sum, since this was a game boundary (pong specific!)\n",
    "    running_add = running_add * gamma + r[t]\n",
    "    discounted_r[t] = running_add\n",
    "  return discounted_r\n",
    "\n",
    "def policy_forward(x):\n",
    "  h = np.dot(model['W1'], x)\n",
    "  h[h<0] = 0 # ReLU nonlinearity\n",
    "  logp = np.dot(model['W2'], h)\n",
    "  p = sigmoid(logp)\n",
    "  return p, h # return probability of taking action 2, and hidden state\n",
    "\n",
    "def policy_backward(eph, epdlogp):\n",
    "  \"\"\" backward pass. (eph is array of intermediate hidden states) \"\"\"\n",
    "  dW2 = np.dot(eph.T, epdlogp).ravel()\n",
    "  dh = np.outer(epdlogp, model['W2'])\n",
    "  dh[eph <= 0] = 0 # backpro prelu\n",
    "  dW1 = np.dot(dh.T, epx)\n",
    "  return {'W1':dW1, 'W2':dW2}\n",
    "def lookback(lst):\n",
    "    lst = lst[-backlen:];\n",
    "#     np.pad(lst,(20-lst.size,), 'constant', constant_values=0);\n",
    "    if len(lst) != backlen:\n",
    "        lst = [None]*(backlen-len(lst)) + lst;\n",
    "    return(lst)\n",
    "\n",
    "def time_rewards(r):\n",
    "    \"\"\" take 1D float array of rewards and compute discounted reward \"\"\"\n",
    "    discounted_r = np.zeros_like(r)\n",
    "    running_add = 0\n",
    "    grad = 0;\n",
    "    for t in reversed(xrange(0, r.size)):\n",
    "#         grad = grad * gamma + r[t] ;\n",
    "        if r[t] != 0: \n",
    "            running_add = 0 # reset the sum, since this was a game boundary (pong specific!)\n",
    "            grad = 2 * (r[t] > 0) - 1; \n",
    "        running_add = running_add + grad;\n",
    "        discounted_r[t] = running_add\n",
    "    return discounted_r\n"
   ]
  },
  {
   "cell_type": "markdown",
   "metadata": {},
   "source": [
    "* Initiliase topology\n",
    "* set input and output\n",
    "* set optimiser\n",
    "* set routine\n"
   ]
  },
  {
   "cell_type": "code",
   "execution_count": 93,
   "metadata": {
    "collapsed": true
   },
   "outputs": [],
   "source": [
    "# model initialization\n",
    "resume = 1;\n",
    "# resume = True;\n",
    "render = False;\n",
    "render = True;\n",
    "H=5;\n",
    "k=4;\n",
    "gamma = 0.99;\n",
    "D1=80;D2=80;\n",
    "D = 80 * 80 # input dimensionality: 80x80 grid"
   ]
  },
  {
   "cell_type": "code",
   "execution_count": 34,
   "metadata": {
    "collapsed": true
   },
   "outputs": [],
   "source": [
    "del model"
   ]
  },
  {
   "cell_type": "code",
   "execution_count": 100,
   "metadata": {
    "collapsed": true
   },
   "outputs": [],
   "source": [
    "# tf.reset_default_graph()\n",
    "\n",
    "from keras.layers import Input, Dense, convolutional,core,concatenate,Flatten\n",
    "from keras.models import Model,load_model\n",
    "from keras.models import model_from_json\n",
    "from keras import backend as K\n",
    "import keras\n",
    "\n",
    "def quickax():\n",
    "    fig = plt.figure(figsize=[8,8])\n",
    "    ax1 = fig.add_subplot(221)\n",
    "    return ax1\n",
    "def savemodel(m,ModelFile):\n",
    "    # serialize model to JSON\n",
    "    model_json = m.to_json()\n",
    "    with open(ModelFile+'.json', \"w\") as json_file:\n",
    "        json_file.write(model_json)\n",
    "    # serialize weights to HDF5\n",
    "    model.save_weights(ModelFile+'.h5')\n",
    "    pickle.dump(losshist,open(ModelFile+'.p', \"wb\"))\n",
    "    print(\"Saved model to disk at \"+ModelFile)\n",
    "# savemodel(model,ModelFile)\n",
    "\n",
    "# load json and create model\n",
    "def loadmodel(ModelFile):\n",
    "    global losshist,episode_number\n",
    "    json_file = open(ModelFile+'.json', 'r')\n",
    "    loaded_model_json = json_file.read()\n",
    "    json_file.close()\n",
    "    loaded_model = model_from_json(loaded_model_json)\n",
    "    # load weights into new model\n",
    "    loaded_model.load_weights(ModelFile+'.h5')\n",
    "#     print(\"Saved model to disk at \"+ModelFile)\n",
    "    losshist = pickle.load(open(ModelFile+'.p', 'rb'))\n",
    "    episode_number = len(losshist.losses);\n",
    "    print(\"Model loaded from disk at \"+ModelFile)\n",
    "    return(loaded_model)\n",
    "# model = loadmodel(ModelFile)\n",
    "class LossCallback(keras.callbacks.Callback):\n",
    "    def on_train_begin(self, logs={}):\n",
    "        self.losses = []\n",
    "\n",
    "    def on_batch_end(self, batch, logs={}):\n",
    "        self.losses.append(logs.get('loss'))\n",
    "class LossHist():\n",
    "    def __init__(self):\n",
    "        self.losses=[];\n",
    "    def add(self,n,loss):\n",
    "        l = len(self.losses);\n",
    "        if n == l+1:\n",
    "            self.losses.append(loss);\n",
    "        else:\n",
    "            self.losses += [0]*(n-l);\n",
    "            self.losses = self.losses[:n];\n",
    "            self.losses[n-1] = loss;\n",
    "            print('Loss history has changed ')\n",
    "    def vis(self,ax):\n",
    "        ax.plot(self.losses,'-');\n",
    "        pass\n",
    "\n",
    "def lossfunc(y_true,y_pred):\n",
    "    return K.mean(K.mean( K.square( y_pred / (K.abs(y_true)+1) - 1)  )); \n",
    "# tpr=time_epr;\n",
    "def decouple(tpr):\n",
    "    tpr1=np.maximum(tpr,0);\n",
    "    tpr2=np.minimum(tpr,0);\n",
    "    tpr1[tpr1==0]=np.maximum(np.max(tpr1),20);\n",
    "    tpr2[tpr2==0]=np.minimum(np.min(tpr2),-20);\n",
    "    tpr2=-tpr2;\n",
    "    time_epr = np.hstack([tpr1,tpr2])\n",
    "    return(time_epr)\n"
   ]
  },
  {
   "cell_type": "code",
   "execution_count": 95,
   "metadata": {
    "collapsed": false
   },
   "outputs": [],
   "source": [
    "x_input = Input(shape=(D1,D2,1,))\n",
    "po_input = Input(shape=(1,));\n",
    "conv1 = convolutional.Conv2D(filters=H,\n",
    "                             kernel_size=(k,k),\n",
    "                            strides=(1,1),\n",
    "                            padding='same',\n",
    "                            activation='relu')(x_input)\n",
    "den1 = Flatten()(Dense(units=5*H,\n",
    "             activation='relu')(conv1))\n",
    "\n",
    "den1c = concatenate([den1,po_input]);\n",
    "score = Dense(units=2,\n",
    "              activation = 'relu')(den1c)\n",
    "\n",
    "model = Model(inputs=[x_input,po_input], outputs=[score])\n",
    "\n",
    "optimiser = keras.optimizers.RMSprop(lr=learning_rate, rho=0.9, epsilon=1e-08, decay=0.0)\n",
    "model.compile(optimizer='rmsprop',\n",
    "              loss=lossfunc)\n",
    "history = LossCallback()\n",
    "# log = model.fit([epx,epy], time_epr,callbacks=[history])\n",
    "# loss = model.train_on_batch([epx,epy], time_epr)\n",
    "# print(history.losses[-1])\n",
    "# x = Dense(64, activation='relu')(x_input)"
   ]
  },
  {
   "cell_type": "code",
   "execution_count": 65,
   "metadata": {
    "collapsed": false
   },
   "outputs": [],
   "source": [
    "# xinput.shape\n",
    "del model\n",
    "del losshist"
   ]
  },
  {
   "cell_type": "code",
   "execution_count": 88,
   "metadata": {
    "collapsed": false
   },
   "outputs": [
    {
     "data": {
      "text/plain": [
       "(0, 1.0300502315163613)"
      ]
     },
     "execution_count": 88,
     "metadata": {},
     "output_type": "execute_result"
    },
    {
     "data": {
      "image/png": "[encoded data removed]",
      "text/plain": [
       "<matplotlib.figure.Figure at 0x7f323c0bbf50>"
      ]
     },
     "metadata": {},
     "output_type": "display_data"
    }
   ],
   "source": [
    "# losshist_temp=losshist;\n",
    "\n",
    "ax = quickax();\n",
    "losses = losshist.losses;\n",
    "losshist = LossHist();\n",
    "losshist.losses = losses;\n",
    "losshist.vis(ax);\n",
    "ax.set_ylim(bottom=0)"
   ]
  },
  {
   "cell_type": "code",
   "execution_count": 89,
   "metadata": {
    "collapsed": false
   },
   "outputs": [
    {
     "data": {
      "text/plain": [
       "80"
      ]
     },
     "execution_count": 89,
     "metadata": {},
     "output_type": "execute_result"
    },
    {
     "data": {
      "image/png": "[encoded data removed]",
      "text/plain": [
       "<matplotlib.figure.Figure at 0x7f323c027090>"
      ]
     },
     "metadata": {},
     "output_type": "display_data"
    }
   ],
   "source": [
    "# discount_rewards(epdlogp)\n",
    "x.size\n",
    "%matplotlib inline\n",
    "plt.close('all')\n",
    "fig=plt.figure(figsize=[5,5])\n",
    "ax1=plt.subplot()\n",
    "# ax1.plot(time_epr)\n",
    "# ax1.plot(discounted_epr)\n",
    "ax1.scatter(abs(time_epr),eptpred)\n",
    "# ax1.set_xlim([0, 200])\n",
    "# ax1.set_xlim([800, 1000])\n",
    "# ax1.set_ylim([-10, 000])\n",
    "# ax1.imshow(eph[:500,:500].T)\n",
    "time_epr.size\n",
    "# tpreds.size\n",
    "D1\n",
    "\n"
   ]
  },
  {
   "cell_type": "code",
   "execution_count": null,
   "metadata": {
    "collapsed": false
   },
   "outputs": [
    {
     "name": "stderr",
     "output_type": "stream",
     "text": [
      "[2017-06-05 17:49:30,396] Making new env: Pong-v0\n"
     ]
    },
    {
     "name": "stdout",
     "output_type": "stream",
     "text": [
      "Loss history has changed \n",
      "resetting env. episode 1 reward total was -21.000000. loss_func: 0.791859\n",
      "Loss history has changed \n",
      "resetting env. episode 2 reward total was -19.000000. loss_func: 0.901030\n",
      "Loss history has changed \n",
      "resetting env. episode 3 reward total was -21.000000. loss_func: 0.753765\n",
      "Loss history has changed \n",
      "resetting env. episode 4 reward total was -20.000000. loss_func: 0.804029\n",
      "Loss history has changed \n",
      "resetting env. episode 5 reward total was -21.000000. loss_func: 0.605012\n",
      "Loss history has changed \n",
      "resetting env. episode 6 reward total was -21.000000. loss_func: 0.550343\n",
      "Loss history has changed \n",
      "resetting env. episode 7 reward total was -19.000000. loss_func: 0.704242\n",
      "Loss history has changed \n",
      "resetting env. episode 8 reward total was -21.000000. loss_func: 0.419411\n",
      "Loss history has changed \n",
      "resetting env. episode 9 reward total was -21.000000. loss_func: 0.346407\n",
      "Saved model to disk at Models/H5k4_RL_pong_RMSprop_accumulloss_2event.ckpt\n",
      "Loss history has changed \n",
      "resetting env. episode 10 reward total was -21.000000. loss_func: 0.284587\n",
      "Loss history has changed \n",
      "resetting env. episode 11 reward total was -20.000000. loss_func: 0.672870\n",
      "Loss history has changed \n",
      "resetting env. episode 12 reward total was -21.000000. loss_func: 0.283668\n",
      "Loss history has changed \n",
      "resetting env. episode 13 reward total was -20.000000. loss_func: 0.650151\n",
      "Loss history has changed \n",
      "resetting env. episode 14 reward total was -20.000000. loss_func: 0.649704\n",
      "Loss history has changed \n",
      "resetting env. episode 15 reward total was -21.000000. loss_func: 0.285034\n",
      "Loss history has changed \n",
      "resetting env. episode 16 reward total was -21.000000. loss_func: 0.270088\n",
      "Loss history has changed \n",
      "resetting env. episode 17 reward total was -21.000000. loss_func: 0.284004\n",
      "Loss history has changed \n",
      "resetting env. episode 18 reward total was -21.000000. loss_func: 0.294321\n",
      "Loss history has changed \n",
      "resetting env. episode 19 reward total was -21.000000. loss_func: 0.288041\n",
      "Saved model to disk at Models/H5k4_RL_pong_RMSprop_accumulloss_2event.ckpt\n",
      "Loss history has changed \n",
      "resetting env. episode 20 reward total was -20.000000. loss_func: 0.638153\n",
      "Loss history has changed \n",
      "resetting env. episode 21 reward total was -20.000000. loss_func: 0.667939\n"
     ]
    }
   ],
   "source": [
    "env = gym.make(\"Pong-v0\")\n",
    "observation = env.reset()\n",
    "prev_x = None # used in computing the difference frame\n",
    "xs,hs,dlogps,drs = [],[],[],[]\n",
    "ys=[];byss=[];rss=[];tpreds=[];\n",
    "running_reward = None\n",
    "reward_sum = 0\n",
    "episode_number = 0;\n",
    "\n",
    "ModelName = 'H5k4_RL_pong_RMSprop_accumulloss_2event'\n",
    "ModelFile = 'Models/'+ModelName+'.ckpt';\n",
    "render = False;\n",
    "resume = 0;\n",
    "batch_size=1;\n",
    "learning_rate = 1e-2\n",
    "optimiser = keras.optimizers.RMSprop(lr=learning_rate, rho=0.9, epsilon=1e-08, decay=0.0)\n",
    "# episode_number = 0;\n",
    "\n",
    "if 'losshist' in locals():\n",
    "    pass\n",
    "else:\n",
    "    losshist = LossHist();\n",
    "\n",
    "while True:\n",
    "    if resume:\n",
    "        model = loadmodel(ModelFile)    \n",
    "        losshist=losshist_temp;\n",
    "        \n",
    "    model.compile(optimizer='rmsprop',\n",
    "                  loss=lossfunc)\n",
    "    while True:\n",
    "        if render: env.render()\n",
    "\n",
    "        # preprocess the observation, set input to network to be difference image\n",
    "        cur_x = prepro(observation)\n",
    "        diff_x = cur_x - prev_x if prev_x is not None else np.zeros(D)\n",
    "        prev_x = cur_x\n",
    "        x = np.reshape(diff_x,[1,D1,D2,1]);\n",
    "        \n",
    "        # Sample action and label it \n",
    "        aprob = 0.5;\n",
    "        action = 2 if np.random.uniform() < aprob else 3 # roll the dice!\n",
    "        y = 1 if action == 2 else 0 # a \"fake label\"\n",
    "        \n",
    "        # Run predictor\n",
    "        tpred = model.predict([x,np.array([[y]])]);\n",
    "#         tpred = model.predict({'input_1':x,'input_2':np.array([[y]])});\n",
    "        \n",
    "    \n",
    "        # record various intermediates (needed later for backprop)\n",
    "        xs.append(x) # observation\n",
    "        ys.append(y)\n",
    "        tpreds.append(tpred);\n",
    "#         spreds.append(spred);\n",
    "\n",
    "        # step the environment and get new measurements\n",
    "        observation, reward, done, info = env.step(action)\n",
    "        reward_sum += reward\n",
    "        drs.append(reward) # record reward (has to be done after we call step() to get reward for previous action)\n",
    "        \n",
    "\n",
    "        if done: # an episode finished\n",
    "            episode_number += 1\n",
    "\n",
    "            # stack together all inputs, hidden states, action gradients, and rewards for this episode\n",
    "            epx = np.vstack(xs)\n",
    "            epy = np.vstack(ys);\n",
    "            epr = np.vstack(drs)\n",
    "            eptpred=np.vstack(tpreds);\n",
    "#             epspred=np.vstack()\n",
    "            xs,hs,dlogps,drs,ys,tpreds = [],[],[],[],[],[] # reset array memory\n",
    "            \n",
    "#             time_epr=time_rewards(epr);\n",
    "            tpr=time_rewards(epr);\n",
    "            time_epr = decouple(tpr);\n",
    "            \n",
    "            \n",
    "            curr_loss = model.train_on_batch([epx,epy], time_epr)\n",
    "            losshist.add(episode_number,curr_loss);\n",
    "            \n",
    "            if episode_number % batch_size == 0:\n",
    "                #accumulate gradient over batch where appropriate\n",
    "                pass\n",
    "   \n",
    "            # boring book-keeping\n",
    "            running_reward = reward_sum if running_reward is None else running_reward * 0.99 + reward_sum * 0.01\n",
    "            print 'resetting env. episode %d reward total was %f. loss_func: %f' % (episode_number, reward_sum, curr_loss)\n",
    "            if episode_number % 10  == 9: \n",
    "                savemodel(model,ModelFile)\n",
    "\n",
    "            reward_sum = 0\n",
    "            observation = env.reset() # reset env\n",
    "            prev_x = None\n",
    "            #     print ('ep %d: game finished, reward: %f' % (episode_number, reward)) + ('' if reward == -1 else ' !!!!!!!!')"
   ]
  },
  {
   "cell_type": "code",
   "execution_count": 21,
   "metadata": {
    "collapsed": false
   },
   "outputs": [
    {
     "data": {
      "text/plain": [
       "[<matplotlib.lines.Line2D at 0x7f33882cdd50>]"
      ]
     },
     "execution_count": 21,
     "metadata": {},
     "output_type": "execute_result"
    },
    {
     "data": {
      "image/png": "[encoded data removed]",
      "text/plain": [
       "<matplotlib.figure.Figure at 0x7f3390dc2490>"
      ]
     },
     "metadata": {},
     "output_type": "display_data"
    }
   ],
   "source": [
    "# discount_rewards(epdlogp)\n",
    "x.size\n",
    "%matplotlib inline\n",
    "plt.close('all')\n",
    "fig=plt.figure(figsize=[10,10])\n",
    "ax1=plt.subplot()\n",
    "ax1.plot((time_epr))\n",
    "ax1.plot(eptpred[:,0])\n",
    "ax1.plot(eptpred[:,1])\n",
    "\n",
    "# ax1.plot(np.sign(-(epspred-.5))*2*(eptpred-1))\n",
    "\n",
    "\n",
    "# ax1.plot(discounted_epr)\n",
    "# ax1.scatter(abs(time_epr),eptpred)\n",
    "# ax1.set_xlim([0, 500])\n",
    "# ax1.set_xlim([500, 1000])\n",
    "# ax1.set_ylim([-0, 50])\n",
    "\n",
    "\n",
    "# ax1.imshow(eph[:500,:500].T)\n",
    "# tpreds.size\n"
   ]
  },
  {
   "cell_type": "code",
   "execution_count": 19,
   "metadata": {
    "collapsed": false
   },
   "outputs": [
    {
     "name": "stdout",
     "output_type": "stream",
     "text": [
      "[[ nan]\n",
      " [ nan]\n",
      " [ nan]\n",
      " ..., \n",
      " [ nan]\n",
      " [ nan]\n",
      " [ nan]]\n"
     ]
    }
   ],
   "source": [
    "# print(time_epr.ravel())\n",
    "# time_epr\n",
    "# tpreds\n",
    "# H\n",
    "# np.expand_dims(epx,1).shape\n",
    "# curr_loss = sess.run(loss,feed_dict={xinput: epx, input_y: epy, rtime: time_epr});\n",
    "# epx.shape\n",
    "# tf.reshape(epy);\n",
    "# D*H\n",
    "# oSaver = tf.train.Saver()\n",
    "print(sess.run(score,feed_dict={xinput: epx, input_y: epy, rtime: time_epr}))\n",
    "# oSess = sess\n",
    "# oSaver.save(oSess, ModelFile)"
   ]
  }
 ],
 "metadata": {
  "kernelspec": {
   "display_name": "Python 2",
   "language": "python",
   "name": "python2"
  },
  "language_info": {
   "codemirror_mode": {
    "name": "ipython",
    "version": 2
   },
   "file_extension": ".py",
   "mimetype": "text/x-python",
   "name": "python",
   "nbconvert_exporter": "python",
   "pygments_lexer": "ipython2",
   "version": "2.7.12"
  }
 },
 "nbformat": 4,
 "nbformat_minor": 2
}
