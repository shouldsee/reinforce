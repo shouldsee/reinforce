{
 "cells": [
  {
   "cell_type": "markdown",
   "metadata": {},
   "source": [
    "##### lst = [1,2,3];\n",
    "lst.index(1)"
   ]
  },
  {
   "cell_type": "code",
   "execution_count": 1,
   "metadata": {
    "collapsed": true
   },
   "outputs": [],
   "source": [
    "# a=np.ones((3,3,3))\n",
    "# a[0:1,:].shape"
   ]
  },
  {
   "cell_type": "code",
   "execution_count": 2,
   "metadata": {},
   "outputs": [
    {
     "name": "stderr",
     "output_type": "stream",
     "text": [
      "Using TensorFlow backend.\n"
     ]
    }
   ],
   "source": [
    "import gym\n",
    "import numpy as np\n",
    "import tensorflow as tf\n",
    "from keras import backend as K\n",
    "from keras.models import Sequential\n",
    "from keras.layers import Dense, Reshape, Flatten\n",
    "from keras.optimizers import Adam\n",
    "from keras.layers.convolutional import Convolution2D\n",
    "\n",
    "\n",
    "class PGAgent:\n",
    "    def __init__(self, state_size, action_size):\n",
    "        self.state_size = state_size\n",
    "        self.action_size = action_size\n",
    "        self.gamma = 0.99\n",
    "        self.learning_rate = 0.001\n",
    "        self.states = []\n",
    "        self.gradients = []\n",
    "        self.rewards = []\n",
    "        self.probs = []\n",
    "        self.model = self._build_model()\n",
    "        self.summary = self.model.summary;\n",
    "\n",
    "    def _build_model(self):\n",
    "        model = Sequential()\n",
    "        model.add(Reshape((80, 80, 1), input_shape=(self.state_size,)))\n",
    "        model.add(Convolution2D(25, (6, 6), subsample=(3, 3), border_mode='same',\n",
    "                                activation='relu', init='he_uniform'))\n",
    "        model.add(Convolution2D(5, (6, 6), subsample=(1, 1), border_mode='same',\n",
    "                                activation='relu', init='he_uniform'))\n",
    "        model.add(Flatten())\n",
    "#         model.add(Dense(20, activation='relu', init='he_uniform'))\n",
    "#         model.add(Dense(20, activation='relu', init='he_uniform'))\n",
    "        model.add(Dense(self.action_size, activation='softmax'))\n",
    "        opt = Adam(lr=self.learning_rate)\n",
    "        model.compile(loss='categorical_crossentropy', optimizer=opt)\n",
    "        return model\n",
    "\n",
    "    def remember(self, state, action, prob, reward):\n",
    "        y = np.zeros([self.action_size])\n",
    "        y[action] = 1\n",
    "        self.gradients.append(np.array(y).astype('float32') - prob)\n",
    "        self.states.append(state)\n",
    "        self.rewards.append(reward)\n",
    "\n",
    "    def act(self, state):\n",
    "        # state = state.reshape([1, state.shape[0]])\n",
    "        aprob = self.model.predict(state, batch_size=1).flatten()\n",
    "        self.probs.append(aprob)\n",
    "        prob = aprob / np.sum(aprob)\n",
    "        action = np.random.choice(self.action_size, 1, p=prob)[0]\n",
    "        return action, prob\n",
    "\n",
    "    def discount_rewards(self, rewards):\n",
    "        discounted_rewards = np.zeros_like(rewards)\n",
    "        running_add = 0\n",
    "        for t in reversed(range(0, rewards.size)):\n",
    "            if rewards[t] != 0:\n",
    "                running_add = 0\n",
    "            running_add = running_add * self.gamma + rewards[t]\n",
    "            discounted_rewards[t] = running_add\n",
    "        return discounted_rewards\n",
    "\n",
    "    def train(self,rewards):\n",
    "        gradients = np.vstack(self.gradients)\n",
    "        # rewards = np.vstack(self.rewards)\n",
    "        # rewards = self.discount_rewards(rewards)\n",
    "        rewards = (rewards - np.mean(rewards,keepdims=1)) / np.std(rewards)\n",
    "        gradients *= rewards\n",
    "        X = np.squeeze(np.vstack([self.states]))\n",
    "        Y = self.probs + self.learning_rate * np.squeeze(np.vstack([gradients]))\n",
    "        bsize = 2000;\n",
    "        bmax = int(X.shape[0]/bsize);\n",
    "        for b in range(bmax+1):\n",
    "#             cond = [x >= b*bsize for x in range(max((b+1)*bsize),X.shape[0])]\n",
    "            self.model.train_on_batch(X[b*bsize:(b+1)*bsize,:], Y[b*bsize:(b+1)*bsize,:])\n",
    "#             self.model.train_on_batch(np.compress(cond,X,axis = 0),np.compress(cond, Y,axis = 0))\n",
    "\n",
    "        self.states, self.probs, self.gradients, self.rewards = [], [], [], []\n",
    "\n",
    "    def load(self, name):\n",
    "        global episode\n",
    "        self.model.load_weights(name)\n",
    "    def readlog(self, LogName):\n",
    "#         LogName = self.LogName;\n",
    "        with open(LogName,'rb') as f:\n",
    "                first = f.readline()      # Read the first line.\n",
    "                f.seek(-2, 2)             # Jump to the second last byte.\n",
    "                while f.read(1) != b\"\\n\": # Until EOL is found...\n",
    "                    f.seek(-2, 1)         # ...jump back the read byte plus one more.\n",
    "                last = f.readline() \n",
    "                lst = last.split('\\t');\n",
    "                eind = lst.index('Episode')+1;\n",
    "                self.episode = int(lst[eind]);\n",
    "\n",
    "    def save(self, name):\n",
    "#         self.model.save_weights(name)\n",
    "        self.model.save(name);\n",
    "    \n",
    "def preprocess(I):\n",
    "    I = I[35:195]\n",
    "    I = I[::2, ::2, 0]\n",
    "    I[I == 144] = 0\n",
    "    I[I == 109] = 0\n",
    "    I[I != 0] = 1\n",
    "    return I.astype(np.float).ravel()\n",
    "# if __name__ == \"__main__\":\n",
    "#     env = gym.make(\"Pong-v0\")\n",
    "#     state = env.reset()\n",
    "#     prev_x = None\n",
    "#     score = 0\n",
    "#     episode = 0\n",
    "\n",
    "#     state_size = 80 * 80\n",
    "#     action_size = env.action_space.n\n",
    "#     agent = PGAgent(state_size, action_size)\n",
    "    \n",
    "# agent.summary();"
   ]
  },
  {
   "cell_type": "code",
   "execution_count": 3,
   "metadata": {
    "collapsed": true
   },
   "outputs": [],
   "source": [
    "# if __name__ == \"__main__\":\n",
    "#     env = gym.make(\"Pong-v0\")\n",
    "#     state = env.reset()\n",
    "#     prev_x = None\n",
    "#     score = 0\n",
    "#     episode = 0\n",
    "\n",
    "#     state_size = 80 * 80\n",
    "#     action_size = env.action_space.n\n",
    "#     agent = PGAgent(state_size, action_size)\n",
    "    \n",
    "# agent.summary();"
   ]
  },
  {
   "cell_type": "code",
   "execution_count": 4,
   "metadata": {
    "collapsed": true
   },
   "outputs": [],
   "source": [
    "# if __name__ == \"__main__\":\n",
    "#     env = gym.make(\"Pong-v0\")\n",
    "#     state = env.reset()\n",
    "#     prev_x = None\n",
    "#     score = 0\n",
    "#     episode = 0\n",
    "\n",
    "#     state_size = 80 * 80\n",
    "#     action_size = env.action_space.n\n",
    "#     agent = PGAgent(state_size, action_size)\n",
    "#     agent.summary();\n",
    "\n",
    "AgentName = 'pong_minimal-s5L1'\n",
    "AgentFile = 'Models/%s.h5'%AgentName;\n",
    "LogName = 'Models/%s.log'%AgentName;\n",
    "# LogFile = open(LogName,'a');\n",
    "resume = 1;\n",
    "render = 0;\n",
    "usegpu = 1;\n",
    "# agent.readlog(LogName)\n",
    "# print(agent.episode)"
   ]
  },
  {
   "cell_type": "code",
   "execution_count": null,
   "metadata": {
    "collapsed": true
   },
   "outputs": [],
   "source": [
    "from sklearn.decomposition import PCA\n",
    "pca = PCA(n_components = 1)"
   ]
  },
  {
   "cell_type": "code",
   "execution_count": null,
   "metadata": {
    "scrolled": true
   },
   "outputs": [
    {
     "name": "stderr",
     "output_type": "stream",
     "text": [
      "[2017-06-18 16:18:47,565] Making new env: Pong-v0\n",
      "/home/shouldsee/.local/lib/python2.7/site-packages/ipykernel_launcher.py:28: UserWarning: Update your `Conv2D` call to the Keras 2 API: `Conv2D(25, (6, 6), kernel_initializer=\"he_uniform\", activation=\"relu\", padding=\"same\", strides=(3, 3))`\n",
      "/home/shouldsee/.local/lib/python2.7/site-packages/ipykernel_launcher.py:30: UserWarning: Update your `Conv2D` call to the Keras 2 API: `Conv2D(5, (6, 6), kernel_initializer=\"he_uniform\", activation=\"relu\", padding=\"same\", strides=(1, 1))`\n"
     ]
    },
    {
     "name": "stdout",
     "output_type": "stream",
     "text": [
      "Episode\t2212\tScore\t11.000000\tlargest_variance\t0.317746\tall_var\t0.013749\tL1_norm\t0.001545\n",
      "Episode\t2213\tScore\t6.000000\tlargest_variance\t0.328571\tall_var\t0.015321\tL1_norm\t0.001143\n",
      "Episode\t2214\tScore\t6.000000\tlargest_variance\t0.311913\tall_var\t0.014838\tL1_norm\t0.001611\n",
      "Episode\t2215\tScore\t8.000000\tlargest_variance\t0.303518\tall_var\t0.015647\tL1_norm\t0.001839\n",
      "Episode\t2216\tScore\t13.000000\tlargest_variance\t0.289575\tall_var\t0.013830\tL1_norm\t0.001397\n",
      "Episode\t2217\tScore\t9.000000\tlargest_variance\t0.292096\tall_var\t0.015134\tL1_norm\t0.000939\n",
      "Episode\t2218\tScore\t10.000000\tlargest_variance\t0.306784\tall_var\t0.013179\tL1_norm\t0.001292\n",
      "Episode\t2219\tScore\t14.000000\tlargest_variance\t0.305041\tall_var\t0.013729\tL1_norm\t0.001337\n",
      "Episode\t2220\tScore\t5.000000\tlargest_variance\t0.344721\tall_var\t0.014339\tL1_norm\t0.001388\n",
      "Episode\t2221\tScore\t12.000000\tlargest_variance\t0.313210\tall_var\t0.013410\tL1_norm\t0.002077\n",
      "Episode\t2222\tScore\t9.000000\tlargest_variance\t0.312636\tall_var\t0.014648\tL1_norm\t0.001871\n",
      "Episode\t2223\tScore\t12.000000\tlargest_variance\t0.298736\tall_var\t0.014411\tL1_norm\t0.000869\n",
      "Episode\t2224\tScore\t13.000000\tlargest_variance\t0.279911\tall_var\t0.015102\tL1_norm\t0.002971\n",
      "Episode\t2225\tScore\t10.000000\tlargest_variance\t0.304899\tall_var\t0.013837\tL1_norm\t0.001634\n",
      "Episode\t2226\tScore\t8.000000\tlargest_variance\t0.286947\tall_var\t0.015822\tL1_norm\t0.001798\n",
      "Episode\t2227\tScore\t2.000000\tlargest_variance\t0.288173\tall_var\t0.015604\tL1_norm\t0.001296\n",
      "Episode\t2228\tScore\t13.000000\tlargest_variance\t0.322005\tall_var\t0.012324\tL1_norm\t0.002111\n",
      "Episode\t2229\tScore\t3.000000\tlargest_variance\t0.299493\tall_var\t0.015590\tL1_norm\t0.001203\n",
      "Episode\t2230\tScore\t6.000000\tlargest_variance\t0.307687\tall_var\t0.016189\tL1_norm\t0.001795\n",
      "Episode\t2231\tScore\t4.000000\tlargest_variance\t0.307809\tall_var\t0.016040\tL1_norm\t0.001111\n",
      "Episode\t2232\tScore\t-2.000000\tlargest_variance\t0.339526\tall_var\t0.016156\tL1_norm\t0.001657\n",
      "Episode\t2233\tScore\t6.000000\tlargest_variance\t0.337690\tall_var\t0.015960\tL1_norm\t0.001784\n",
      "Episode\t2234\tScore\t12.000000\tlargest_variance\t0.307527\tall_var\t0.014223\tL1_norm\t0.001161\n",
      "Episode\t2235\tScore\t5.000000\tlargest_variance\t0.290980\tall_var\t0.013599\tL1_norm\t0.001684\n",
      "Episode\t2236\tScore\t12.000000\tlargest_variance\t0.334491\tall_var\t0.014414\tL1_norm\t0.002126\n",
      "Episode\t2237\tScore\t1.000000\tlargest_variance\t0.331315\tall_var\t0.014880\tL1_norm\t0.001619\n",
      "Episode\t2238\tScore\t11.000000\tlargest_variance\t0.304690\tall_var\t0.014383\tL1_norm\t0.001266\n",
      "Episode\t2239\tScore\t11.000000\tlargest_variance\t0.294725\tall_var\t0.013889\tL1_norm\t0.001856\n",
      "Episode\t2240\tScore\t11.000000\tlargest_variance\t0.326425\tall_var\t0.013860\tL1_norm\t0.002271\n",
      "Episode\t2241\tScore\t8.000000\tlargest_variance\t0.305198\tall_var\t0.014345\tL1_norm\t0.001265\n",
      "Episode\t2242\tScore\t15.000000\tlargest_variance\t0.304455\tall_var\t0.012921\tL1_norm\t0.001189\n",
      "Episode\t2243\tScore\t13.000000\tlargest_variance\t0.320438\tall_var\t0.012922\tL1_norm\t0.001711\n",
      "Episode\t2244\tScore\t2.000000\tlargest_variance\t0.323442\tall_var\t0.015108\tL1_norm\t0.001016\n",
      "Episode\t2245\tScore\t16.000000\tlargest_variance\t0.330856\tall_var\t0.014826\tL1_norm\t0.001789\n",
      "Episode\t2246\tScore\t5.000000\tlargest_variance\t0.303072\tall_var\t0.015307\tL1_norm\t0.001688\n",
      "Episode\t2247\tScore\t12.000000\tlargest_variance\t0.292955\tall_var\t0.013155\tL1_norm\t0.001642\n",
      "Episode\t2248\tScore\t4.000000\tlargest_variance\t0.326227\tall_var\t0.015639\tL1_norm\t0.001867\n",
      "Episode\t2249\tScore\t1.000000\tlargest_variance\t0.312513\tall_var\t0.014242\tL1_norm\t0.000863\n",
      "Episode\t2250\tScore\t9.000000\tlargest_variance\t0.307497\tall_var\t0.014243\tL1_norm\t0.001266\n",
      "Episode\t2251\tScore\t5.000000\tlargest_variance\t0.298690\tall_var\t0.015204\tL1_norm\t0.002140\n",
      "Episode\t2252\tScore\t9.000000\tlargest_variance\t0.305043\tall_var\t0.014388\tL1_norm\t0.001472\n",
      "Episode\t2253\tScore\t13.000000\tlargest_variance\t0.324956\tall_var\t0.012613\tL1_norm\t0.001015\n",
      "Episode\t2254\tScore\t7.000000\tlargest_variance\t0.313486\tall_var\t0.014679\tL1_norm\t0.001986\n",
      "Episode\t2255\tScore\t6.000000\tlargest_variance\t0.348526\tall_var\t0.015306\tL1_norm\t0.001449\n",
      "Episode\t2256\tScore\t4.000000\tlargest_variance\t0.324336\tall_var\t0.014750\tL1_norm\t0.000728\n",
      "Episode\t2257\tScore\t15.000000\tlargest_variance\t0.327864\tall_var\t0.013208\tL1_norm\t0.001727\n",
      "Episode\t2258\tScore\t7.000000\tlargest_variance\t0.340663\tall_var\t0.014449\tL1_norm\t0.001186\n",
      "Episode\t2259\tScore\t7.000000\tlargest_variance\t0.328157\tall_var\t0.013386\tL1_norm\t0.001774\n",
      "Episode\t2260\tScore\t8.000000\tlargest_variance\t0.338234\tall_var\t0.015611\tL1_norm\t0.002364\n",
      "Episode\t2261\tScore\t8.000000\tlargest_variance\t0.299593\tall_var\t0.014232\tL1_norm\t0.002172\n",
      "Episode\t2262\tScore\t9.000000\tlargest_variance\t0.301336\tall_var\t0.014898\tL1_norm\t0.000721\n",
      "Episode\t2263\tScore\t12.000000\tlargest_variance\t0.292412\tall_var\t0.014412\tL1_norm\t0.001691\n",
      "Episode\t2264\tScore\t10.000000\tlargest_variance\t0.310869\tall_var\t0.013983\tL1_norm\t0.002053\n",
      "Episode\t2265\tScore\t11.000000\tlargest_variance\t0.319607\tall_var\t0.014385\tL1_norm\t0.002070\n",
      "Episode\t2266\tScore\t13.000000\tlargest_variance\t0.311344\tall_var\t0.015337\tL1_norm\t0.001597\n",
      "Episode\t2267\tScore\t12.000000\tlargest_variance\t0.294796\tall_var\t0.015700\tL1_norm\t0.001673\n",
      "Episode\t2268\tScore\t7.000000\tlargest_variance\t0.307683\tall_var\t0.013556\tL1_norm\t0.001594\n",
      "Episode\t2269\tScore\t10.000000\tlargest_variance\t0.319735\tall_var\t0.015769\tL1_norm\t0.001410\n",
      "Episode\t2270\tScore\t2.000000\tlargest_variance\t0.265005\tall_var\t0.015255\tL1_norm\t0.000960\n"
     ]
    }
   ],
   "source": [
    "if __name__ == \"__main__\":\n",
    "    if not usegpu:\n",
    "        sess = tf.Session(config=tf.ConfigProto(log_device_placement=True, device_count = {'GPU': 0}))\n",
    "        K.set_session(sess)\n",
    "        \n",
    "    env = gym.make(\"Pong-v0\")\n",
    "    state = env.reset()\n",
    "    prev_x = None\n",
    "    score = 0\n",
    "    episode = 0\n",
    "\n",
    "    state_size = 80 * 80\n",
    "    action_size = env.action_space.n\n",
    "    agent = PGAgent(state_size, action_size)\n",
    "#     agent.summary();\n",
    "    \n",
    "\n",
    "    if resume:\n",
    "        agent.load(AgentFile);\n",
    "        agent.readlog(LogName);\n",
    "        episode = agent.episode;\n",
    "    while episode > -1:\n",
    "        if render:\n",
    "            env.render()\n",
    "\n",
    "        cur_x = preprocess(state)\n",
    "        x = cur_x - prev_x if prev_x is not None else np.zeros(state_size)\n",
    "        prev_x = cur_x\n",
    "\n",
    "        action, prob = agent.act(np.expand_dims(x,1).T)\n",
    "        state, reward, done, info = env.step(action)\n",
    "        score += reward\n",
    "        agent.remember(x, action, prob, reward)\n",
    "        \n",
    "        if done:\n",
    "            episode += 1\n",
    "            rewards = np.vstack(agent.rewards)\n",
    "            rewards = agent.discount_rewards(rewards)\n",
    "            grads = np.vstack(agent.gradients);\n",
    "            pca.fit (grads )\n",
    "            lvar = pca.explained_variance_ratio_[0];\n",
    "            var_lst = np.var(grads,axis = 0);\n",
    "            L1_lst = abs(np.mean(grads,axis = 0));\n",
    "            L1_norm = np.mean(L1_lst)\n",
    "            all_var = np.mean(var_lst);            \n",
    "            \n",
    "            agent.train(rewards)\n",
    "            msg = '%s\\t%d\\t%s\\t%f\\t%s\\t%f\\t%s\\t%f\\t%s\\t%f' % ('Episode',episode,'Score', score,'largest_variance',lvar,'all_var',all_var,'L1_norm',L1_norm);\n",
    "            print(msg);\n",
    "            with open(LogName,'a+') as LogFile:\n",
    "                LogFile.write(msg+'\\n');\n",
    "            \n",
    "            score = 0\n",
    "            state = env.reset()\n",
    "            prev_x = None\n",
    "#             if episode > 1 and episode % 10 == 0:\n",
    "            agent.save(AgentFile)"
   ]
  },
  {
   "cell_type": "code",
   "execution_count": null,
   "metadata": {
    "collapsed": true
   },
   "outputs": [],
   "source": [
    "    # max(1,2)\n",
    "    # b =1 \n",
    "    # range(max((b+1)*bsize),X.shape[0])"
   ]
  },
  {
   "cell_type": "code",
   "execution_count": null,
   "metadata": {
    "collapsed": true
   },
   "outputs": [],
   "source": [
    "# pca.explained_variance_ratio_[0]"
   ]
  },
  {
   "cell_type": "code",
   "execution_count": null,
   "metadata": {
    "collapsed": true
   },
   "outputs": [],
   "source": [
    "# # len(agent.probs)\n",
    "# from sklearn.decomposition import PCA\n",
    "# X = np.vstack(agent.gradients)\n",
    "# pca = PCA(n_components = 1)\n",
    "# pca.fit(X)\n",
    "# print(pca.explained_variance_ratio_)"
   ]
  }
 ],
 "metadata": {
  "kernelspec": {
   "display_name": "Python 2",
   "language": "python",
   "name": "python2"
  },
  "language_info": {
   "codemirror_mode": {
    "name": "ipython",
    "version": 2
   },
   "file_extension": ".py",
   "mimetype": "text/x-python",
   "name": "python",
   "nbconvert_exporter": "python",
   "pygments_lexer": "ipython2",
   "version": "2.7.12"
  }
 },
 "nbformat": 4,
 "nbformat_minor": 2
}
