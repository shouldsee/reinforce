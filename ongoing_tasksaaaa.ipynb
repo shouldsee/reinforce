{
 "cells": [
  {
   "cell_type": "markdown",
   "metadata": {},
   "source": [
    "##### lst = [1,2,3];\n",
    "lst.index(1)"
   ]
  },
  {
   "cell_type": "code",
   "execution_count": 2,
   "metadata": {},
   "outputs": [
    {
     "name": "stderr",
     "output_type": "stream",
     "text": [
      "Using TensorFlow backend.\n"
     ]
    }
   ],
   "source": [
    "import gym\n",
    "import numpy as np\n",
    "import tensorflow as tf\n",
    "from keras import backend as K\n",
    "from keras.models import Sequential,load_model\n",
    "from keras.layers import Dense, Reshape, Flatten\n",
    "from keras.optimizers import Adam\n",
    "from keras.layers.convolutional import Convolution2D\n",
    "from AgentUtil import *"
   ]
  },
  {
   "cell_type": "code",
   "execution_count": 10,
   "metadata": {},
   "outputs": [
    {
     "name": "stderr",
     "output_type": "stream",
     "text": [
      "/home/shouldsee/.local/lib/python2.7/site-packages/ipykernel_launcher.py:6: UserWarning: Update your `Conv2D` call to the Keras 2 API: `Conv2D(25, (6, 6), kernel_initializer=\"he_uniform\", activation=\"relu\", padding=\"same\", strides=(3, 3))`\n",
      "  \n",
      "/home/shouldsee/.local/lib/python2.7/site-packages/ipykernel_launcher.py:8: UserWarning: Update your `Conv2D` call to the Keras 2 API: `Conv2D(5, (6, 6), kernel_initializer=\"he_uniform\", activation=\"relu\", padding=\"same\", strides=(1, 1))`\n",
      "  \n",
      "/home/shouldsee/.local/lib/python2.7/site-packages/ipykernel_launcher.py:10: UserWarning: Update your `Conv2D` call to the Keras 2 API: `Conv2D(5, (6, 6), kernel_initializer=\"he_uniform\", activation=\"relu\", padding=\"same\", strides=(1, 1))`\n",
      "  # Remove the CWD from sys.path while we load stuff.\n",
      "/home/shouldsee/.local/lib/python2.7/site-packages/ipykernel_launcher.py:12: UserWarning: Update your `Conv2D` call to the Keras 2 API: `Conv2D(5, (6, 6), kernel_initializer=\"he_uniform\", activation=\"relu\", padding=\"same\", strides=(1, 1))`\n",
      "  if sys.path[0] == '':\n"
     ]
    },
    {
     "name": "stdout",
     "output_type": "stream",
     "text": [
      "_________________________________________________________________\n",
      "Layer (type)                 Output Shape              Param #   \n",
      "=================================================================\n",
      "reshape_12 (Reshape)         (None, 80, 80, 1)         0         \n",
      "_________________________________________________________________\n",
      "conv2d_45 (Conv2D)           (None, 27, 27, 25)        925       \n",
      "_________________________________________________________________\n",
      "conv2d_46 (Conv2D)           (None, 27, 27, 5)         4505      \n",
      "_________________________________________________________________\n",
      "conv2d_47 (Conv2D)           (None, 27, 27, 5)         905       \n",
      "_________________________________________________________________\n",
      "conv2d_48 (Conv2D)           (None, 27, 27, 5)         905       \n",
      "_________________________________________________________________\n",
      "flatten_12 (Flatten)         (None, 3645)              0         \n",
      "_________________________________________________________________\n",
      "dense_12 (Dense)             (None, 6)                 21876     \n",
      "=================================================================\n",
      "Total params: 29,116\n",
      "Trainable params: 29,116\n",
      "Non-trainable params: 0\n",
      "_________________________________________________________________\n"
     ]
    }
   ],
   "source": [
    "AgentName = 'pong_minimal-s5L3'\n",
    "agent = PGAgent(state_size, action_size,AgentName=AgentName)\n",
    "# agent.newlog()\n",
    "nb_episode = 1000;\n",
    "main(agent) \n",
    "\n",
    "\n",
    "%load_ext line_profiler\n",
    "%lprun -f main main(agent,verbose = 0) "
   ]
  },
  {
   "cell_type": "code",
   "execution_count": 4,
   "metadata": {},
   "outputs": [
    {
     "name": "stderr",
     "output_type": "stream",
     "text": [
      "AgentUtil.py:31: UserWarning: Update your `Conv2D` call to the Keras 2 API: `Conv2D(25, (6, 6), kernel_initializer=\"he_uniform\", activation=\"relu\", padding=\"same\", strides=(3, 3))`\n",
      "  activation='relu', init='he_uniform'))\n",
      "AgentUtil.py:33: UserWarning: Update your `Conv2D` call to the Keras 2 API: `Conv2D(5, (6, 6), kernel_initializer=\"he_uniform\", activation=\"relu\", padding=\"same\", strides=(1, 1))`\n",
      "  activation='relu', init='he_uniform'))\n",
      "AgentUtil.py:35: UserWarning: Update your `Conv2D` call to the Keras 2 API: `Conv2D(5, (6, 6), kernel_initializer=\"he_uniform\", activation=\"relu\", padding=\"same\", strides=(1, 1))`\n",
      "  activation='relu', init='he_uniform'))\n",
      "AgentUtil.py:37: UserWarning: Update your `Conv2D` call to the Keras 2 API: `Conv2D(5, (6, 6), kernel_initializer=\"he_uniform\", activation=\"relu\", padding=\"same\", strides=(1, 1))`\n",
      "  activation='relu', init='he_uniform'))\n"
     ]
    },
    {
     "ename": "ValueError",
     "evalue": "No model found in config file.",
     "output_type": "error",
     "traceback": [
      "\u001b[0;31m---------------------------------------------------------------------------\u001b[0m",
      "\u001b[0;31mValueError\u001b[0m                                Traceback (most recent call last)",
      "\u001b[0;32m<ipython-input-4-647b5dd3b91c>\u001b[0m in \u001b[0;36m<module>\u001b[0;34m()\u001b[0m\n\u001b[1;32m      1\u001b[0m \u001b[0mAgentName\u001b[0m \u001b[0;34m=\u001b[0m \u001b[0;34m'pong_minimal-s3'\u001b[0m\u001b[0;34m\u001b[0m\u001b[0m\n\u001b[1;32m      2\u001b[0m \u001b[0magent\u001b[0m \u001b[0;34m=\u001b[0m \u001b[0mPGAgent\u001b[0m\u001b[0;34m(\u001b[0m\u001b[0;36m6400\u001b[0m\u001b[0;34m,\u001b[0m \u001b[0;36m6\u001b[0m\u001b[0;34m,\u001b[0m\u001b[0mAgentName\u001b[0m\u001b[0;34m=\u001b[0m\u001b[0mAgentName\u001b[0m\u001b[0;34m)\u001b[0m\u001b[0;34m\u001b[0m\u001b[0m\n\u001b[0;32m----> 3\u001b[0;31m \u001b[0magent\u001b[0m\u001b[0;34m.\u001b[0m\u001b[0mload\u001b[0m\u001b[0;34m(\u001b[0m\u001b[0;34m)\u001b[0m\u001b[0;34m\u001b[0m\u001b[0m\n\u001b[0m\u001b[1;32m      4\u001b[0m \u001b[0magent\u001b[0m\u001b[0;34m.\u001b[0m\u001b[0msummary\u001b[0m\u001b[0;34m(\u001b[0m\u001b[0;34m)\u001b[0m\u001b[0;34m\u001b[0m\u001b[0m\n",
      "\u001b[0;32m/media/DATA/Documents/repos/reinforce/AgentUtil.py\u001b[0m in \u001b[0;36mload\u001b[0;34m(self, fname)\u001b[0m\n\u001b[1;32m     93\u001b[0m             \u001b[0mfname\u001b[0m \u001b[0;34m=\u001b[0m \u001b[0mself\u001b[0m\u001b[0;34m.\u001b[0m\u001b[0mAgentFile\u001b[0m\u001b[0;34m;\u001b[0m\u001b[0;34m\u001b[0m\u001b[0m\n\u001b[1;32m     94\u001b[0m         \u001b[0;32mglobal\u001b[0m \u001b[0mepisode\u001b[0m\u001b[0;34m\u001b[0m\u001b[0m\n\u001b[0;32m---> 95\u001b[0;31m         \u001b[0mself\u001b[0m\u001b[0;34m.\u001b[0m\u001b[0mmodel\u001b[0m \u001b[0;34m=\u001b[0m \u001b[0mload_model\u001b[0m\u001b[0;34m(\u001b[0m\u001b[0mfname\u001b[0m\u001b[0;34m)\u001b[0m\u001b[0;34m;\u001b[0m\u001b[0;34m\u001b[0m\u001b[0m\n\u001b[0m\u001b[1;32m     96\u001b[0m         \u001b[0mself\u001b[0m\u001b[0;34m.\u001b[0m\u001b[0msummary\u001b[0m \u001b[0;34m=\u001b[0m \u001b[0mself\u001b[0m\u001b[0;34m.\u001b[0m\u001b[0mmodel\u001b[0m\u001b[0;34m.\u001b[0m\u001b[0msummary\u001b[0m\u001b[0;34m;\u001b[0m\u001b[0;34m\u001b[0m\u001b[0m\n\u001b[1;32m     97\u001b[0m \u001b[0;34m\u001b[0m\u001b[0m\n",
      "\u001b[0;32m/home/shouldsee/.local/lib/python2.7/site-packages/keras/models.pyc\u001b[0m in \u001b[0;36mload_model\u001b[0;34m(filepath, custom_objects)\u001b[0m\n\u001b[1;32m    236\u001b[0m     \u001b[0mmodel_config\u001b[0m \u001b[0;34m=\u001b[0m \u001b[0mf\u001b[0m\u001b[0;34m.\u001b[0m\u001b[0mattrs\u001b[0m\u001b[0;34m.\u001b[0m\u001b[0mget\u001b[0m\u001b[0;34m(\u001b[0m\u001b[0;34m'model_config'\u001b[0m\u001b[0;34m)\u001b[0m\u001b[0;34m\u001b[0m\u001b[0m\n\u001b[1;32m    237\u001b[0m     \u001b[0;32mif\u001b[0m \u001b[0mmodel_config\u001b[0m \u001b[0;32mis\u001b[0m \u001b[0mNone\u001b[0m\u001b[0;34m:\u001b[0m\u001b[0;34m\u001b[0m\u001b[0m\n\u001b[0;32m--> 238\u001b[0;31m         \u001b[0;32mraise\u001b[0m \u001b[0mValueError\u001b[0m\u001b[0;34m(\u001b[0m\u001b[0;34m'No model found in config file.'\u001b[0m\u001b[0;34m)\u001b[0m\u001b[0;34m\u001b[0m\u001b[0m\n\u001b[0m\u001b[1;32m    239\u001b[0m     \u001b[0mmodel_config\u001b[0m \u001b[0;34m=\u001b[0m \u001b[0mjson\u001b[0m\u001b[0;34m.\u001b[0m\u001b[0mloads\u001b[0m\u001b[0;34m(\u001b[0m\u001b[0mmodel_config\u001b[0m\u001b[0;34m.\u001b[0m\u001b[0mdecode\u001b[0m\u001b[0;34m(\u001b[0m\u001b[0;34m'utf-8'\u001b[0m\u001b[0;34m)\u001b[0m\u001b[0;34m)\u001b[0m\u001b[0;34m\u001b[0m\u001b[0m\n\u001b[1;32m    240\u001b[0m     \u001b[0mmodel\u001b[0m \u001b[0;34m=\u001b[0m \u001b[0mmodel_from_config\u001b[0m\u001b[0;34m(\u001b[0m\u001b[0mmodel_config\u001b[0m\u001b[0;34m,\u001b[0m \u001b[0mcustom_objects\u001b[0m\u001b[0;34m=\u001b[0m\u001b[0mcustom_objects\u001b[0m\u001b[0;34m)\u001b[0m\u001b[0;34m\u001b[0m\u001b[0m\n",
      "\u001b[0;31mValueError\u001b[0m: No model found in config file."
     ]
    }
   ],
   "source": [
    "AgentName = 'pong_minimal-s3'\n",
    "agent = PGAgent(6400, 6,AgentName=AgentName)\n",
    "agent.load()\n",
    "agent.summary()"
   ]
  },
  {
   "cell_type": "code",
   "execution_count": 2,
   "metadata": {},
   "outputs": [
    {
     "name": "stderr",
     "output_type": "stream",
     "text": [
      "[2017-06-18 16:17:17,348] Making new env: Pong-v0\n"
     ]
    },
    {
     "name": "stdout",
     "output_type": "stream",
     "text": [
      "_________________________________________________________________\n",
      "Layer (type)                 Output Shape              Param #   \n",
      "=================================================================\n",
      "reshape_2 (Reshape)          (None, 80, 80, 1)         0         \n",
      "_________________________________________________________________\n",
      "conv2d_6 (Conv2D)            (None, 27, 27, 25)        925       \n",
      "_________________________________________________________________\n",
      "conv2d_7 (Conv2D)            (None, 27, 27, 5)         4505      \n",
      "_________________________________________________________________\n",
      "conv2d_8 (Conv2D)            (None, 27, 27, 5)         905       \n",
      "_________________________________________________________________\n",
      "conv2d_9 (Conv2D)            (None, 27, 27, 5)         905       \n",
      "_________________________________________________________________\n",
      "conv2d_10 (Conv2D)           (None, 27, 27, 5)         905       \n",
      "_________________________________________________________________\n",
      "flatten_2 (Flatten)          (None, 3645)              0         \n",
      "_________________________________________________________________\n",
      "dense_2 (Dense)              (None, 6)                 21876     \n",
      "=================================================================\n",
      "Total params: 30,021\n",
      "Trainable params: 30,021\n",
      "Non-trainable params: 0\n",
      "_________________________________________________________________\n"
     ]
    },
    {
     "name": "stderr",
     "output_type": "stream",
     "text": [
      "/home/shouldsee/.local/lib/python2.7/site-packages/ipykernel_launcher.py:29: UserWarning: Update your `Conv2D` call to the Keras 2 API: `Conv2D(25, (6, 6), kernel_initializer=\"he_uniform\", activation=\"relu\", padding=\"same\", strides=(3, 3))`\n",
      "/home/shouldsee/.local/lib/python2.7/site-packages/ipykernel_launcher.py:31: UserWarning: Update your `Conv2D` call to the Keras 2 API: `Conv2D(5, (6, 6), kernel_initializer=\"he_uniform\", activation=\"relu\", padding=\"same\", strides=(1, 1))`\n",
      "/home/shouldsee/.local/lib/python2.7/site-packages/ipykernel_launcher.py:33: UserWarning: Update your `Conv2D` call to the Keras 2 API: `Conv2D(5, (6, 6), kernel_initializer=\"he_uniform\", activation=\"relu\", padding=\"same\", strides=(1, 1))`\n",
      "/home/shouldsee/.local/lib/python2.7/site-packages/ipykernel_launcher.py:35: UserWarning: Update your `Conv2D` call to the Keras 2 API: `Conv2D(5, (6, 6), kernel_initializer=\"he_uniform\", activation=\"relu\", padding=\"same\", strides=(1, 1))`\n",
      "/home/shouldsee/.local/lib/python2.7/site-packages/ipykernel_launcher.py:37: UserWarning: Update your `Conv2D` call to the Keras 2 API: `Conv2D(5, (6, 6), kernel_initializer=\"he_uniform\", activation=\"relu\", padding=\"same\", strides=(1, 1))`\n"
     ]
    }
   ],
   "source": [
    "if __name__ == \"__main__\":\n",
    "    env = gym.make(\"Pong-v0\")\n",
    "    state = env.reset()\n",
    "    prev_x = None\n",
    "    score = 0\n",
    "    episode = 0\n",
    "\n",
    "    state_size = 80 * 80\n",
    "    action_size = env.action_space.n\n",
    "    agent = PGAgent(state_size, action_size)\n",
    "    \n",
    "agent.summary();"
   ]
  },
  {
   "cell_type": "code",
   "execution_count": 3,
   "metadata": {},
   "outputs": [
    {
     "name": "stderr",
     "output_type": "stream",
     "text": [
      "[2017-06-18 16:17:17,913] Making new env: Pong-v0\n",
      "/home/shouldsee/.local/lib/python2.7/site-packages/ipykernel_launcher.py:29: UserWarning: Update your `Conv2D` call to the Keras 2 API: `Conv2D(25, (6, 6), kernel_initializer=\"he_uniform\", activation=\"relu\", padding=\"same\", strides=(3, 3))`\n",
      "/home/shouldsee/.local/lib/python2.7/site-packages/ipykernel_launcher.py:31: UserWarning: Update your `Conv2D` call to the Keras 2 API: `Conv2D(5, (6, 6), kernel_initializer=\"he_uniform\", activation=\"relu\", padding=\"same\", strides=(1, 1))`\n",
      "/home/shouldsee/.local/lib/python2.7/site-packages/ipykernel_launcher.py:33: UserWarning: Update your `Conv2D` call to the Keras 2 API: `Conv2D(5, (6, 6), kernel_initializer=\"he_uniform\", activation=\"relu\", padding=\"same\", strides=(1, 1))`\n",
      "/home/shouldsee/.local/lib/python2.7/site-packages/ipykernel_launcher.py:35: UserWarning: Update your `Conv2D` call to the Keras 2 API: `Conv2D(5, (6, 6), kernel_initializer=\"he_uniform\", activation=\"relu\", padding=\"same\", strides=(1, 1))`\n",
      "/home/shouldsee/.local/lib/python2.7/site-packages/ipykernel_launcher.py:37: UserWarning: Update your `Conv2D` call to the Keras 2 API: `Conv2D(5, (6, 6), kernel_initializer=\"he_uniform\", activation=\"relu\", padding=\"same\", strides=(1, 1))`\n"
     ]
    }
   ],
   "source": [
    "if __name__ == \"__main__\":\n",
    "    env = gym.make(\"Pong-v0\")\n",
    "    state = env.reset()\n",
    "    prev_x = None\n",
    "    score = 0\n",
    "    episode = 0\n",
    "\n",
    "    state_size = 80 * 80\n",
    "    action_size = env.action_space.n\n",
    "    agent = PGAgent(state_size, action_size)\n",
    "#     agent.summary();\n",
    "\n",
    "AgentName = 'pong_minimal-s5L1c'\n",
    "AgentFile = 'Models/%s.h5'%AgentName;\n",
    "LogName = 'Models/%s.log'%AgentName;\n",
    "# LogFile = open(LogName,'a');\n",
    "resume = 1;\n",
    "render = 0;\n",
    "usegpu = 0;\n",
    "# agent.readlog(LogName)\n",
    "# print(agent.episode)"
   ]
  },
  {
   "cell_type": "code",
   "execution_count": null,
   "metadata": {
    "collapsed": true
   },
   "outputs": [],
   "source": [
    "from sklearn.decomposition import PCA\n",
    "pca = PCA(n_components = 1)AgentName = 'pong_minimal-s5L2'\n",
    "agent = PGAgent(state_size, action_size,AgentName=AgentName)\n",
    "# agent.newlog()\n",
    "nb_episode = 1000;\n",
    "main(agent) \n",
    "\n",
    "\n",
    "%load_ext line_profiler\n",
    "%lprun -f main main(agent,verbose = 0) "
   ]
  },
  {
   "cell_type": "code",
   "execution_count": null,
   "metadata": {},
   "outputs": [
    {
     "name": "stderr",
     "output_type": "stream",
     "text": [
      "[2017-06-18 16:17:18,860] Making new env: Pong-v0\n",
      "/home/shouldsee/.local/lib/python2.7/site-packages/ipykernel_launcher.py:29: UserWarning: Update your `Conv2D` call to the Keras 2 API: `Conv2D(25, (6, 6), kernel_initializer=\"he_uniform\", activation=\"relu\", padding=\"same\", strides=(3, 3))`\n",
      "/home/shouldsee/.local/lib/python2.7/site-packages/ipykernel_launcher.py:31: UserWarning: Update your `Conv2D` call to the Keras 2 API: `Conv2D(5, (6, 6), kernel_initializer=\"he_uniform\", activation=\"relu\", padding=\"same\", strides=(1, 1))`\n",
      "/home/shouldsee/.local/lib/python2.7/site-packages/ipykernel_launcher.py:33: UserWarning: Update your `Conv2D` call to the Keras 2 API: `Conv2D(5, (6, 6), kernel_initializer=\"he_uniform\", activation=\"relu\", padding=\"same\", strides=(1, 1))`\n",
      "/home/shouldsee/.local/lib/python2.7/site-packages/ipykernel_launcher.py:35: UserWarning: Update your `Conv2D` call to the Keras 2 API: `Conv2D(5, (6, 6), kernel_initializer=\"he_uniform\", activation=\"relu\", padding=\"same\", strides=(1, 1))`\n",
      "/home/shouldsee/.local/lib/python2.7/site-packages/ipykernel_launcher.py:37: UserWarning: Update your `Conv2D` call to the Keras 2 API: `Conv2D(5, (6, 6), kernel_initializer=\"he_uniform\", activation=\"relu\", padding=\"same\", strides=(1, 1))`\n"
     ]
    },
    {
     "name": "stdout",
     "output_type": "stream",
     "text": [
      "Episode\t454\tScore\t-20.000000\tlargest_variance\t0.000000\tall_var\t0.008649\tL1_norm\t0.002278\n",
      "Episode\t455\tScore\t-21.000000\tlargest_variance\t0.000000\tall_var\t0.007946\tL1_norm\t0.001605\n",
      "Episode\t456\tScore\t-19.000000\tlargest_variance\t0.000000\tall_var\t0.006634\tL1_norm\t0.001717\n",
      "Episode\t457\tScore\t-20.000000\tlargest_variance\t0.000000\tall_var\t0.007205\tL1_norm\t0.001503\n",
      "Episode\t458\tScore\t-20.000000\tlargest_variance\t0.000000\tall_var\t0.007296\tL1_norm\t0.001223\n",
      "Episode\t459\tScore\t-18.000000\tlargest_variance\t0.000000\tall_var\t0.007179\tL1_norm\t0.001081\n",
      "Episode\t460\tScore\t-16.000000\tlargest_variance\t0.000000\tall_var\t0.007370\tL1_norm\t0.001420\n",
      "Episode\t461\tScore\t-14.000000\tlargest_variance\t0.000000\tall_var\t0.007352\tL1_norm\t0.000679\n",
      "Episode\t462\tScore\t-21.000000\tlargest_variance\t0.000000\tall_var\t0.008469\tL1_norm\t0.001036\n",
      "Episode\t463\tScore\t-21.000000\tlargest_variance\t0.000000\tall_var\t0.007432\tL1_norm\t0.001403\n",
      "Episode\t464\tScore\t-20.000000\tlargest_variance\t0.000000\tall_var\t0.011075\tL1_norm\t0.001268\n",
      "Episode\t465\tScore\t-21.000000\tlargest_variance\t0.000000\tall_var\t0.009243\tL1_norm\t0.002544\n",
      "Episode\t466\tScore\t-21.000000\tlargest_variance\t0.000000\tall_var\t0.007914\tL1_norm\t0.001290\n",
      "Episode\t467\tScore\t-21.000000\tlargest_variance\t0.000000\tall_var\t0.008516\tL1_norm\t0.000915\n",
      "Episode\t468\tScore\t-18.000000\tlargest_variance\t0.000000\tall_var\t0.008608\tL1_norm\t0.001469\n",
      "Episode\t469\tScore\t-19.000000\tlargest_variance\t0.000000\tall_var\t0.007739\tL1_norm\t0.000954\n",
      "Episode\t470\tScore\t-19.000000\tlargest_variance\t0.000000\tall_var\t0.006749\tL1_norm\t0.002051\n",
      "Episode\t471\tScore\t-20.000000\tlargest_variance\t0.000000\tall_var\t0.006147\tL1_norm\t0.000939\n",
      "Episode\t472\tScore\t-20.000000\tlargest_variance\t0.000000\tall_var\t0.006992\tL1_norm\t0.001805\n",
      "Episode\t473\tScore\t-16.000000\tlargest_variance\t0.000000\tall_var\t0.007332\tL1_norm\t0.001204\n",
      "Episode\t474\tScore\t-20.000000\tlargest_variance\t0.000000\tall_var\t0.006694\tL1_norm\t0.001220\n",
      "Episode\t475\tScore\t-20.000000\tlargest_variance\t0.000000\tall_var\t0.008029\tL1_norm\t0.001823\n",
      "Episode\t476\tScore\t-18.000000\tlargest_variance\t0.000000\tall_var\t0.007121\tL1_norm\t0.001334\n",
      "Episode\t477\tScore\t-19.000000\tlargest_variance\t0.000000\tall_var\t0.006379\tL1_norm\t0.000695\n",
      "Episode\t478\tScore\t-20.000000\tlargest_variance\t0.000000\tall_var\t0.008757\tL1_norm\t0.001859\n",
      "Episode\t479\tScore\t-21.000000\tlargest_variance\t0.000000\tall_var\t0.007812\tL1_norm\t0.001926\n",
      "Episode\t480\tScore\t-20.000000\tlargest_variance\t0.000000\tall_var\t0.007833\tL1_norm\t0.002490\n",
      "Episode\t481\tScore\t-21.000000\tlargest_variance\t0.000000\tall_var\t0.008550\tL1_norm\t0.001655\n",
      "Episode\t482\tScore\t-21.000000\tlargest_variance\t0.000000\tall_var\t0.006870\tL1_norm\t0.000579\n",
      "Episode\t483\tScore\t-21.000000\tlargest_variance\t0.000000\tall_var\t0.008858\tL1_norm\t0.000935\n",
      "Episode\t484\tScore\t-21.000000\tlargest_variance\t0.000000\tall_var\t0.009980\tL1_norm\t0.004403\n",
      "Episode\t485\tScore\t-21.000000\tlargest_variance\t0.000000\tall_var\t0.009700\tL1_norm\t0.000926\n",
      "Episode\t486\tScore\t-21.000000\tlargest_variance\t0.000000\tall_var\t0.008307\tL1_norm\t0.001020\n",
      "Episode\t487\tScore\t-20.000000\tlargest_variance\t0.000000\tall_var\t0.009649\tL1_norm\t0.001915\n",
      "Episode\t488\tScore\t-21.000000\tlargest_variance\t0.000000\tall_var\t0.010022\tL1_norm\t0.002892\n",
      "Episode\t489\tScore\t-21.000000\tlargest_variance\t0.000000\tall_var\t0.010191\tL1_norm\t0.002683\n",
      "Episode\t490\tScore\t-21.000000\tlargest_variance\t0.000000\tall_var\t0.009799\tL1_norm\t0.001997\n",
      "Episode\t491\tScore\t-21.000000\tlargest_variance\t0.000000\tall_var\t0.010159\tL1_norm\t0.001980\n",
      "Episode\t492\tScore\t-20.000000\tlargest_variance\t0.000000\tall_var\t0.007632\tL1_norm\t0.001282\n",
      "Episode\t493\tScore\t-21.000000\tlargest_variance\t0.000000\tall_var\t0.006024\tL1_norm\t0.002456\n",
      "Episode\t494\tScore\t-19.000000\tlargest_variance\t0.000000\tall_var\t0.008086\tL1_norm\t0.001479\n",
      "Episode\t495\tScore\t-21.000000\tlargest_variance\t0.000000\tall_var\t0.007450\tL1_norm\t0.001048\n",
      "Episode\t496\tScore\t-18.000000\tlargest_variance\t0.000000\tall_var\t0.008212\tL1_norm\t0.000802\n"
     ]
    }
   ],
   "source": [
    "if __name__ == \"__main__\":\n",
    "    if not usegpu:\n",
    "        sess = tf.Session(config=tf.ConfigProto(log_device_placement=True, device_count = {'GPU': 0}))\n",
    "        K.set_session(sess)\n",
    "    env = gym.make(\"Pong-v0\")\n",
    "    state = env.reset()\n",
    "    prev_x = None\n",
    "    score = 0\n",
    "    episode = 0\n",
    "\n",
    "    state_size = 80 * 80\n",
    "    action_size = env.action_space.n\n",
    "    agent = PGAgent(state_size, action_size)\n",
    "#     agent.summary();\n",
    "    \n",
    "\n",
    "    if resume:AgentName = 'pong_minimal-s5L2'\n",
    "agent = PGAgent(state_size, action_size,AgentName=AgentName)\n",
    "# agent.newlog()\n",
    "nb_episode = 1000;\n",
    "main(agent) \n",
    "\n",
    "\n",
    "%load_ext line_profiler\n",
    "%lprun -f main main(agent,verbose = 0) \n",
    "        agent.load(AgentFile);\n",
    "        agent.readlog(LogName);\n",
    "        episode = agent.episode;\n",
    "    while episode > -1:\n",
    "        if render:\n",
    "            env.render()\n",
    "\n",
    "        cur_x = preprocess(state)\n",
    "        x = cur_x - prev_x if prev_x is not None else np.zeros(state_size)\n",
    "        prev_x = cur_x\n",
    "\n",
    "        action, prob = agent.act(np.expand_dims(x,1).T)\n",
    "        state, reward, done, info = env.step(action)\n",
    "        score += reward\n",
    "        agent.remember(x, action, prob, reward)\n",
    "        \n",
    "        if done:\n",
    "            episode += 1\n",
    "            rewards = np.vstack(agent.rewards)\n",
    "            rewards = agent.discount_rewards(rewards)\n",
    "            grads = np.vstack(agent.gradients);\n",
    "#             pca.fit (grads )\n",
    "#             lvar = pca.explained_variance_ratio_[0];\n",
    "            lvar = 0;\n",
    "            var_lst = np.var(grads,axis = 0);\n",
    "            L1_lst = abs(np.mean(grads,axis = 0));\n",
    "            L1_norm = np.mean(L1_lst)\n",
    "            all_var = np.mean(var_lst);            \n",
    "            \n",
    "            agent.train(rewards)\n",
    "            msg = '%s\\t%d\\t%s\\t%f\\t%s\\t%f\\t%s\\t%f\\t%s\\t%f' % ('Episode',episode,'Score', score,'largest_variance',lvar,'all_var',all_var,'L1_norm',L1_norm);\n",
    "            print(msg);\n",
    "            with open(LogName,'a+') as LogFile:\n",
    "                LogFile.write(msg+'\\n');\n",
    "            \n",
    "            score = 0\n",
    "            state = env.reset()\n",
    "            prev_x = None\n",
    "            if episode > 1 and episode % 10 == 0:\n",
    "                agent.save(AgentFile)"
   ]
  },
  {
   "cell_type": "code",
   "execution_count": null,
   "metadata": {
    "collapsed": true
   },
   "outputs": [],
   "source": [
    "pca.explained_variance_ratio_[0]"
   ]
  },
  {
   "cell_type": "code",
   "execution_count": null,
   "metadata": {
    "collapsed": true
   },
   "outputs": [],
   "source": [
    "# len(agent.probs)\n",
    "from sklearn.decomposition import PCA\n",
    "X = np.vstack(agent.gradients)\n",
    "pca = PCA(n_components = 1)\n",
    "pca.fit(X)\n",
    "print(pca.explained_variance_ratio_)"
   ]
  }
 ],
 "metadata": {
  "kernelspec": {
   "display_name": "Python 2",
   "language": "python",
   "name": "python2"
  },
  "language_info": {
   "codemirror_mode": {
    "name": "ipython",
    "version": 2
   },
   "file_extension": ".py",
   "mimetype": "text/x-python",
   "name": "python",
   "nbconvert_exporter": "python",
   "pygments_lexer": "ipython2",
   "version": "2.7.12"
  }
 },
 "nbformat": 4,
 "nbformat_minor": 2
}
