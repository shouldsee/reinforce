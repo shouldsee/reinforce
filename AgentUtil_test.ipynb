{
 "cells": [
  {
   "cell_type": "markdown",
   "metadata": {},
   "source": [
    "##### lst = [1,2,3];\n",
    "lst.index(1)"
   ]
  },
  {
   "cell_type": "code",
   "execution_count": 1,
   "metadata": {},
   "outputs": [
    {
     "name": "stderr",
     "output_type": "stream",
     "text": [
      "Using TensorFlow backend.\n",
      "[2017-06-20 12:01:20,713] Making new env: Pong-v0\n"
     ]
    },
    {
     "name": "stdout",
     "output_type": "stream",
     "text": [
      "_________________________________________________________________\n",
      "Layer (type)                 Output Shape              Param #   \n",
      "=================================================================\n",
      "reshape_1 (Reshape)          (None, 80, 80, 1)         0         \n",
      "_________________________________________________________________\n",
      "conv2d_1 (Conv2D)            (None, 27, 27, 25)        925       \n",
      "_________________________________________________________________\n",
      "conv2d_2 (Conv2D)            (None, 27, 27, 5)         4505      \n",
      "_________________________________________________________________\n",
      "conv2d_3 (Conv2D)            (None, 27, 27, 5)         905       \n",
      "_________________________________________________________________\n",
      "conv2d_4 (Conv2D)            (None, 27, 27, 5)         905       \n",
      "_________________________________________________________________\n",
      "flatten_1 (Flatten)          (None, 3645)              0         \n",
      "_________________________________________________________________\n",
      "dense_1 (Dense)              (None, 6)                 21876     \n",
      "=================================================================\n",
      "Total params: 29,116\n",
      "Trainable params: 29,116\n",
      "Non-trainable params: 0\n",
      "_________________________________________________________________\n"
     ]
    },
    {
     "name": "stderr",
     "output_type": "stream",
     "text": [
      "AgentUtil.py:40: UserWarning: Update your `Conv2D` call to the Keras 2 API: `Conv2D(25, (6, 6), kernel_initializer=\"he_uniform\", activation=\"relu\", padding=\"same\", strides=(3, 3))`\n",
      "  activation='relu', init='he_uniform'))\n",
      "AgentUtil.py:42: UserWarning: Update your `Conv2D` call to the Keras 2 API: `Conv2D(5, (6, 6), kernel_initializer=\"he_uniform\", activation=\"relu\", padding=\"same\", strides=(1, 1))`\n",
      "  activation='relu', init='he_uniform'))\n",
      "AgentUtil.py:44: UserWarning: Update your `Conv2D` call to the Keras 2 API: `Conv2D(5, (6, 6), kernel_initializer=\"he_uniform\", activation=\"relu\", padding=\"same\", strides=(1, 1))`\n",
      "  activation='relu', init='he_uniform'))\n",
      "AgentUtil.py:46: UserWarning: Update your `Conv2D` call to the Keras 2 API: `Conv2D(5, (6, 6), kernel_initializer=\"he_uniform\", activation=\"relu\", padding=\"same\", strides=(1, 1))`\n",
      "  activation='relu', init='he_uniform'))\n"
     ]
    }
   ],
   "source": [
    "import gym\n",
    "import numpy as np\n",
    "import tensorflow as tf\n",
    "from keras import backend as K\n",
    "from keras.models import Sequential,load_model\n",
    "from keras.layers import Dense, Reshape, Flatten\n",
    "from keras.optimizers import Adam\n",
    "from keras.layers.convolutional import Convolution2D\n",
    "from AgentUtil import *\n",
    "\n",
    "if __name__ == \"__main__\":\n",
    "    env = gym.make(\"Pong-v0\")\n",
    "    state = env.reset()\n",
    "    prev_x = None\n",
    "    score = 0\n",
    "    episode = 0\n",
    "\n",
    "    state_size = 80 * 80\n",
    "    action_size = env.action_space.n\n",
    "    agent = PGAgent(state_size, action_size)\n",
    "    \n",
    "agent.summary();"
   ]
  },
  {
   "cell_type": "code",
   "execution_count": 2,
   "metadata": {},
   "outputs": [
    {
     "name": "stdout",
     "output_type": "stream",
     "text": [
      "\n",
      "\n"
     ]
    }
   ],
   "source": [
    "print(str('\\n'))"
   ]
  },
  {
   "cell_type": "code",
   "execution_count": 3,
   "metadata": {
    "collapsed": true
   },
   "outputs": [],
   "source": [
    "import gym\n",
    "import numpy as np\n",
    "import tensorflow as tf\n",
    "from keras import backend as K\n",
    "from keras.models import Sequential,load_model\n",
    "from keras.layers import Dense, Reshape, Flatten\n",
    "from keras.optimizers import Adam\n",
    "from keras.layers.convolutional import Convolution2D\n",
    "\n",
    "def chunks(l, n):\n",
    "    \"\"\"Yield successive n-sized chunks from l.\"\"\"\n",
    "    if 1:\n",
    "        for i in range(0, len(l), n):\n",
    "    #         print(l.shape)\n",
    "    #         print(l[i:i + n,:].shape)\n",
    "    #         print('yield l[%d:%d + %d,:]'%(i,i,n))\n",
    "            yield l[i:i + n]\n",
    "\n",
    "class PGAgent:\n",
    "    def __init__(self, state_size, action_size,AgentName = 'tst'):\n",
    "#         self.AgentName = 'pong_minimal-s5L1b-tst'\n",
    "        self.name = AgentName\n",
    "        self.AgentFile = 'Models/%s.h5'%AgentName;\n",
    "        self.LogName = 'Models/%s.log'%AgentName;\n",
    "        self.state_size = state_size\n",
    "        self.action_size = action_size\n",
    "        self.gamma = 0.99\n",
    "        self.learning_rate = 0.001\n",
    "        self.states = []\n",
    "        self.gradients = []\n",
    "        self.rewards = []\n",
    "        self.probs = []\n",
    "        self.model = self._build_model()\n",
    "        self.summary = self.model.summary;\n",
    "\n",
    "    def _build_model(self):\n",
    "        model = Sequential()\n",
    "        model.add(Reshape((80, 80, 1), input_shape=(self.state_size,)))\n",
    "        model.add(Convolution2D(25, (6, 6), subsample=(3, 3), border_mode='same',\n",
    "                                activation='relu', init='he_uniform'))\n",
    "        model.add(Convolution2D(5, (6, 6), subsample=(1, 1), border_mode='same',\n",
    "                                activation='relu', init='he_uniform'))\n",
    "        model.add(Convolution2D(5, (6, 6), subsample=(1, 1), border_mode='same',\n",
    "                                activation='relu', init='he_uniform'))\n",
    "        model.add(Convolution2D(5, (6, 6), subsample=(1, 1), border_mode='same',\n",
    "                                activation='relu', init='he_uniform'))\n",
    "        model.add(Flatten())\n",
    "#         model.add(Dense(20, activation='relu', init='he_uniform'))\n",
    "#         model.add(Dense(20, activation='relu', init='he_uniform'))\n",
    "        model.add(Dense(self.action_size, activation='softmax'))\n",
    "        opt = Adam(lr=self.learning_rate)\n",
    "        model.compile(loss='categorical_crossentropy', optimizer=opt)\n",
    "        return model\n",
    "\n",
    "    def remember(self, state, action, prob, reward):\n",
    "        y = np.zeros([self.action_size])\n",
    "        y[action] = 1\n",
    "        self.gradients.append(np.array(y).astype('float32') - prob)\n",
    "        self.states.append(state)\n",
    "        self.rewards.append(reward)\n",
    "\n",
    "    def act(self, state):\n",
    "        # state = state.reshape([1, state.shape[0]])\n",
    "        aprob = self.model.predict(state, batch_size=1).flatten()\n",
    "        self.probs.append(aprob)\n",
    "        prob = aprob / np.sum(aprob)\n",
    "        action = np.random.choice(self.action_size, 1, p=prob)[0]\n",
    "        return action, prob\n",
    "\n",
    "    def discount_rewards(self, rewards):\n",
    "        discounted_rewards = np.zeros_like(rewards)\n",
    "        running_add = 0\n",
    "        for t in reversed(range(0, rewards.size)):\n",
    "            if rewards[t] != 0:\n",
    "                running_add = 0\n",
    "            running_add = running_add * self.gamma + rewards[t]\n",
    "            discounted_rewards[t] = running_add\n",
    "        return discounted_rewards\n",
    "\n",
    "    def train(self,rewards,batch_size = 2000,verbose = 0):\n",
    "        gradients = np.vstack(self.gradients)\n",
    "        # rewards = np.vstack(self.rewards)\n",
    "        # rewards = self.discount_rewards(rewards)\n",
    "#         rewards = (rewards - np.mean(rewards,keepdims=1)) / np.std(rewards)\n",
    "#         gradients *= rewards\n",
    "        \n",
    "#         X = np.squeeze(np.vstack([self.states]))\n",
    "#         Y = self.probs + self.learning_rate * np.squeeze(np.vstack([gradients]))\n",
    "        bmax = max(len(self.gradients)//batch_size,1)\n",
    "\n",
    "        states = np.vstack(self.states);\n",
    "        for b in range(bmax):\n",
    "            idxl = b*batch_size; idxr = (b+1)*batch_size;\n",
    "            rds = (rewards[idxl:idxr]);\n",
    "            rds = rds - np.mean(rds);\n",
    "            gds = gradients[idxl:idxr] * rds;\n",
    "            Y = self.probs[idxl:idxr] + self.learning_rate * np.squeeze(gds);\n",
    "            X = states[idxl:idxr];\n",
    "            self.model.train_on_batch(X, Y);\n",
    "\n",
    "        #### Method 1, obosolete\n",
    "#         Xgen = chunks(X,batch_size);\n",
    "#         Ygen = chunks(Y,batch_size);\n",
    "#         gen = (x for x in zip(Xgen,Ygen))\n",
    "# #         gen1 = ((x,y) for x,y in zip(chunks(X,batch_size).next(),chunks(Y,batch_size).next()))\n",
    "# #         print(gen1.next()[1].shape)\n",
    "# #         print(chunks(X,batch_size).next().shape)\n",
    "# #         print()\n",
    "# #         print(gen)\n",
    "# #         print(bmax)\n",
    "#         try:\n",
    "#             self.model.fit_generator(gen, steps_per_epoch = bmax, epochs = 1,verbose = verbose, max_q_size=1)\n",
    "#         except StopIteration:\n",
    "#             pass\n",
    "        \n",
    "        ### Method 2\n",
    "#         bmax = max(X.shape[0]//batch_size,1);\n",
    "#         for b in range(bmax):\n",
    "#             self.model.train_on_batch(X[b*batch_size:(b+1)*batch_size,:], Y[b*batch_size:(b+1)*batch_size,:])\n",
    "# #         self.model.fit(X,Y,  epochs = 1,verbose = verbose)\n",
    "    \n",
    "        self.states, self.probs, self.gradients, self.rewards = [], [], [], []\n",
    "\n",
    "    def load(self, fname=None):\n",
    "        if not fname:\n",
    "            fname = self.AgentFile;\n",
    "        global episode\n",
    "        self.model = load_model(fname);\n",
    "        self.summary = self.model.summary;\n",
    "        \n",
    "    def readlog(self, LogName=None):\n",
    "        if not LogName:\n",
    "            LogName = self.LogName;\n",
    "        with open(LogName,'rb') as f:\n",
    "                first = f.readline()      # Read the first line.\n",
    "                if not first.rstrip('\\n'):\n",
    "#                     print('nothing!')\n",
    "                    self.episode = 0;\n",
    "                else:\n",
    "                    f.seek(-2, 2)             # Jump to the second last byte.\n",
    "                    while f.read(1) != b\"\\n\": # Until EOL is found...\n",
    "                        f.seek(-2, 1)         # ...jump back the read byte plus one more.\n",
    "                    last = f.readline() \n",
    "                    lst = last.split('\\t');\n",
    "                    eind = lst.index('Episode')+1;\n",
    "                    self.episode = int(lst[eind]);\n",
    "\n",
    "    def save(self, fname=None):\n",
    "        if not fname:\n",
    "            fname = self.AgentFile;\n",
    "        self.model.save(fname);\n",
    "    def writelog(self, msg, LogName = None):\n",
    "        if not LogName:\n",
    "            LogName = self.LogName\n",
    "        with open(LogName,'a+') as LogFile:\n",
    "            LogFile.write(msg+'\\n');\n",
    "    def newlog(self):\n",
    "        open(self.LogName,'w').close();\n",
    "\n",
    "\n",
    "\n",
    "def main(agent, verbose = 1):\n",
    "    if __name__ == \"__main__\":\n",
    "        env = gym.make(\"Pong-v0\")\n",
    "        state = env.reset()\n",
    "        prev_x = None\n",
    "        score = 0\n",
    "        episode = 0\n",
    "    if resume:\n",
    "        agent.load();\n",
    "        agent.readlog();\n",
    "        episode = agent.episode;\n",
    "    while episode < agent.episode + nb_episode:\n",
    "        if render:\n",
    "                env.render()\n",
    "\n",
    "        cur_x = preprocess(state)\n",
    "        x = cur_x - prev_x if prev_x is not None else np.zeros(state_size)\n",
    "        prev_x = cur_x\n",
    "\n",
    "        action, prob = agent.act(np.expand_dims(x,1).T)\n",
    "        state, reward, done, info = env.step(action)\n",
    "        score += reward\n",
    "        agent.remember(x, action, prob, reward)\n",
    "\n",
    "        if done:\n",
    "            episode += 1\n",
    "            if render: break;\n",
    "            rewards = np.vstack(agent.rewards)\n",
    "            rewards = agent.discount_rewards(rewards)\n",
    "            grads = np.vstack(agent.gradients);\n",
    "    #             pca.fit (grads )\n",
    "    #             lvar = pca.explained_variance_ratio_[0];\n",
    "            lvar = 0;\n",
    "            var_lst = np.var(grads,axis = 0);\n",
    "            L1_lst = abs(np.mean(grads,axis = 0));\n",
    "            L1_norm = np.mean(L1_lst)\n",
    "            all_var = np.mean(var_lst);            \n",
    "\n",
    "            agent.train(rewards,batch_size = batch_size,verbose = max(verbose-1,0))\n",
    "            msg = '%s\\t%d\\t%s\\t%f\\t%s\\t%f\\t%s\\t%f\\t%s\\t%f' % ('Episode',episode,'Score', score,'largest_variance',lvar,'all_var',all_var,'L1_norm',L1_norm);\n",
    "            if verbose:\n",
    "                print(msg);\n",
    "            agent.writelog(msg)\n",
    "\n",
    "            score = 0\n",
    "            state = env.reset()\n",
    "            prev_x = None\n",
    "            if episode > 1 and episode % 10 == 0 and not render:\n",
    "                agent.save()\n",
    "    print('Agent: %s finshed trainning episode %d to %d'%(agent.name, agent.episode,episode))\n",
    "            \n",
    "def preprocess(I):\n",
    "    I = I[35:195]\n",
    "    I = I[::2, ::2, 0]\n",
    "    I[I == 144] = 0\n",
    "    I[I == 109] = 0\n",
    "    I[I != 0] = 1\n",
    "    return I.astype(np.float).ravel()\n",
    "\n",
    "\n",
    "normalise = lambda rewards: (rewards - np.mean(rewards,keepdims=1)) / np.std(rewards)\n",
    "# agent.summary();"
   ]
  },
  {
   "cell_type": "code",
   "execution_count": 4,
   "metadata": {},
   "outputs": [
    {
     "name": "stderr",
     "output_type": "stream",
     "text": [
      "[2017-06-20 12:01:22,028] Making new env: Pong-v0\n",
      "/home/shouldsee/.local/lib/python2.7/site-packages/ipykernel_launcher.py:40: UserWarning: Update your `Conv2D` call to the Keras 2 API: `Conv2D(25, (6, 6), kernel_initializer=\"he_uniform\", activation=\"relu\", padding=\"same\", strides=(3, 3))`\n",
      "/home/shouldsee/.local/lib/python2.7/site-packages/ipykernel_launcher.py:42: UserWarning: Update your `Conv2D` call to the Keras 2 API: `Conv2D(5, (6, 6), kernel_initializer=\"he_uniform\", activation=\"relu\", padding=\"same\", strides=(1, 1))`\n",
      "/home/shouldsee/.local/lib/python2.7/site-packages/ipykernel_launcher.py:44: UserWarning: Update your `Conv2D` call to the Keras 2 API: `Conv2D(5, (6, 6), kernel_initializer=\"he_uniform\", activation=\"relu\", padding=\"same\", strides=(1, 1))`\n",
      "/home/shouldsee/.local/lib/python2.7/site-packages/ipykernel_launcher.py:46: UserWarning: Update your `Conv2D` call to the Keras 2 API: `Conv2D(5, (6, 6), kernel_initializer=\"he_uniform\", activation=\"relu\", padding=\"same\", strides=(1, 1))`\n"
     ]
    }
   ],
   "source": [
    "if __name__ == \"__main__\":\n",
    "    env = gym.make(\"Pong-v0\")\n",
    "    state = env.reset()\n",
    "    prev_x = None\n",
    "    score = 0\n",
    "    episode = 0\n",
    "\n",
    "    state_size = 80 * 80\n",
    "    action_size = env.action_space.n\n",
    "    \n",
    "#     agent.summary();\n",
    "\n",
    "AgentName = 'pong_minimal-s5L1b-tst'\n",
    "# AgentFile = 'Models/%s.h5'%AgentName;\n",
    "# LogName = 'Models/%s.log'%AgentName;\n",
    "# LogFile = open(LogName,'a');\n",
    "resume = 1;\n",
    "render = 1;\n",
    "usegpu = 0;\n",
    "nb_episode = 5;\n",
    "batch_size = 1000;\n",
    "\n",
    "K.clear_session()\n",
    "if not usegpu:\n",
    "    sess = tf.Session(config=tf.ConfigProto(log_device_placement=True, device_count = {'GPU': 0}))\n",
    "    K.set_session(sess)\n",
    "else:\n",
    "    config = tf.ConfigProto(log_device_placement=True)\n",
    "    config.gpu_options.per_process_gpu_memory_fraction = 0.65\n",
    "    config.gpu_options.allow_growth=False\n",
    "    sess = tf.Session(config=config)\n",
    "    K.set_session(sess)\n",
    "\n",
    "agent = PGAgent(state_size, action_size,AgentName=AgentName)\n",
    "\n",
    "# agent.load()\n",
    "# agent.summary()\n",
    "# agent.readlog(LogName)\n",
    "# print(agent.episode)"
   ]
  },
  {
   "cell_type": "code",
   "execution_count": 5,
   "metadata": {},
   "outputs": [
    {
     "data": {
      "text/plain": [
       "(100, 1, 300)"
      ]
     },
     "execution_count": 5,
     "metadata": {},
     "output_type": "execute_result"
    }
   ],
   "source": [
    "c=np.ones((300,1,300));\n",
    "c[0:100,:].shape"
   ]
  },
  {
   "cell_type": "code",
   "execution_count": 6,
   "metadata": {
    "scrolled": true
   },
   "outputs": [
    {
     "name": "stderr",
     "output_type": "stream",
     "text": [
      "/home/shouldsee/.local/lib/python2.7/site-packages/ipykernel_launcher.py:40: UserWarning: Update your `Conv2D` call to the Keras 2 API: `Conv2D(25, (6, 6), kernel_initializer=\"he_uniform\", activation=\"relu\", padding=\"same\", strides=(3, 3))`\n",
      "/home/shouldsee/.local/lib/python2.7/site-packages/ipykernel_launcher.py:42: UserWarning: Update your `Conv2D` call to the Keras 2 API: `Conv2D(5, (6, 6), kernel_initializer=\"he_uniform\", activation=\"relu\", padding=\"same\", strides=(1, 1))`\n",
      "/home/shouldsee/.local/lib/python2.7/site-packages/ipykernel_launcher.py:44: UserWarning: Update your `Conv2D` call to the Keras 2 API: `Conv2D(5, (6, 6), kernel_initializer=\"he_uniform\", activation=\"relu\", padding=\"same\", strides=(1, 1))`\n",
      "/home/shouldsee/.local/lib/python2.7/site-packages/ipykernel_launcher.py:46: UserWarning: Update your `Conv2D` call to the Keras 2 API: `Conv2D(5, (6, 6), kernel_initializer=\"he_uniform\", activation=\"relu\", padding=\"same\", strides=(1, 1))`\n",
      "[2017-06-20 12:01:23,026] Making new env: Pong-v0\n"
     ]
    },
    {
     "ename": "ValueError",
     "evalue": "invalid literal for int() with base 10: 'None'",
     "output_type": "error",
     "traceback": [
      "\u001b[0;31m---------------------------------------------------------------------------\u001b[0m",
      "\u001b[0;31mValueError\u001b[0m                                Traceback (most recent call last)",
      "\u001b[0;32m<ipython-input-6-d55fbd16f248>\u001b[0m in \u001b[0;36m<module>\u001b[0;34m()\u001b[0m\n\u001b[1;32m      5\u001b[0m \u001b[0mbatch_size\u001b[0m \u001b[0;34m=\u001b[0m \u001b[0;36m1500\u001b[0m\u001b[0;34m;\u001b[0m\u001b[0;34m\u001b[0m\u001b[0m\n\u001b[1;32m      6\u001b[0m \u001b[0mnb_episode\u001b[0m \u001b[0;34m=\u001b[0m \u001b[0;36m2500\u001b[0m\u001b[0;34m;\u001b[0m\u001b[0;34m\u001b[0m\u001b[0m\n\u001b[0;32m----> 7\u001b[0;31m \u001b[0mmain\u001b[0m\u001b[0;34m(\u001b[0m\u001b[0magent\u001b[0m\u001b[0;34m,\u001b[0m\u001b[0mverbose\u001b[0m\u001b[0;34m=\u001b[0m\u001b[0;36m1\u001b[0m\u001b[0;34m)\u001b[0m\u001b[0;34m\u001b[0m\u001b[0m\n\u001b[0m\u001b[1;32m      8\u001b[0m \u001b[0;34m\u001b[0m\u001b[0m\n\u001b[1;32m      9\u001b[0m \u001b[0;31m# AgentName = 'pong_minimal-s5L0'\u001b[0m\u001b[0;34m\u001b[0m\u001b[0;34m\u001b[0m\u001b[0m\n",
      "\u001b[0;32m<ipython-input-3-6b1bbb1ad795>\u001b[0m in \u001b[0;36mmain\u001b[0;34m(agent, verbose)\u001b[0m\n\u001b[1;32m    173\u001b[0m     \u001b[0;32mwhile\u001b[0m \u001b[0mepisode\u001b[0m \u001b[0;34m<\u001b[0m \u001b[0magent\u001b[0m\u001b[0;34m.\u001b[0m\u001b[0mepisode\u001b[0m \u001b[0;34m+\u001b[0m \u001b[0mnb_episode\u001b[0m\u001b[0;34m:\u001b[0m\u001b[0;34m\u001b[0m\u001b[0m\n\u001b[1;32m    174\u001b[0m         \u001b[0;32mif\u001b[0m \u001b[0mrender\u001b[0m\u001b[0;34m:\u001b[0m\u001b[0;34m\u001b[0m\u001b[0m\n\u001b[0;32m--> 175\u001b[0;31m                 \u001b[0menv\u001b[0m\u001b[0;34m.\u001b[0m\u001b[0mrender\u001b[0m\u001b[0;34m(\u001b[0m\u001b[0;34m)\u001b[0m\u001b[0;34m\u001b[0m\u001b[0m\n\u001b[0m\u001b[1;32m    176\u001b[0m \u001b[0;34m\u001b[0m\u001b[0m\n\u001b[1;32m    177\u001b[0m         \u001b[0mcur_x\u001b[0m \u001b[0;34m=\u001b[0m \u001b[0mpreprocess\u001b[0m\u001b[0;34m(\u001b[0m\u001b[0mstate\u001b[0m\u001b[0;34m)\u001b[0m\u001b[0;34m\u001b[0m\u001b[0m\n",
      "\u001b[0;32m/home/shouldsee/.local/lib/python2.7/site-packages/gym/core.pyc\u001b[0m in \u001b[0;36mrender\u001b[0;34m(self, mode, close)\u001b[0m\n\u001b[1;32m    151\u001b[0m             \u001b[0;32melif\u001b[0m \u001b[0mmode\u001b[0m \u001b[0;32mnot\u001b[0m \u001b[0;32min\u001b[0m \u001b[0mmodes\u001b[0m\u001b[0;34m:\u001b[0m\u001b[0;34m\u001b[0m\u001b[0m\n\u001b[1;32m    152\u001b[0m                 \u001b[0;32mraise\u001b[0m \u001b[0merror\u001b[0m\u001b[0;34m.\u001b[0m\u001b[0mUnsupportedMode\u001b[0m\u001b[0;34m(\u001b[0m\u001b[0;34m'Unsupported rendering mode: {}. (Supported modes for {}: {})'\u001b[0m\u001b[0;34m.\u001b[0m\u001b[0mformat\u001b[0m\u001b[0;34m(\u001b[0m\u001b[0mmode\u001b[0m\u001b[0;34m,\u001b[0m \u001b[0mself\u001b[0m\u001b[0;34m,\u001b[0m \u001b[0mmodes\u001b[0m\u001b[0;34m)\u001b[0m\u001b[0;34m)\u001b[0m\u001b[0;34m\u001b[0m\u001b[0m\n\u001b[0;32m--> 153\u001b[0;31m         \u001b[0;32mreturn\u001b[0m \u001b[0mself\u001b[0m\u001b[0;34m.\u001b[0m\u001b[0m_render\u001b[0m\u001b[0;34m(\u001b[0m\u001b[0mmode\u001b[0m\u001b[0;34m=\u001b[0m\u001b[0mmode\u001b[0m\u001b[0;34m,\u001b[0m \u001b[0mclose\u001b[0m\u001b[0;34m=\u001b[0m\u001b[0mclose\u001b[0m\u001b[0;34m)\u001b[0m\u001b[0;34m\u001b[0m\u001b[0m\n\u001b[0m\u001b[1;32m    154\u001b[0m \u001b[0;34m\u001b[0m\u001b[0m\n\u001b[1;32m    155\u001b[0m     \u001b[0;32mdef\u001b[0m \u001b[0mclose\u001b[0m\u001b[0;34m(\u001b[0m\u001b[0mself\u001b[0m\u001b[0;34m)\u001b[0m\u001b[0;34m:\u001b[0m\u001b[0;34m\u001b[0m\u001b[0m\n",
      "\u001b[0;32m/home/shouldsee/.local/lib/python2.7/site-packages/gym/core.pyc\u001b[0m in \u001b[0;36m_render\u001b[0;34m(self, mode, close)\u001b[0m\n\u001b[1;32m    283\u001b[0m \u001b[0;34m\u001b[0m\u001b[0m\n\u001b[1;32m    284\u001b[0m     \u001b[0;32mdef\u001b[0m \u001b[0m_render\u001b[0m\u001b[0;34m(\u001b[0m\u001b[0mself\u001b[0m\u001b[0;34m,\u001b[0m \u001b[0mmode\u001b[0m\u001b[0;34m=\u001b[0m\u001b[0;34m'human'\u001b[0m\u001b[0;34m,\u001b[0m \u001b[0mclose\u001b[0m\u001b[0;34m=\u001b[0m\u001b[0mFalse\u001b[0m\u001b[0;34m)\u001b[0m\u001b[0;34m:\u001b[0m\u001b[0;34m\u001b[0m\u001b[0m\n\u001b[0;32m--> 285\u001b[0;31m         \u001b[0;32mreturn\u001b[0m \u001b[0mself\u001b[0m\u001b[0;34m.\u001b[0m\u001b[0menv\u001b[0m\u001b[0;34m.\u001b[0m\u001b[0mrender\u001b[0m\u001b[0;34m(\u001b[0m\u001b[0mmode\u001b[0m\u001b[0;34m,\u001b[0m \u001b[0mclose\u001b[0m\u001b[0;34m)\u001b[0m\u001b[0;34m\u001b[0m\u001b[0m\n\u001b[0m\u001b[1;32m    286\u001b[0m \u001b[0;34m\u001b[0m\u001b[0m\n\u001b[1;32m    287\u001b[0m     \u001b[0;32mdef\u001b[0m \u001b[0m_close\u001b[0m\u001b[0;34m(\u001b[0m\u001b[0mself\u001b[0m\u001b[0;34m)\u001b[0m\u001b[0;34m:\u001b[0m\u001b[0;34m\u001b[0m\u001b[0m\n",
      "\u001b[0;32m/home/shouldsee/.local/lib/python2.7/site-packages/gym/core.pyc\u001b[0m in \u001b[0;36mrender\u001b[0;34m(self, mode, close)\u001b[0m\n\u001b[1;32m    151\u001b[0m             \u001b[0;32melif\u001b[0m \u001b[0mmode\u001b[0m \u001b[0;32mnot\u001b[0m \u001b[0;32min\u001b[0m \u001b[0mmodes\u001b[0m\u001b[0;34m:\u001b[0m\u001b[0;34m\u001b[0m\u001b[0m\n\u001b[1;32m    152\u001b[0m                 \u001b[0;32mraise\u001b[0m \u001b[0merror\u001b[0m\u001b[0;34m.\u001b[0m\u001b[0mUnsupportedMode\u001b[0m\u001b[0;34m(\u001b[0m\u001b[0;34m'Unsupported rendering mode: {}. (Supported modes for {}: {})'\u001b[0m\u001b[0;34m.\u001b[0m\u001b[0mformat\u001b[0m\u001b[0;34m(\u001b[0m\u001b[0mmode\u001b[0m\u001b[0;34m,\u001b[0m \u001b[0mself\u001b[0m\u001b[0;34m,\u001b[0m \u001b[0mmodes\u001b[0m\u001b[0;34m)\u001b[0m\u001b[0;34m)\u001b[0m\u001b[0;34m\u001b[0m\u001b[0m\n\u001b[0;32m--> 153\u001b[0;31m         \u001b[0;32mreturn\u001b[0m \u001b[0mself\u001b[0m\u001b[0;34m.\u001b[0m\u001b[0m_render\u001b[0m\u001b[0;34m(\u001b[0m\u001b[0mmode\u001b[0m\u001b[0;34m=\u001b[0m\u001b[0mmode\u001b[0m\u001b[0;34m,\u001b[0m \u001b[0mclose\u001b[0m\u001b[0;34m=\u001b[0m\u001b[0mclose\u001b[0m\u001b[0;34m)\u001b[0m\u001b[0;34m\u001b[0m\u001b[0m\n\u001b[0m\u001b[1;32m    154\u001b[0m \u001b[0;34m\u001b[0m\u001b[0m\n\u001b[1;32m    155\u001b[0m     \u001b[0;32mdef\u001b[0m \u001b[0mclose\u001b[0m\u001b[0;34m(\u001b[0m\u001b[0mself\u001b[0m\u001b[0;34m)\u001b[0m\u001b[0;34m:\u001b[0m\u001b[0;34m\u001b[0m\u001b[0m\n",
      "\u001b[0;32m/home/shouldsee/.local/lib/python2.7/site-packages/gym/envs/atari/atari_env.pyc\u001b[0m in \u001b[0;36m_render\u001b[0;34m(self, mode, close)\u001b[0m\n\u001b[1;32m    115\u001b[0m             \u001b[0;32mreturn\u001b[0m \u001b[0mimg\u001b[0m\u001b[0;34m\u001b[0m\u001b[0m\n\u001b[1;32m    116\u001b[0m         \u001b[0;32melif\u001b[0m \u001b[0mmode\u001b[0m \u001b[0;34m==\u001b[0m \u001b[0;34m'human'\u001b[0m\u001b[0;34m:\u001b[0m\u001b[0;34m\u001b[0m\u001b[0m\n\u001b[0;32m--> 117\u001b[0;31m             \u001b[0;32mfrom\u001b[0m \u001b[0mgym\u001b[0m\u001b[0;34m.\u001b[0m\u001b[0menvs\u001b[0m\u001b[0;34m.\u001b[0m\u001b[0mclassic_control\u001b[0m \u001b[0;32mimport\u001b[0m \u001b[0mrendering\u001b[0m\u001b[0;34m\u001b[0m\u001b[0m\n\u001b[0m\u001b[1;32m    118\u001b[0m             \u001b[0;32mif\u001b[0m \u001b[0mself\u001b[0m\u001b[0;34m.\u001b[0m\u001b[0mviewer\u001b[0m \u001b[0;32mis\u001b[0m \u001b[0mNone\u001b[0m\u001b[0;34m:\u001b[0m\u001b[0;34m\u001b[0m\u001b[0m\n\u001b[1;32m    119\u001b[0m                 \u001b[0mself\u001b[0m\u001b[0;34m.\u001b[0m\u001b[0mviewer\u001b[0m \u001b[0;34m=\u001b[0m \u001b[0mrendering\u001b[0m\u001b[0;34m.\u001b[0m\u001b[0mSimpleImageViewer\u001b[0m\u001b[0;34m(\u001b[0m\u001b[0;34m)\u001b[0m\u001b[0;34m\u001b[0m\u001b[0m\n",
      "\u001b[0;32m/home/shouldsee/.local/lib/python2.7/site-packages/gym/envs/classic_control/rendering.py\u001b[0m in \u001b[0;36m<module>\u001b[0;34m()\u001b[0m\n\u001b[1;32m     21\u001b[0m \u001b[0;34m\u001b[0m\u001b[0m\n\u001b[1;32m     22\u001b[0m \u001b[0;32mtry\u001b[0m\u001b[0;34m:\u001b[0m\u001b[0;34m\u001b[0m\u001b[0m\n\u001b[0;32m---> 23\u001b[0;31m     \u001b[0;32mfrom\u001b[0m \u001b[0mpyglet\u001b[0m\u001b[0;34m.\u001b[0m\u001b[0mgl\u001b[0m \u001b[0;32mimport\u001b[0m \u001b[0;34m*\u001b[0m\u001b[0;34m\u001b[0m\u001b[0m\n\u001b[0m\u001b[1;32m     24\u001b[0m \u001b[0;32mexcept\u001b[0m \u001b[0mImportError\u001b[0m \u001b[0;32mas\u001b[0m \u001b[0me\u001b[0m\u001b[0;34m:\u001b[0m\u001b[0;34m\u001b[0m\u001b[0m\n\u001b[1;32m     25\u001b[0m     \u001b[0mreraise\u001b[0m\u001b[0;34m(\u001b[0m\u001b[0mprefix\u001b[0m\u001b[0;34m=\u001b[0m\u001b[0;34m\"Error occured while running `from pyglet.gl import *`\"\u001b[0m\u001b[0;34m,\u001b[0m\u001b[0msuffix\u001b[0m\u001b[0;34m=\u001b[0m\u001b[0;34m\"HINT: make sure you have OpenGL install. On Ubuntu, you can run 'apt-get install python-opengl'. If you're running on a server, you may need a virtual frame buffer; something like this should work: 'xvfb-run -s \\\"-screen 0 1400x900x24\\\" python <your_script.py>'\"\u001b[0m\u001b[0;34m)\u001b[0m\u001b[0;34m\u001b[0m\u001b[0m\n",
      "\u001b[0;32m/home/shouldsee/.local/lib/python2.7/site-packages/pyglet/gl/__init__.pyc\u001b[0m in \u001b[0;36m<module>\u001b[0;34m()\u001b[0m\n\u001b[1;32m    234\u001b[0m     \u001b[0;31m# trickery is for circular import\u001b[0m\u001b[0;34m\u001b[0m\u001b[0;34m\u001b[0m\u001b[0m\n\u001b[1;32m    235\u001b[0m     \u001b[0m_pyglet\u001b[0m\u001b[0;34m.\u001b[0m\u001b[0mgl\u001b[0m \u001b[0;34m=\u001b[0m \u001b[0m_sys\u001b[0m\u001b[0;34m.\u001b[0m\u001b[0mmodules\u001b[0m\u001b[0;34m[\u001b[0m\u001b[0m__name__\u001b[0m\u001b[0;34m]\u001b[0m\u001b[0;34m\u001b[0m\u001b[0m\n\u001b[0;32m--> 236\u001b[0;31m     \u001b[0;32mimport\u001b[0m \u001b[0mpyglet\u001b[0m\u001b[0;34m.\u001b[0m\u001b[0mwindow\u001b[0m\u001b[0;34m\u001b[0m\u001b[0m\n\u001b[0m",
      "\u001b[0;32m/home/shouldsee/.local/lib/python2.7/site-packages/pyglet/window/__init__.pyc\u001b[0m in \u001b[0;36m<module>\u001b[0;34m()\u001b[0m\n\u001b[1;32m   1815\u001b[0m \u001b[0;32mif\u001b[0m \u001b[0;32mnot\u001b[0m \u001b[0m_is_epydoc\u001b[0m\u001b[0;34m:\u001b[0m\u001b[0;34m\u001b[0m\u001b[0m\n\u001b[1;32m   1816\u001b[0m     \u001b[0mpyglet\u001b[0m\u001b[0;34m.\u001b[0m\u001b[0mwindow\u001b[0m \u001b[0;34m=\u001b[0m \u001b[0msys\u001b[0m\u001b[0;34m.\u001b[0m\u001b[0mmodules\u001b[0m\u001b[0;34m[\u001b[0m\u001b[0m__name__\u001b[0m\u001b[0;34m]\u001b[0m\u001b[0;34m\u001b[0m\u001b[0m\n\u001b[0;32m-> 1817\u001b[0;31m     \u001b[0mgl\u001b[0m\u001b[0;34m.\u001b[0m\u001b[0m_create_shadow_window\u001b[0m\u001b[0;34m(\u001b[0m\u001b[0;34m)\u001b[0m\u001b[0;34m\u001b[0m\u001b[0m\n\u001b[0m",
      "\u001b[0;32m/home/shouldsee/.local/lib/python2.7/site-packages/pyglet/gl/__init__.pyc\u001b[0m in \u001b[0;36m_create_shadow_window\u001b[0;34m()\u001b[0m\n\u001b[1;32m    203\u001b[0m \u001b[0;34m\u001b[0m\u001b[0m\n\u001b[1;32m    204\u001b[0m     \u001b[0;32mfrom\u001b[0m \u001b[0mpyglet\u001b[0m\u001b[0;34m.\u001b[0m\u001b[0mwindow\u001b[0m \u001b[0;32mimport\u001b[0m \u001b[0mWindow\u001b[0m\u001b[0;34m\u001b[0m\u001b[0m\n\u001b[0;32m--> 205\u001b[0;31m     \u001b[0m_shadow_window\u001b[0m \u001b[0;34m=\u001b[0m \u001b[0mWindow\u001b[0m\u001b[0;34m(\u001b[0m\u001b[0mwidth\u001b[0m\u001b[0;34m=\u001b[0m\u001b[0;36m1\u001b[0m\u001b[0;34m,\u001b[0m \u001b[0mheight\u001b[0m\u001b[0;34m=\u001b[0m\u001b[0;36m1\u001b[0m\u001b[0;34m,\u001b[0m \u001b[0mvisible\u001b[0m\u001b[0;34m=\u001b[0m\u001b[0mFalse\u001b[0m\u001b[0;34m)\u001b[0m\u001b[0;34m\u001b[0m\u001b[0m\n\u001b[0m\u001b[1;32m    206\u001b[0m     \u001b[0m_shadow_window\u001b[0m\u001b[0;34m.\u001b[0m\u001b[0mswitch_to\u001b[0m\u001b[0;34m(\u001b[0m\u001b[0;34m)\u001b[0m\u001b[0;34m\u001b[0m\u001b[0m\n\u001b[1;32m    207\u001b[0m \u001b[0;34m\u001b[0m\u001b[0m\n",
      "\u001b[0;32m/home/shouldsee/.local/lib/python2.7/site-packages/pyglet/window/xlib/__init__.pyc\u001b[0m in \u001b[0;36m__init__\u001b[0;34m(self, *args, **kwargs)\u001b[0m\n\u001b[1;32m    161\u001b[0m                     \u001b[0mself\u001b[0m\u001b[0;34m.\u001b[0m\u001b[0m_event_handlers\u001b[0m\u001b[0;34m[\u001b[0m\u001b[0mmessage\u001b[0m\u001b[0;34m]\u001b[0m \u001b[0;34m=\u001b[0m \u001b[0mfunc\u001b[0m\u001b[0;34m\u001b[0m\u001b[0m\n\u001b[1;32m    162\u001b[0m \u001b[0;34m\u001b[0m\u001b[0m\n\u001b[0;32m--> 163\u001b[0;31m         \u001b[0msuper\u001b[0m\u001b[0;34m(\u001b[0m\u001b[0mXlibWindow\u001b[0m\u001b[0;34m,\u001b[0m \u001b[0mself\u001b[0m\u001b[0;34m)\u001b[0m\u001b[0;34m.\u001b[0m\u001b[0m__init__\u001b[0m\u001b[0;34m(\u001b[0m\u001b[0;34m*\u001b[0m\u001b[0margs\u001b[0m\u001b[0;34m,\u001b[0m \u001b[0;34m**\u001b[0m\u001b[0mkwargs\u001b[0m\u001b[0;34m)\u001b[0m\u001b[0;34m\u001b[0m\u001b[0m\n\u001b[0m\u001b[1;32m    164\u001b[0m \u001b[0;34m\u001b[0m\u001b[0m\n\u001b[1;32m    165\u001b[0m         \u001b[0;32mglobal\u001b[0m \u001b[0m_can_detect_autorepeat\u001b[0m\u001b[0;34m\u001b[0m\u001b[0m\n",
      "\u001b[0;32m/home/shouldsee/.local/lib/python2.7/site-packages/pyglet/window/__init__.pyc\u001b[0m in \u001b[0;36m__init__\u001b[0;34m(self, width, height, caption, resizable, style, fullscreen, visible, vsync, display, screen, config, context, mode)\u001b[0m\n\u001b[1;32m    503\u001b[0m                 None]:\n\u001b[1;32m    504\u001b[0m                 \u001b[0;32mtry\u001b[0m\u001b[0;34m:\u001b[0m\u001b[0;34m\u001b[0m\u001b[0m\n\u001b[0;32m--> 505\u001b[0;31m                     \u001b[0mconfig\u001b[0m \u001b[0;34m=\u001b[0m \u001b[0mscreen\u001b[0m\u001b[0;34m.\u001b[0m\u001b[0mget_best_config\u001b[0m\u001b[0;34m(\u001b[0m\u001b[0mtemplate_config\u001b[0m\u001b[0;34m)\u001b[0m\u001b[0;34m\u001b[0m\u001b[0m\n\u001b[0m\u001b[1;32m    506\u001b[0m                     \u001b[0;32mbreak\u001b[0m\u001b[0;34m\u001b[0m\u001b[0m\n\u001b[1;32m    507\u001b[0m                 \u001b[0;32mexcept\u001b[0m \u001b[0mNoSuchConfigException\u001b[0m\u001b[0;34m:\u001b[0m\u001b[0;34m\u001b[0m\u001b[0m\n",
      "\u001b[0;32m/home/shouldsee/.local/lib/python2.7/site-packages/pyglet/canvas/base.pyc\u001b[0m in \u001b[0;36mget_best_config\u001b[0;34m(self, template)\u001b[0m\n\u001b[1;32m    159\u001b[0m                     \u001b[0;32mpass\u001b[0m\u001b[0;34m\u001b[0m\u001b[0m\n\u001b[1;32m    160\u001b[0m         \u001b[0;32melse\u001b[0m\u001b[0;34m:\u001b[0m\u001b[0;34m\u001b[0m\u001b[0m\n\u001b[0;32m--> 161\u001b[0;31m             \u001b[0mconfigs\u001b[0m \u001b[0;34m=\u001b[0m \u001b[0mself\u001b[0m\u001b[0;34m.\u001b[0m\u001b[0mget_matching_configs\u001b[0m\u001b[0;34m(\u001b[0m\u001b[0mtemplate\u001b[0m\u001b[0;34m)\u001b[0m\u001b[0;34m\u001b[0m\u001b[0m\n\u001b[0m\u001b[1;32m    162\u001b[0m         \u001b[0;32mif\u001b[0m \u001b[0;32mnot\u001b[0m \u001b[0mconfigs\u001b[0m\u001b[0;34m:\u001b[0m\u001b[0;34m\u001b[0m\u001b[0m\n\u001b[1;32m    163\u001b[0m             \u001b[0;32mraise\u001b[0m \u001b[0mwindow\u001b[0m\u001b[0;34m.\u001b[0m\u001b[0mNoSuchConfigException\u001b[0m\u001b[0;34m(\u001b[0m\u001b[0;34m)\u001b[0m\u001b[0;34m\u001b[0m\u001b[0m\n",
      "\u001b[0;32m/home/shouldsee/.local/lib/python2.7/site-packages/pyglet/canvas/xlib.pyc\u001b[0m in \u001b[0;36mget_matching_configs\u001b[0;34m(self, template)\u001b[0m\n\u001b[1;32m    177\u001b[0m     \u001b[0;32mdef\u001b[0m \u001b[0mget_matching_configs\u001b[0m\u001b[0;34m(\u001b[0m\u001b[0mself\u001b[0m\u001b[0;34m,\u001b[0m \u001b[0mtemplate\u001b[0m\u001b[0;34m)\u001b[0m\u001b[0;34m:\u001b[0m\u001b[0;34m\u001b[0m\u001b[0m\n\u001b[1;32m    178\u001b[0m         \u001b[0mcanvas\u001b[0m \u001b[0;34m=\u001b[0m \u001b[0mXlibCanvas\u001b[0m\u001b[0;34m(\u001b[0m\u001b[0mself\u001b[0m\u001b[0;34m.\u001b[0m\u001b[0mdisplay\u001b[0m\u001b[0;34m,\u001b[0m \u001b[0mNone\u001b[0m\u001b[0;34m)\u001b[0m\u001b[0;34m\u001b[0m\u001b[0m\n\u001b[0;32m--> 179\u001b[0;31m         \u001b[0mconfigs\u001b[0m \u001b[0;34m=\u001b[0m \u001b[0mtemplate\u001b[0m\u001b[0;34m.\u001b[0m\u001b[0mmatch\u001b[0m\u001b[0;34m(\u001b[0m\u001b[0mcanvas\u001b[0m\u001b[0;34m)\u001b[0m\u001b[0;34m\u001b[0m\u001b[0m\n\u001b[0m\u001b[1;32m    180\u001b[0m         \u001b[0;31m# XXX deprecate\u001b[0m\u001b[0;34m\u001b[0m\u001b[0;34m\u001b[0m\u001b[0m\n\u001b[1;32m    181\u001b[0m         \u001b[0;32mfor\u001b[0m \u001b[0mconfig\u001b[0m \u001b[0;32min\u001b[0m \u001b[0mconfigs\u001b[0m\u001b[0;34m:\u001b[0m\u001b[0;34m\u001b[0m\u001b[0m\n",
      "\u001b[0;32m/home/shouldsee/.local/lib/python2.7/site-packages/pyglet/gl/xlib.pyc\u001b[0m in \u001b[0;36mmatch\u001b[0;34m(self, canvas)\u001b[0m\n\u001b[1;32m     27\u001b[0m \u001b[0;34m\u001b[0m\u001b[0m\n\u001b[1;32m     28\u001b[0m         \u001b[0minfo\u001b[0m \u001b[0;34m=\u001b[0m \u001b[0mglx_info\u001b[0m\u001b[0;34m.\u001b[0m\u001b[0mGLXInfo\u001b[0m\u001b[0;34m(\u001b[0m\u001b[0mx_display\u001b[0m\u001b[0;34m)\u001b[0m\u001b[0;34m\u001b[0m\u001b[0m\n\u001b[0;32m---> 29\u001b[0;31m         \u001b[0mhave_13\u001b[0m \u001b[0;34m=\u001b[0m \u001b[0minfo\u001b[0m\u001b[0;34m.\u001b[0m\u001b[0mhave_version\u001b[0m\u001b[0;34m(\u001b[0m\u001b[0;36m1\u001b[0m\u001b[0;34m,\u001b[0m \u001b[0;36m3\u001b[0m\u001b[0;34m)\u001b[0m\u001b[0;34m\u001b[0m\u001b[0m\n\u001b[0m\u001b[1;32m     30\u001b[0m         \u001b[0;32mif\u001b[0m \u001b[0mhave_13\u001b[0m\u001b[0;34m:\u001b[0m\u001b[0;34m\u001b[0m\u001b[0m\n\u001b[1;32m     31\u001b[0m             \u001b[0mconfig_class\u001b[0m \u001b[0;34m=\u001b[0m \u001b[0mXlibCanvasConfig13\u001b[0m\u001b[0;34m\u001b[0m\u001b[0m\n",
      "\u001b[0;32m/home/shouldsee/.local/lib/python2.7/site-packages/pyglet/gl/glx_info.pyc\u001b[0m in \u001b[0;36mhave_version\u001b[0;34m(self, major, minor)\u001b[0m\n\u001b[1;32m     87\u001b[0m \u001b[0;34m\u001b[0m\u001b[0m\n\u001b[1;32m     88\u001b[0m         \u001b[0mserver\u001b[0m \u001b[0;34m=\u001b[0m \u001b[0;34m[\u001b[0m\u001b[0mint\u001b[0m\u001b[0;34m(\u001b[0m\u001b[0mi\u001b[0m\u001b[0;34m)\u001b[0m \u001b[0;32mfor\u001b[0m \u001b[0mi\u001b[0m \u001b[0;32min\u001b[0m \u001b[0mserver_version\u001b[0m\u001b[0;34m.\u001b[0m\u001b[0msplit\u001b[0m\u001b[0;34m(\u001b[0m\u001b[0;34m'.'\u001b[0m\u001b[0;34m)\u001b[0m\u001b[0;34m]\u001b[0m\u001b[0;34m\u001b[0m\u001b[0m\n\u001b[0;32m---> 89\u001b[0;31m         \u001b[0mclient\u001b[0m \u001b[0;34m=\u001b[0m \u001b[0;34m[\u001b[0m\u001b[0mint\u001b[0m\u001b[0;34m(\u001b[0m\u001b[0mi\u001b[0m\u001b[0;34m)\u001b[0m \u001b[0;32mfor\u001b[0m \u001b[0mi\u001b[0m \u001b[0;32min\u001b[0m \u001b[0mclient_version\u001b[0m\u001b[0;34m.\u001b[0m\u001b[0msplit\u001b[0m\u001b[0;34m(\u001b[0m\u001b[0;34m'.'\u001b[0m\u001b[0;34m)\u001b[0m\u001b[0;34m]\u001b[0m\u001b[0;34m\u001b[0m\u001b[0m\n\u001b[0m\u001b[1;32m     90\u001b[0m         return (tuple(server) >= (major, minor) and \n\u001b[1;32m     91\u001b[0m                 tuple(client) >= (major, minor))\n",
      "\u001b[0;31mValueError\u001b[0m: invalid literal for int() with base 10: 'None'"
     ]
    }
   ],
   "source": [
    "# AgentName = 'pong_minimal-s5L1b-tst'\n",
    "AgentName = 'pong_minimal-s5L1_i4'\n",
    "\n",
    "agent = PGAgent(state_size, action_size,AgentName=AgentName)\n",
    "batch_size = 1500;\n",
    "nb_episode = 2500;\n",
    "main(agent,verbose=1) \n",
    "\n",
    "# AgentName = 'pong_minimal-s5L0'\n",
    "# agent = PGAgent(state_size, action_size,AgentName=AgentName)\n",
    "# main(agent) "
   ]
  },
  {
   "cell_type": "code",
   "execution_count": null,
   "metadata": {},
   "outputs": [],
   "source": [
    "env.reset()\n",
    "prev_x,_,_,_ = env.step(2)\n",
    "curr_x,_,_,_= env.step(2)\n",
    "x = preprocess(curr_x-prev_x)\n",
    "agent.act(np.expand_dims(x,0))"
   ]
  },
  {
   "cell_type": "code",
   "execution_count": null,
   "metadata": {
    "collapsed": true
   },
   "outputs": [],
   "source": []
  },
  {
   "cell_type": "code",
   "execution_count": null,
   "metadata": {
    "collapsed": true
   },
   "outputs": [],
   "source": [
    "agent.summary()"
   ]
  },
  {
   "cell_type": "code",
   "execution_count": null,
   "metadata": {
    "collapsed": true
   },
   "outputs": [],
   "source": [
    "a=chunks([1,5,6,7,8],4)\n",
    "a1=chunks([1,5,6,7,8],4)\n",
    "\n",
    "# print(a.__iter__())\n",
    "dir(a)\n",
    "# gen = chunks(zipped,batch_size)\n",
    "# sizeof(a)\n",
    "\n",
    "# a.__sizeof__()\n",
    "# print(a.__iter__())\n",
    "print(a.next())\n",
    "print(a.next())\n",
    "\n",
    "print(a.next())\n",
    "\n",
    "print(a.next())\n",
    "print(a.next())\n",
    "print(a.next())\n",
    "print(a.next())\n",
    "\n",
    "# a.next()\n",
    "# c = a[:]\n",
    "b = (x for x in zip(a.next(),a1.next()))\n",
    "print(b)\n",
    "# b"
   ]
  },
  {
   "cell_type": "code",
   "execution_count": null,
   "metadata": {
    "collapsed": true
   },
   "outputs": [],
   "source": [
    "\n",
    "# AgentName = 'pong_minimal-s5L0'\n",
    "# agent = PGAgent(state_size, action_size,AgentName=AgentName)\n",
    "# # agent.newlog()\n",
    "# nb_episode = 1000;\n",
    "# main(agent) \n",
    "\n",
    "\n",
    "# %load_ext line_profiler\n",
    "# %lprun -f main main(agent,verbose = 0) "
   ]
  },
  {
   "cell_type": "code",
   "execution_count": null,
   "metadata": {
    "collapsed": true
   },
   "outputs": [],
   "source": [
    "# AgentName = 'pong_minimal-s5L2'\n",
    "# agent = PGAgent(state_size, action_size,AgentName=AgentName)\n",
    "# # agent.newlog()\n",
    "# nb_episode = 1000;\n",
    "# main(agent) \n",
    "\n",
    "\n",
    "# %load_ext line_profiler\n",
    "# %lprun -f main main(agent,verbose = 0) "
   ]
  },
  {
   "cell_type": "code",
   "execution_count": null,
   "metadata": {
    "collapsed": true
   },
   "outputs": [],
   "source": [
    "# AgentName = 'pong_minimal-s5L3'\n",
    "# agent = PGAgent(state_size, action_size,AgentName=AgentName)\n",
    "# # agent.newlog()\n",
    "# nb_episode = 1000;\n",
    "# main(agent) \n",
    "\n",
    "\n",
    "# %load_ext line_profiler\n",
    "# %lprun -f main main(agent,verbose = 0) "
   ]
  },
  {
   "cell_type": "code",
   "execution_count": null,
   "metadata": {
    "collapsed": true
   },
   "outputs": [],
   "source": [
    "# ### Build model manually here\n",
    "# learning_rate = 0.001\n",
    "# model = Sequential()\n",
    "# model.add(Reshape((80, 80, 1), input_shape=(state_size,)))\n",
    "# model.add(Convolution2D(25, (6, 6), subsample=(3, 3), border_mode='same',\n",
    "#                         activation='relu', init='he_uniform'))\n",
    "# model.add(Convolution2D(5, (6, 6), subsample=(1, 1), border_mode='same',\n",
    "#                         activation='relu', init='he_uniform'))\n",
    "# # model.add(Convolution2D(5, (6, 6), subsample=(1, 1), border_mode='same',\n",
    "# #                         activation='relu', init='he_uniform'))\n",
    "# # model.add(Convolution2D(5, (6, 6), subsample=(1, 1), border_mode='same',\n",
    "# #                         activation='relu', init='he_uniform'))\n",
    "# model.add(Flatten())\n",
    "# #         model.add(Dense(20, activation='relu', init='he_uniform'))\n",
    "# #         model.add(Dense(20, activation='relu', init='he_uniform'))\n",
    "# model.add(Dense(action_size, activation='softmax'))\n",
    "# opt = Adam(lr=learning_rate)\n",
    "# model.compile(loss='categorical_crossentropy', optimizer=opt)\n",
    "\n",
    "# AgentName = 'pong_minimal-s5L0'\n",
    "# agent = PGAgent(state_size, action_size,AgentName=AgentName)\n",
    "# agent.model = model;\n",
    "# agent.save()\n"
   ]
  },
  {
   "cell_type": "code",
   "execution_count": null,
   "metadata": {
    "collapsed": true
   },
   "outputs": [],
   "source": [
    "from sklearn.decomposition import PCA\n",
    "pca = PCA(n_components = 1)\n",
    "\n"
   ]
  },
  {
   "cell_type": "code",
   "execution_count": null,
   "metadata": {
    "collapsed": true
   },
   "outputs": [],
   "source": []
  },
  {
   "cell_type": "code",
   "execution_count": null,
   "metadata": {
    "collapsed": true,
    "scrolled": false
   },
   "outputs": [],
   "source": [
    "%load_ext line_profiler\n",
    "\n",
    "%lprun -f main main() \n",
    "# > 'log/output.html'"
   ]
  },
  {
   "cell_type": "code",
   "execution_count": null,
   "metadata": {
    "collapsed": true
   },
   "outputs": [],
   "source": [
    "#         if render:\n",
    "#                 env.render()\n",
    "\n",
    "#         cur_x = preprocess(state)\n",
    "#         x = cur_x - prev_x if prev_x is not None else np.zeros(state_size)\n",
    "#         prev_x = cur_x\n",
    "\n",
    "#         action, prob = agent.act(np.expand_dims(x,1).T)\n",
    "#         state, reward, done, info = env.step(action)\n",
    "#         score += reward\n",
    "#         agent.remember(x, action, prob, reward)\n",
    "\n",
    "#         if done:\n",
    "#             episode += 1\n",
    "#             rewards = np.vstack(agent.rewards)\n",
    "#             rewards = agent.discount_rewards(rewards)\n",
    "#             grads = np.vstack(agent.gradients);\n",
    "#     #             pca.fit (grads )\n",
    "#     #             lvar = pca.explained_variance_ratio_[0];\n",
    "#             lvar = 0;\n",
    "#             var_lst = np.var(grads,axis = 0);\n",
    "#             L1_lst = abs(np.mean(grads,axis = 0));\n",
    "#             L1_norm = np.mean(L1_lst)\n",
    "#             all_var = np.mean(var_lst);            \n",
    "\n",
    "#             agent.train(rewards)\n",
    "#             msg = '%s\\t%d\\t%s\\t%f\\t%s\\t%f\\t%s\\t%f\\t%s\\t%f' % ('Episode',episode,'Score', score,'largest_variance',lvar,'all_var',all_var,'L1_norm',L1_norm);\n",
    "#             print(msg);\n",
    "#             with open(LogName,'a+') as LogFile:\n",
    "#                 LogFile.write(msg+'\\n');\n",
    "\n",
    "#             score = 0\n",
    "#             state = env.reset()\n",
    "#             prev_x = None\n",
    "#             if episode > 1 and episode % 10 == 0:\n",
    "#                 agent.save(AgentFile)"
   ]
  },
  {
   "cell_type": "code",
   "execution_count": null,
   "metadata": {
    "collapsed": true
   },
   "outputs": [],
   "source": [
    "# %lprun -f agent.act action, prob = agent.act(np.expand_dims(x,1).T)"
   ]
  },
  {
   "cell_type": "code",
   "execution_count": null,
   "metadata": {
    "collapsed": true
   },
   "outputs": [],
   "source": [
    "# # len(agent.probs)\n",
    "# from sklearn.decomposition import PCA\n",
    "# X = np.vstack(agent.gradients)\n",
    "# pca = PCA(n_components = 1)\n",
    "# pca.fit(X)\n",
    "# print(pca.explained_variance_ratio_)"
   ]
  }
 ],
 "metadata": {
  "kernelspec": {
   "display_name": "Python 2",
   "language": "python",
   "name": "python2"
  },
  "language_info": {
   "codemirror_mode": {
    "name": "ipython",
    "version": 2
   },
   "file_extension": ".py",
   "mimetype": "text/x-python",
   "name": "python",
   "nbconvert_exporter": "python",
   "pygments_lexer": "ipython2",
   "version": "2.7.12"
  }
 },
 "nbformat": 4,
 "nbformat_minor": 2
}
