{
 "cells": [
  {
   "cell_type": "code",
   "execution_count": 13,
   "metadata": {
    "collapsed": true
   },
   "outputs": [],
   "source": [
    "\"\"\" Trains an agent with (stochastic) Policy Gradients on Pong. Uses OpenAI Gym. \"\"\"\n",
    "import numpy as np\n",
    "import pickle as pickle\n",
    "import tensorflow as tf\n",
    "import gym\n",
    "from matplotlib import pyplot as plt\n",
    "from scipy.signal import convolve2d\n",
    "\n",
    "# hyperparameters\n",
    "H = 200 # number of hidden layer neurons\n",
    "batch_size = 10 # every how many episodes to do a param update?\n",
    "learning_rate = 1e-4\n",
    "gamma = 0.99 # discount factor for reward\n",
    "# gamma = 1-0.\n",
    "decay_rate = 0.99 # decay factor for RMSProp leaky sum of grad^2\n",
    "resume = True # resume from previous checkpoint?\n",
    "# resume = False;\n",
    "render = False\n",
    "# render = True\n",
    "backlen=20;\n",
    "\n",
    "def sigmoid(x): \n",
    "  return 1.0 / (1.0 + np.exp(-x)) # sigmoid \"squashing\" function to interval [0,1]\n",
    "\n",
    "def prepro(I):\n",
    "  \"\"\" prepro 210x160x3 uint8 frame into 6400 (80x80) 1D float vector \"\"\"\n",
    "  I = I[35:195] # crop\n",
    "  I = I[::2,::2,0] # downsample by factor of 2\n",
    "  I[I == 144] = 0 # erase background (background type 1)\n",
    "  I[I == 109] = 0 # erase background (background type 2)\n",
    "  I[I != 0] = 1 # everything else (paddles, ball) just set to 1\n",
    "  return I.astype(np.float).ravel()\n",
    "\n",
    "def discount_rewards(r):\n",
    "  \"\"\" take 1D float array of rewards and compute discounted reward \"\"\"\n",
    "  discounted_r = np.zeros_like(r)\n",
    "  running_add = 0\n",
    "  for t in reversed(xrange(0, r.size)):\n",
    "    if r[t] != 0: running_add = 0 # reset the sum, since this was a game boundary (pong specific!)\n",
    "    running_add = running_add * gamma + r[t]\n",
    "    discounted_r[t] = running_add\n",
    "  return discounted_r\n",
    "\n",
    "def policy_forward(x):\n",
    "  h = np.dot(model['W1'], x)\n",
    "  h[h<0] = 0 # ReLU nonlinearity\n",
    "  logp = np.dot(model['W2'], h)\n",
    "  p = sigmoid(logp)\n",
    "  return p, h # return probability of taking action 2, and hidden state\n",
    "\n",
    "def policy_backward(eph, epdlogp):\n",
    "  \"\"\" backward pass. (eph is array of intermediate hidden states) \"\"\"\n",
    "  dW2 = np.dot(eph.T, epdlogp).ravel()\n",
    "  dh = np.outer(epdlogp, model['W2'])\n",
    "  dh[eph <= 0] = 0 # backpro prelu\n",
    "  dW1 = np.dot(dh.T, epx)\n",
    "  return {'W1':dW1, 'W2':dW2}\n",
    "def lookback(lst):\n",
    "    lst = lst[-backlen:];\n",
    "#     np.pad(lst,(20-lst.size,), 'constant', constant_values=0);\n",
    "    if len(lst) != backlen:\n",
    "        lst = [None]*(backlen-len(lst)) + lst;\n",
    "    return(lst)\n",
    "\n",
    "def time_rewards(r):\n",
    "    \"\"\" take 1D float array of rewards and compute discounted reward \"\"\"\n",
    "    discounted_r = np.zeros_like(r)\n",
    "    running_add = 0\n",
    "    grad = 0;\n",
    "    for t in reversed(xrange(0, r.size)):\n",
    "#         grad = grad * gamma + r[t] ;\n",
    "        if r[t] != 0: \n",
    "            running_add = 0 # reset the sum, since this was a game boundary (pong specific!)\n",
    "            grad = 2 * (r[t] > 0) - 1; \n",
    "        running_add = running_add + grad;\n",
    "        discounted_r[t] = running_add\n",
    "    return discounted_r\n",
    "def quickax():\n",
    "    fig = plt.figure(figsize=[8,8])\n",
    "    ax1 = fig.add_subplot(221)\n",
    "    return ax1"
   ]
  },
  {
   "cell_type": "markdown",
   "metadata": {},
   "source": [
    "* Initiliase topology\n",
    "* set input and output\n",
    "* set optimiser\n",
    "* set routine\n"
   ]
  },
  {
   "cell_type": "code",
   "execution_count": 14,
   "metadata": {
    "collapsed": true
   },
   "outputs": [],
   "source": [
    "# tf.reset_default_graph()\n",
    "from keras.layers import Input, Dense, convolutional,core,concatenate,Flatten,Reshape,Concatenate\n",
    "from keras.models import Model,load_model\n",
    "from keras.models import model_from_json\n",
    "from keras import backend as K\n",
    "from PGAgent import PGAgent\n",
    "import keras\n",
    "\n",
    "def quickax():\n",
    "    fig = plt.figure(figsize=[8,8])\n",
    "    ax1 = fig.add_subplot(221)\n",
    "    return ax1\n",
    "def savemodel(m,ModelFile):\n",
    "    # serialize model to JSON\n",
    "    model_json = m.to_json()\n",
    "    with open(ModelFile+'.json', \"w\") as json_file:\n",
    "        json_file.write(model_json)\n",
    "    # serialize weights to HDF5\n",
    "    model.save_weights(ModelFile+'.h5')\n",
    "    pickle.dump(losshist,open(ModelFile+'.p', \"wb\"))\n",
    "    print(\"Saved model to disk at \"+ModelFile)\n",
    "# savemodel(model,ModelFile)\n",
    "\n",
    "# load json and create model\n",
    "def loadmodel(ModelFile):\n",
    "    global losshist,episode_number\n",
    "    json_file = open(ModelFile+'.json', 'r')\n",
    "    loaded_model_json = json_file.read()\n",
    "    json_file.close()\n",
    "    loaded_model = model_from_json(loaded_model_json)\n",
    "    # load weights into new model\n",
    "    loaded_model.load_weights(ModelFile+'.h5')\n",
    "#     print(\"Saved model to disk at \"+ModelFile)\n",
    "    losshist = pickle.load(open(ModelFile+'.p', 'rb'))\n",
    "    episode_number = len(losshist.losses);\n",
    "    print(\"Model loaded from disk at \"+ModelFile)\n",
    "    return(loaded_model)\n",
    "# model = loadmodel(ModelFile)\n",
    "class LossCallback(keras.callbacks.Callback):\n",
    "    def on_train_begin(self, logs={}):\n",
    "        self.losses = []\n",
    "\n",
    "    def on_batch_end(self, batch, logs={}):\n",
    "        self.losses.append(logs.get('loss'))\n",
    "class LossHist():\n",
    "    def __init__(self):\n",
    "        self.losses=[];\n",
    "    def add(self,n,loss):\n",
    "        l = len(self.losses);\n",
    "        if n == l+1:\n",
    "            self.losses.append(loss);\n",
    "        else:\n",
    "            self.losses += [0]*(n-l);\n",
    "            self.losses = self.losses[:n];\n",
    "            self.losses[n-1] = loss;\n",
    "            print('Loss history has changed ')\n",
    "    def vis(self,ax):\n",
    "        ax.plot(self.losses,'-');\n",
    "        pass\n",
    "\n",
    "def lossfunc(y_true,y_pred):\n",
    "    return K.mean(K.mean( K.square( y_pred / (K.abs(y_true)+1) - 1)  )); \n",
    "\n",
    "def rlossfunc(truelst,y_pred):\n",
    "    y_true,rsignal = truelst;\n",
    "    loglik = K.log(y_true*(y_true - y_pred) + (1 - y_true)*(y_true + y_pred));\n",
    "    loss = loglik * (- rsignal); \n",
    "    return K.mean(K.mean(loss)); \n",
    "\n",
    "# tpr=time_epr;\n",
    "def decouple(tpr):\n",
    "    tpr1=np.maximum(tpr,0);\n",
    "    tpr2=np.minimum(tpr,0);\n",
    "    tpr1[tpr1==0]=np.maximum(np.max(tpr1),20);\n",
    "    tpr2[tpr2==0]=np.minimum(np.min(tpr2),-20);\n",
    "    tpr2=-tpr2;\n",
    "    time_epr = np.hstack([tpr1,tpr2])\n",
    "    return(time_epr)\n",
    "\n",
    "\n",
    "def calc_expt(eptpred,rd=np.array([[1,-1]])):\n",
    "    prep = np.exp(-eptpred)\n",
    "    z = np.expand_dims(np.sum(prep,axis = 1),1);\n",
    "    rz = np.reciprocal(z)\n",
    "#     p = prep * z,;\n",
    "#     rd = np.array([[1,-1]]);\n",
    "    expt = (np.sum(prep*rd,axis = 1)*rz.T).T;\n",
    "    return expt\n",
    "\n"
   ]
  },
  {
   "cell_type": "code",
   "execution_count": 22,
   "metadata": {},
   "outputs": [
    {
     "name": "stderr",
     "output_type": "stream",
     "text": [
      "[2017-06-07 12:41:00,961] Making new env: Pong-v0\n"
     ]
    },
    {
     "name": "stdout",
     "output_type": "stream",
     "text": [
      "_________________________________________________________________\n",
      "Layer (type)                 Output Shape              Param #   \n",
      "=================================================================\n",
      "reshape_17 (Reshape)         (None, 1, 80, 80)         0         \n",
      "_________________________________________________________________\n",
      "conv2d_17 (Conv2D)           (None, 1, 27, 32)         92192     \n",
      "_________________________________________________________________\n",
      "flatten_17 (Flatten)         (None, 864)               0         \n",
      "_________________________________________________________________\n",
      "dense_44 (Dense)             (None, 64)                55360     \n",
      "_________________________________________________________________\n",
      "dense_45 (Dense)             (None, 32)                2080      \n",
      "_________________________________________________________________\n",
      "dense_46 (Dense)             (None, 6)                 198       \n",
      "=================================================================\n",
      "Total params: 149,830\n",
      "Trainable params: 149,830\n",
      "Non-trainable params: 0\n",
      "_________________________________________________________________\n",
      "____________________________________________________________________________________________________\n",
      "Layer (type)                     Output Shape          Param #     Connected to                     \n",
      "====================================================================================================\n",
      "input_9 (InputLayer)             (None, 6400)          0                                            \n",
      "____________________________________________________________________________________________________\n",
      "reshape_16 (Reshape)             (None, 80, 80, 1)     0           input_9[0][0]                    \n",
      "____________________________________________________________________________________________________\n",
      "conv2d_16 (Conv2D)               (None, 80, 80, 5)     85          reshape_16[0][0]                 \n",
      "____________________________________________________________________________________________________\n",
      "dense_42 (Dense)                 (None, 80, 80, 25)    150         conv2d_16[0][0]                  \n",
      "____________________________________________________________________________________________________\n",
      "flatten_16 (Flatten)             (None, 160000)        0           dense_42[0][0]                   \n",
      "____________________________________________________________________________________________________\n",
      "input_10 (InputLayer)            (None, 1)             0                                            \n",
      "____________________________________________________________________________________________________\n",
      "concatenate_5 (Concatenate)      (None, 160001)        0           flatten_16[0][0]                 \n",
      "                                                                   input_10[0][0]                   \n",
      "____________________________________________________________________________________________________\n",
      "dense_43 (Dense)                 (None, 2)             320004      concatenate_5[0][0]              \n",
      "====================================================================================================\n",
      "Total params: 320,239\n",
      "Trainable params: 320,239\n",
      "Non-trainable params: 0\n",
      "____________________________________________________________________________________________________\n"
     ]
    }
   ],
   "source": [
    "# model initialization\n",
    "resume = 1;\n",
    "# resume = True;\n",
    "render = False;\n",
    "render = True;\n",
    "H=5;\n",
    "k=4;\n",
    "# gamma = 0.99;\n",
    "gamma = .9;\n",
    "D1=80;D2=80;\n",
    "D = 80 * 80 # input dimensionality: 80x80 grid\n",
    "\n",
    "try:\n",
    "    del model\n",
    "except:    pass;\n",
    "x_input = Input(shape=(D,));\n",
    "po_input = Input(shape=(1,));\n",
    "conv1 = convolutional.Conv2D(filters=H,\n",
    "                             kernel_size=(k,k),\n",
    "                            strides=(1,1),\n",
    "                            padding='same',\n",
    "                            activation='relu')(Reshape((80, 80,1))(x_input))\n",
    "den1 = Flatten()(Dense(units=5*H,\n",
    "             activation='relu')(conv1))\n",
    "\n",
    "den1c = Concatenate()([den1,po_input]);\n",
    "\n",
    "score = Dense(units=2,\n",
    "              activation = 'relu')(den1c)\n",
    "\n",
    "model = Model(inputs=[x_input,po_input], outputs=[score])\n",
    "\n",
    "\n",
    "\n",
    "optimiser = keras.optimizers.RMSprop(lr=learning_rate, rho=0.9, epsilon=1e-08, decay=0.0)\n",
    "model.compile(optimizer='rmsprop',\n",
    "              loss=lossfunc)\n",
    "\n",
    "env = gym.make(\"Pong-v0\")\n",
    "observation = env.reset()\n",
    "\n",
    "action_size = env.action_space.n\n",
    "agent = PGAgent(D, action_size)\n",
    "\n",
    "\n",
    "\n",
    "# aconv1 = convolutional.Conv2D(filters=H,\n",
    "#                              kernel_size=(k,k),\n",
    "#                             strides=(1,1),\n",
    "#                             padding='same',\n",
    "#                             activation='relu')(x_input)\n",
    "# aden1 = Flatten()(Dense(units=5*H,\n",
    "#              activation='relu')(aconv1))\n",
    "# ascore = Dense(units=1,\n",
    "#               activation = 'sigmoid')(aden1)\n",
    "\n",
    "# model_actor = Model(inputs = [x_input,po_input], outputs=[ascore]);\n",
    "# model_actor.compile(optimizer='rmsprop',\n",
    "#               loss=rlossfunc)\n",
    "\n",
    "\n",
    "history = LossCallback()\n",
    "# log = model.fit([epx,epy], time_epr,callbacks=[history])\n",
    "# loss = model.train_on_batch([epx,epy], time_epr)\n",
    "# print(history.losses[-1])\n",
    "# x = Dense(64, activation='relu')(x_input)\n",
    "model.summary()\n",
    "\n",
    "\n",
    "T2P = lambda eptpred:(np.sqrt(eptpred*4+1) - 1)/(2*eptpred);\n",
    "normalise = lambda aprob,axis: aprob/np.sum(aprob,axis = axis,keepdims=1);\n",
    "def get_rsignal(self):\n",
    "    eptpred = np.vstack(self.tpreds);\n",
    "    rsignal = np.sum( normalise( T2P(eptpred),1) * np.array([[1.,-1.]]),axis = 1, keepdims=1);\n",
    "    return(rsignal)\n",
    "\n",
    "def merge_signal(epr,eptpred,loss):\n",
    "    rsign = discount_rewards(epr);\n",
    "    signal_critic = np.sum( normalise( T2P(eptpred),1) * np.array([[1.,-1.]]),axis = 1, keepdims=1);\n",
    "    rsignal = ((1.-loss)*signal_critic + loss*rsign);\n",
    "\n",
    "def merge_signal(epr,eptpred,loss):\n",
    "#     x = eptpred;\n",
    "#     x_diff = convolve2d(x,[[0.],[-1.],[1.]],mode='same');\n",
    "#     x_mean = convolve2d(x,[[0.],[.5],[.5]],mode='same');\n",
    "#     x_avg = np.mean(abs(x_diff)/x_mean,axis = 1,keepdims = 1);\n",
    "    rsign = discount_rewards(epr);\n",
    "#     sx_avg = x_avg * rsign;\n",
    "    signal_critic = np.sum( normalise( T2P(eptpred),1) * np.array([[1.,-1.]]),axis = 1, keepdims=1);\n",
    "    \n",
    "    rsignal = ((1.-loss)*signal_critic + loss*rsign);\n",
    "    return rsignal\n"
   ]
  },
  {
   "cell_type": "code",
   "execution_count": 21,
   "metadata": {},
   "outputs": [
    {
     "name": "stderr",
     "output_type": "stream",
     "text": [
      "/home/shouldsee/.local/lib/python2.7/site-packages/ipykernel_launcher.py:70: RuntimeWarning: invalid value encountered in divide\n"
     ]
    },
    {
     "data": {
      "text/plain": [
       "(1267, 1)"
      ]
     },
     "execution_count": 21,
     "metadata": {},
     "output_type": "execute_result"
    }
   ],
   "source": [
    "env.action_space.n\n",
    "eptpred.shape\n",
    "\n",
    "signal_critic = np.sum( normalise( T2P(eptpred),1) * np.array([[1.,-1.]]),axis = 1, keepdims=1);\n",
    "signal_critic.shape"
   ]
  },
  {
   "cell_type": "code",
   "execution_count": 11,
   "metadata": {
    "collapsed": true
   },
   "outputs": [],
   "source": [
    "# xinput.shape\n",
    "del model\n",
    "del agent\n",
    "del losshist"
   ]
  },
  {
   "cell_type": "code",
   "execution_count": 88,
   "metadata": {},
   "outputs": [
    {
     "data": {
      "text/plain": [
       "(0, 1.0300502315163613)"
      ]
     },
     "execution_count": 88,
     "metadata": {},
     "output_type": "execute_result"
    },
    {
     "data": {
      "image/png": "[encoded data removed]",
      "text/plain": [
       "<matplotlib.figure.Figure at 0x7f323c0bbf50>"
      ]
     },
     "metadata": {},
     "output_type": "display_data"
    }
   ],
   "source": [
    "# losshist_temp=losshist;\n",
    "\n",
    "ax = quickax();\n",
    "losses = losshist.losses;\n",
    "losshist = LossHist();\n",
    "losshist.losses = losses;\n",
    "losshist.vis(ax);\n",
    "ax.set_ylim(bottom=0)"
   ]
  },
  {
   "cell_type": "code",
   "execution_count": 13,
   "metadata": {},
   "outputs": [
    {
     "data": {
      "text/plain": [
       "80"
      ]
     },
     "execution_count": 13,
     "metadata": {},
     "output_type": "execute_result"
    },
    {
     "data": {
      "image/png": "[encoded data removed]",
      "text/plain": [
       "<matplotlib.figure.Figure at 0x7f137eed56d0>"
      ]
     },
     "metadata": {},
     "output_type": "display_data"
    }
   ],
   "source": [
    "# discount_rewards(epdlogp)\n",
    "x.size\n",
    "%matplotlib inline\n",
    "plt.close('all')\n",
    "fig=plt.figure(figsize=[5,5])\n",
    "ax1=plt.subplot()\n",
    "# ax1.plot(time_epr)\n",
    "# ax1.plot(discounted_epr)\n",
    "ax1.scatter(abs(time_epr),eptpred)\n",
    "# ax1.set_xlim([0, 200])\n",
    "# ax1.set_xlim([800, 1000])\n",
    "# ax1.set_ylim([-10, 000])\n",
    "# ax1.imshow(eph[:500,:500].T)\n",
    "time_epr.size\n",
    "# tpreds.size\n",
    "D1\n",
    "\n"
   ]
  },
  {
   "cell_type": "code",
   "execution_count": null,
   "metadata": {
    "collapsed": true
   },
   "outputs": [],
   "source": []
  },
  {
   "cell_type": "code",
   "execution_count": 24,
   "metadata": {
    "scrolled": true
   },
   "outputs": [
    {
     "name": "stderr",
     "output_type": "stream",
     "text": [
      "[2017-06-07 12:43:17,698] Making new env: Pong-v0\n"
     ]
    },
    {
     "name": "stdout",
     "output_type": "stream",
     "text": [
      "_________________________________________________________________\n",
      "Layer (type)                 Output Shape              Param #   \n",
      "=================================================================\n",
      "reshape_19 (Reshape)         (None, 1, 80, 80)         0         \n",
      "_________________________________________________________________\n",
      "conv2d_19 (Conv2D)           (None, 1, 27, 32)         92192     \n",
      "_________________________________________________________________\n",
      "flatten_19 (Flatten)         (None, 864)               0         \n",
      "_________________________________________________________________\n",
      "dense_50 (Dense)             (None, 64)                55360     \n",
      "_________________________________________________________________\n",
      "dense_51 (Dense)             (None, 32)                2080      \n",
      "_________________________________________________________________\n",
      "dense_52 (Dense)             (None, 6)                 198       \n",
      "=================================================================\n",
      "Total params: 149,830\n",
      "Trainable params: 149,830\n",
      "Non-trainable params: 0\n",
      "_________________________________________________________________\n",
      "Loss history has changed \n",
      "resetting env. episode 1 reward total was -21.000000. loss_func: 0.296043\n",
      "resetting env. episode 2 reward total was -19.000000. loss_func: 0.779724\n",
      "resetting env. episode 3 reward total was -21.000000. loss_func: 0.303973\n",
      "resetting env. episode 4 reward total was -18.000000. loss_func: 0.796103\n",
      "resetting env. episode 5 reward total was -21.000000. loss_func: 0.337082\n",
      "resetting env. episode 6 reward total was -19.000000. loss_func: 0.742296\n",
      "resetting env. episode 7 reward total was -20.000000. loss_func: 0.617299\n",
      "resetting env. episode 8 reward total was -21.000000. loss_func: 0.295624\n",
      "resetting env. episode 9 reward total was -20.000000. loss_func: 0.646453\n",
      "Saved model to disk at Models/H5k4_agent_critic1.ckpt\n",
      "resetting env. episode 10 reward total was -21.000000. loss_func: 0.264377\n",
      "resetting env. episode 11 reward total was -19.000000. loss_func: 0.730392\n",
      "resetting env. episode 12 reward total was -20.000000. loss_func: 0.599798\n",
      "resetting env. episode 13 reward total was -18.000000. loss_func: 0.820407\n",
      "resetting env. episode 14 reward total was -20.000000. loss_func: 0.620240\n",
      "resetting env. episode 15 reward total was -18.000000. loss_func: 0.668552\n",
      "resetting env. episode 16 reward total was -21.000000. loss_func: 0.300710\n",
      "resetting env. episode 17 reward total was -21.000000. loss_func: 0.280083\n",
      "resetting env. episode 18 reward total was -18.000000. loss_func: 0.751051\n",
      "resetting env. episode 19 reward total was -21.000000. loss_func: 0.259224\n",
      "Saved model to disk at Models/H5k4_agent_critic1.ckpt\n",
      "resetting env. episode 20 reward total was -20.000000. loss_func: 0.563381\n",
      "resetting env. episode 21 reward total was -21.000000. loss_func: 0.285164\n",
      "resetting env. episode 22 reward total was -20.000000. loss_func: 0.682755\n",
      "resetting env. episode 23 reward total was -20.000000. loss_func: 0.584976\n",
      "resetting env. episode 24 reward total was -20.000000. loss_func: 0.572407\n",
      "resetting env. episode 25 reward total was -18.000000. loss_func: 0.793568\n",
      "resetting env. episode 26 reward total was -21.000000. loss_func: 0.317500\n",
      "resetting env. episode 27 reward total was -21.000000. loss_func: 0.278600\n",
      "resetting env. episode 28 reward total was -21.000000. loss_func: 0.261039\n",
      "resetting env. episode 29 reward total was -20.000000. loss_func: 0.630066\n",
      "Saved model to disk at Models/H5k4_agent_critic1.ckpt\n",
      "resetting env. episode 30 reward total was -20.000000. loss_func: 0.649276\n",
      "resetting env. episode 31 reward total was -21.000000. loss_func: 0.257995\n",
      "resetting env. episode 32 reward total was -21.000000. loss_func: 0.261289\n",
      "resetting env. episode 33 reward total was -19.000000. loss_func: 0.600860\n",
      "resetting env. episode 34 reward total was -19.000000. loss_func: 0.668675\n",
      "resetting env. episode 35 reward total was -20.000000. loss_func: 0.567078\n",
      "resetting env. episode 36 reward total was -20.000000. loss_func: 0.693822\n",
      "resetting env. episode 37 reward total was -20.000000. loss_func: 0.688678\n",
      "resetting env. episode 38 reward total was -21.000000. loss_func: 0.223923\n",
      "resetting env. episode 39 reward total was -21.000000. loss_func: 0.205699\n",
      "Saved model to disk at Models/H5k4_agent_critic1.ckpt\n",
      "resetting env. episode 40 reward total was -20.000000. loss_func: 0.568085\n",
      "resetting env. episode 41 reward total was -21.000000. loss_func: 0.255360\n",
      "resetting env. episode 42 reward total was -20.000000. loss_func: 0.562593\n",
      "resetting env. episode 43 reward total was -20.000000. loss_func: 0.582534\n",
      "resetting env. episode 44 reward total was -21.000000. loss_func: 0.204641\n",
      "resetting env. episode 45 reward total was -21.000000. loss_func: 0.270401\n",
      "resetting env. episode 46 reward total was -20.000000. loss_func: 0.705151\n",
      "resetting env. episode 47 reward total was -20.000000. loss_func: 0.556021\n",
      "resetting env. episode 48 reward total was -20.000000. loss_func: 0.538967\n",
      "resetting env. episode 49 reward total was -19.000000. loss_func: 0.763935\n",
      "Saved model to disk at Models/H5k4_agent_critic1.ckpt\n",
      "resetting env. episode 50 reward total was -19.000000. loss_func: 0.711148\n",
      "resetting env. episode 51 reward total was -20.000000. loss_func: 0.529999\n",
      "resetting env. episode 52 reward total was -19.000000. loss_func: 0.678303\n",
      "resetting env. episode 53 reward total was -19.000000. loss_func: 0.646621\n",
      "resetting env. episode 54 reward total was -21.000000. loss_func: 0.217999\n",
      "resetting env. episode 55 reward total was -20.000000. loss_func: 0.541016\n",
      "resetting env. episode 56 reward total was -21.000000. loss_func: 0.179676\n",
      "resetting env. episode 57 reward total was -19.000000. loss_func: 0.644176\n",
      "resetting env. episode 58 reward total was -20.000000. loss_func: 0.570308\n",
      "resetting env. episode 59 reward total was -21.000000. loss_func: 0.236796\n",
      "Saved model to disk at Models/H5k4_agent_critic1.ckpt\n",
      "resetting env. episode 60 reward total was -21.000000. loss_func: 0.257019\n",
      "resetting env. episode 61 reward total was -21.000000. loss_func: 0.261764\n",
      "resetting env. episode 62 reward total was -19.000000. loss_func: 0.623077\n",
      "resetting env. episode 63 reward total was -21.000000. loss_func: 0.250526\n",
      "resetting env. episode 64 reward total was -21.000000. loss_func: 0.207268\n"
     ]
    },
    {
     "name": "stderr",
     "output_type": "stream",
     "text": [
      "/home/shouldsee/.local/lib/python2.7/site-packages/ipykernel_launcher.py:70: RuntimeWarning: invalid value encountered in divide\n"
     ]
    },
    {
     "name": "stdout",
     "output_type": "stream",
     "text": [
      "resetting env. episode 65 reward total was -20.000000. loss_func: 0.554651\n",
      "resetting env. episode 66 reward total was -21.000000. loss_func: 0.172714\n",
      "resetting env. episode 67 reward total was -21.000000. loss_func: 0.195836\n",
      "resetting env. episode 68 reward total was -21.000000. loss_func: 0.206474\n",
      "resetting env. episode 69 reward total was -21.000000. loss_func: 0.222371\n",
      "Saved model to disk at Models/H5k4_agent_critic1.ckpt\n",
      "resetting env. episode 70 reward total was -21.000000. loss_func: 0.160510\n",
      "resetting env. episode 71 reward total was -21.000000. loss_func: 0.156778\n",
      "resetting env. episode 72 reward total was -21.000000. loss_func: 0.156395\n",
      "resetting env. episode 73 reward total was -21.000000. loss_func: 0.159184\n",
      "resetting env. episode 74 reward total was -21.000000. loss_func: 0.160310\n",
      "resetting env. episode 75 reward total was -21.000000. loss_func: 0.152574\n",
      "resetting env. episode 76 reward total was -21.000000. loss_func: 0.156225\n",
      "resetting env. episode 77 reward total was -21.000000. loss_func: 0.165405\n",
      "resetting env. episode 78 reward total was -21.000000. loss_func: 0.158097\n",
      "resetting env. episode 79 reward total was -21.000000. loss_func: 0.170932\n",
      "Saved model to disk at Models/H5k4_agent_critic1.ckpt\n",
      "resetting env. episode 80 reward total was -21.000000. loss_func: 0.164870\n",
      "resetting env. episode 81 reward total was -21.000000. loss_func: 0.174785\n",
      "resetting env. episode 82 reward total was -21.000000. loss_func: 0.151609\n",
      "resetting env. episode 83 reward total was -21.000000. loss_func: 0.161264\n",
      "resetting env. episode 84 reward total was -21.000000. loss_func: 0.155834\n",
      "resetting env. episode 85 reward total was -21.000000. loss_func: 0.152504\n",
      "resetting env. episode 86 reward total was -21.000000. loss_func: 0.147392\n",
      "resetting env. episode 87 reward total was -21.000000. loss_func: 0.154686\n",
      "resetting env. episode 88 reward total was -21.000000. loss_func: 0.157131\n",
      "resetting env. episode 89 reward total was -21.000000. loss_func: 0.157038\n",
      "Saved model to disk at Models/H5k4_agent_critic1.ckpt\n",
      "resetting env. episode 90 reward total was -21.000000. loss_func: 0.144036\n",
      "resetting env. episode 91 reward total was -21.000000. loss_func: 0.150715\n",
      "resetting env. episode 92 reward total was -21.000000. loss_func: 0.152466\n",
      "resetting env. episode 93 reward total was -21.000000. loss_func: 0.151521\n",
      "resetting env. episode 94 reward total was -21.000000. loss_func: 0.143084\n",
      "resetting env. episode 95 reward total was -21.000000. loss_func: 0.150458\n"
     ]
    },
    {
     "ename": "KeyboardInterrupt",
     "evalue": "",
     "output_type": "error",
     "traceback": [
      "\u001b[0;31m---------------------------------------------------------------------------\u001b[0m",
      "\u001b[0;31mKeyboardInterrupt\u001b[0m                         Traceback (most recent call last)",
      "\u001b[0;32m<ipython-input-24-5d9160b5b588>\u001b[0m in \u001b[0;36m<module>\u001b[0;34m()\u001b[0m\n\u001b[1;32m     54\u001b[0m         \u001b[0;31m# Sample action and label it\u001b[0m\u001b[0;34m\u001b[0m\u001b[0;34m\u001b[0m\u001b[0m\n\u001b[1;32m     55\u001b[0m \u001b[0;31m#         aprob = 0.5;\u001b[0m\u001b[0;34m\u001b[0m\u001b[0;34m\u001b[0m\u001b[0m\n\u001b[0;32m---> 56\u001b[0;31m         \u001b[0maction\u001b[0m\u001b[0;34m,\u001b[0m \u001b[0mprob\u001b[0m \u001b[0;34m=\u001b[0m \u001b[0magent\u001b[0m\u001b[0;34m.\u001b[0m\u001b[0mact\u001b[0m\u001b[0;34m(\u001b[0m\u001b[0mx\u001b[0m\u001b[0;34m)\u001b[0m\u001b[0;34m\u001b[0m\u001b[0m\n\u001b[0m\u001b[1;32m     57\u001b[0m \u001b[0;31m#         aprob = model_actor.predict(x);\u001b[0m\u001b[0;34m\u001b[0m\u001b[0;34m\u001b[0m\u001b[0m\n\u001b[1;32m     58\u001b[0m \u001b[0;31m#         action = 2 if np.random.uniform() < aprob else 3 # roll the dice!\u001b[0m\u001b[0;34m\u001b[0m\u001b[0;34m\u001b[0m\u001b[0m\n",
      "\u001b[0;32m/media/DATA/Documents/repos/reinforce/PGAgent.py\u001b[0m in \u001b[0;36mact\u001b[0;34m(self, state)\u001b[0m\n\u001b[1;32m     42\u001b[0m     \u001b[0;32mdef\u001b[0m \u001b[0mact\u001b[0m\u001b[0;34m(\u001b[0m\u001b[0mself\u001b[0m\u001b[0;34m,\u001b[0m \u001b[0mstate\u001b[0m\u001b[0;34m)\u001b[0m\u001b[0;34m:\u001b[0m\u001b[0;34m\u001b[0m\u001b[0m\n\u001b[1;32m     43\u001b[0m         \u001b[0;31m# state = state.reshape([1, state.shape[0]])\u001b[0m\u001b[0;34m\u001b[0m\u001b[0;34m\u001b[0m\u001b[0m\n\u001b[0;32m---> 44\u001b[0;31m         \u001b[0maprob\u001b[0m \u001b[0;34m=\u001b[0m \u001b[0mself\u001b[0m\u001b[0;34m.\u001b[0m\u001b[0mmodel\u001b[0m\u001b[0;34m.\u001b[0m\u001b[0mpredict\u001b[0m\u001b[0;34m(\u001b[0m\u001b[0mstate\u001b[0m\u001b[0;34m,\u001b[0m \u001b[0mbatch_size\u001b[0m\u001b[0;34m=\u001b[0m\u001b[0;36m1\u001b[0m\u001b[0;34m)\u001b[0m\u001b[0;34m.\u001b[0m\u001b[0mflatten\u001b[0m\u001b[0;34m(\u001b[0m\u001b[0;34m)\u001b[0m\u001b[0;34m\u001b[0m\u001b[0m\n\u001b[0m\u001b[1;32m     45\u001b[0m         \u001b[0mself\u001b[0m\u001b[0;34m.\u001b[0m\u001b[0mprobs\u001b[0m\u001b[0;34m.\u001b[0m\u001b[0mappend\u001b[0m\u001b[0;34m(\u001b[0m\u001b[0maprob\u001b[0m\u001b[0;34m)\u001b[0m\u001b[0;34m\u001b[0m\u001b[0m\n\u001b[1;32m     46\u001b[0m         \u001b[0mprob\u001b[0m \u001b[0;34m=\u001b[0m \u001b[0maprob\u001b[0m \u001b[0;34m/\u001b[0m \u001b[0mnp\u001b[0m\u001b[0;34m.\u001b[0m\u001b[0msum\u001b[0m\u001b[0;34m(\u001b[0m\u001b[0maprob\u001b[0m\u001b[0;34m)\u001b[0m\u001b[0;34m\u001b[0m\u001b[0m\n",
      "\u001b[0;32m/home/shouldsee/.local/lib/python2.7/site-packages/keras/models.pyc\u001b[0m in \u001b[0;36mpredict\u001b[0;34m(self, x, batch_size, verbose)\u001b[0m\n\u001b[1;32m    900\u001b[0m         \u001b[0;32mif\u001b[0m \u001b[0mself\u001b[0m\u001b[0;34m.\u001b[0m\u001b[0mmodel\u001b[0m \u001b[0;32mis\u001b[0m \u001b[0mNone\u001b[0m\u001b[0;34m:\u001b[0m\u001b[0;34m\u001b[0m\u001b[0m\n\u001b[1;32m    901\u001b[0m             \u001b[0mself\u001b[0m\u001b[0;34m.\u001b[0m\u001b[0mbuild\u001b[0m\u001b[0;34m(\u001b[0m\u001b[0;34m)\u001b[0m\u001b[0;34m\u001b[0m\u001b[0m\n\u001b[0;32m--> 902\u001b[0;31m         \u001b[0;32mreturn\u001b[0m \u001b[0mself\u001b[0m\u001b[0;34m.\u001b[0m\u001b[0mmodel\u001b[0m\u001b[0;34m.\u001b[0m\u001b[0mpredict\u001b[0m\u001b[0;34m(\u001b[0m\u001b[0mx\u001b[0m\u001b[0;34m,\u001b[0m \u001b[0mbatch_size\u001b[0m\u001b[0;34m=\u001b[0m\u001b[0mbatch_size\u001b[0m\u001b[0;34m,\u001b[0m \u001b[0mverbose\u001b[0m\u001b[0;34m=\u001b[0m\u001b[0mverbose\u001b[0m\u001b[0;34m)\u001b[0m\u001b[0;34m\u001b[0m\u001b[0m\n\u001b[0m\u001b[1;32m    903\u001b[0m \u001b[0;34m\u001b[0m\u001b[0m\n\u001b[1;32m    904\u001b[0m     \u001b[0;32mdef\u001b[0m \u001b[0mpredict_on_batch\u001b[0m\u001b[0;34m(\u001b[0m\u001b[0mself\u001b[0m\u001b[0;34m,\u001b[0m \u001b[0mx\u001b[0m\u001b[0;34m)\u001b[0m\u001b[0;34m:\u001b[0m\u001b[0;34m\u001b[0m\u001b[0m\n",
      "\u001b[0;32m/home/shouldsee/.local/lib/python2.7/site-packages/keras/engine/training.pyc\u001b[0m in \u001b[0;36mpredict\u001b[0;34m(self, x, batch_size, verbose)\u001b[0m\n\u001b[1;32m   1583\u001b[0m         \u001b[0mf\u001b[0m \u001b[0;34m=\u001b[0m \u001b[0mself\u001b[0m\u001b[0;34m.\u001b[0m\u001b[0mpredict_function\u001b[0m\u001b[0;34m\u001b[0m\u001b[0m\n\u001b[1;32m   1584\u001b[0m         return self._predict_loop(f, ins,\n\u001b[0;32m-> 1585\u001b[0;31m                                   batch_size=batch_size, verbose=verbose)\n\u001b[0m\u001b[1;32m   1586\u001b[0m \u001b[0;34m\u001b[0m\u001b[0m\n\u001b[1;32m   1587\u001b[0m     def train_on_batch(self, x, y,\n",
      "\u001b[0;32m/home/shouldsee/.local/lib/python2.7/site-packages/keras/engine/training.pyc\u001b[0m in \u001b[0;36m_predict_loop\u001b[0;34m(self, f, ins, batch_size, verbose)\u001b[0m\n\u001b[1;32m   1210\u001b[0m                 \u001b[0mins_batch\u001b[0m \u001b[0;34m=\u001b[0m \u001b[0m_slice_arrays\u001b[0m\u001b[0;34m(\u001b[0m\u001b[0mins\u001b[0m\u001b[0;34m,\u001b[0m \u001b[0mbatch_ids\u001b[0m\u001b[0;34m)\u001b[0m\u001b[0;34m\u001b[0m\u001b[0m\n\u001b[1;32m   1211\u001b[0m \u001b[0;34m\u001b[0m\u001b[0m\n\u001b[0;32m-> 1212\u001b[0;31m             \u001b[0mbatch_outs\u001b[0m \u001b[0;34m=\u001b[0m \u001b[0mf\u001b[0m\u001b[0;34m(\u001b[0m\u001b[0mins_batch\u001b[0m\u001b[0;34m)\u001b[0m\u001b[0;34m\u001b[0m\u001b[0m\n\u001b[0m\u001b[1;32m   1213\u001b[0m             \u001b[0;32mif\u001b[0m \u001b[0;32mnot\u001b[0m \u001b[0misinstance\u001b[0m\u001b[0;34m(\u001b[0m\u001b[0mbatch_outs\u001b[0m\u001b[0;34m,\u001b[0m \u001b[0mlist\u001b[0m\u001b[0;34m)\u001b[0m\u001b[0;34m:\u001b[0m\u001b[0;34m\u001b[0m\u001b[0m\n\u001b[1;32m   1214\u001b[0m                 \u001b[0mbatch_outs\u001b[0m \u001b[0;34m=\u001b[0m \u001b[0;34m[\u001b[0m\u001b[0mbatch_outs\u001b[0m\u001b[0;34m]\u001b[0m\u001b[0;34m\u001b[0m\u001b[0m\n",
      "\u001b[0;32m/home/shouldsee/.local/lib/python2.7/site-packages/keras/backend/tensorflow_backend.pyc\u001b[0m in \u001b[0;36m__call__\u001b[0;34m(self, inputs)\u001b[0m\n\u001b[1;32m   2227\u001b[0m         \u001b[0msession\u001b[0m \u001b[0;34m=\u001b[0m \u001b[0mget_session\u001b[0m\u001b[0;34m(\u001b[0m\u001b[0;34m)\u001b[0m\u001b[0;34m\u001b[0m\u001b[0m\n\u001b[1;32m   2228\u001b[0m         updated = session.run(self.outputs + [self.updates_op],\n\u001b[0;32m-> 2229\u001b[0;31m                               feed_dict=feed_dict)\n\u001b[0m\u001b[1;32m   2230\u001b[0m         \u001b[0;32mreturn\u001b[0m \u001b[0mupdated\u001b[0m\u001b[0;34m[\u001b[0m\u001b[0;34m:\u001b[0m\u001b[0mlen\u001b[0m\u001b[0;34m(\u001b[0m\u001b[0mself\u001b[0m\u001b[0;34m.\u001b[0m\u001b[0moutputs\u001b[0m\u001b[0;34m)\u001b[0m\u001b[0;34m]\u001b[0m\u001b[0;34m\u001b[0m\u001b[0m\n\u001b[1;32m   2231\u001b[0m \u001b[0;34m\u001b[0m\u001b[0m\n",
      "\u001b[0;32m/home/shouldsee/.local/lib/python2.7/site-packages/tensorflow/python/client/session.pyc\u001b[0m in \u001b[0;36mrun\u001b[0;34m(self, fetches, feed_dict, options, run_metadata)\u001b[0m\n\u001b[1;32m    776\u001b[0m     \u001b[0;32mtry\u001b[0m\u001b[0;34m:\u001b[0m\u001b[0;34m\u001b[0m\u001b[0m\n\u001b[1;32m    777\u001b[0m       result = self._run(None, fetches, feed_dict, options_ptr,\n\u001b[0;32m--> 778\u001b[0;31m                          run_metadata_ptr)\n\u001b[0m\u001b[1;32m    779\u001b[0m       \u001b[0;32mif\u001b[0m \u001b[0mrun_metadata\u001b[0m\u001b[0;34m:\u001b[0m\u001b[0;34m\u001b[0m\u001b[0m\n\u001b[1;32m    780\u001b[0m         \u001b[0mproto_data\u001b[0m \u001b[0;34m=\u001b[0m \u001b[0mtf_session\u001b[0m\u001b[0;34m.\u001b[0m\u001b[0mTF_GetBuffer\u001b[0m\u001b[0;34m(\u001b[0m\u001b[0mrun_metadata_ptr\u001b[0m\u001b[0;34m)\u001b[0m\u001b[0;34m\u001b[0m\u001b[0m\n",
      "\u001b[0;32m/home/shouldsee/.local/lib/python2.7/site-packages/tensorflow/python/client/session.pyc\u001b[0m in \u001b[0;36m_run\u001b[0;34m(self, handle, fetches, feed_dict, options, run_metadata)\u001b[0m\n\u001b[1;32m    980\u001b[0m     \u001b[0;32mif\u001b[0m \u001b[0mfinal_fetches\u001b[0m \u001b[0;32mor\u001b[0m \u001b[0mfinal_targets\u001b[0m\u001b[0;34m:\u001b[0m\u001b[0;34m\u001b[0m\u001b[0m\n\u001b[1;32m    981\u001b[0m       results = self._do_run(handle, final_targets, final_fetches,\n\u001b[0;32m--> 982\u001b[0;31m                              feed_dict_string, options, run_metadata)\n\u001b[0m\u001b[1;32m    983\u001b[0m     \u001b[0;32melse\u001b[0m\u001b[0;34m:\u001b[0m\u001b[0;34m\u001b[0m\u001b[0m\n\u001b[1;32m    984\u001b[0m       \u001b[0mresults\u001b[0m \u001b[0;34m=\u001b[0m \u001b[0;34m[\u001b[0m\u001b[0;34m]\u001b[0m\u001b[0;34m\u001b[0m\u001b[0m\n",
      "\u001b[0;32m/home/shouldsee/.local/lib/python2.7/site-packages/tensorflow/python/client/session.pyc\u001b[0m in \u001b[0;36m_do_run\u001b[0;34m(self, handle, target_list, fetch_list, feed_dict, options, run_metadata)\u001b[0m\n\u001b[1;32m   1030\u001b[0m     \u001b[0;32mif\u001b[0m \u001b[0mhandle\u001b[0m \u001b[0;32mis\u001b[0m \u001b[0mNone\u001b[0m\u001b[0;34m:\u001b[0m\u001b[0;34m\u001b[0m\u001b[0m\n\u001b[1;32m   1031\u001b[0m       return self._do_call(_run_fn, self._session, feed_dict, fetch_list,\n\u001b[0;32m-> 1032\u001b[0;31m                            target_list, options, run_metadata)\n\u001b[0m\u001b[1;32m   1033\u001b[0m     \u001b[0;32melse\u001b[0m\u001b[0;34m:\u001b[0m\u001b[0;34m\u001b[0m\u001b[0m\n\u001b[1;32m   1034\u001b[0m       return self._do_call(_prun_fn, self._session, handle, feed_dict,\n",
      "\u001b[0;32m/home/shouldsee/.local/lib/python2.7/site-packages/tensorflow/python/client/session.pyc\u001b[0m in \u001b[0;36m_do_call\u001b[0;34m(self, fn, *args)\u001b[0m\n\u001b[1;32m   1037\u001b[0m   \u001b[0;32mdef\u001b[0m \u001b[0m_do_call\u001b[0m\u001b[0;34m(\u001b[0m\u001b[0mself\u001b[0m\u001b[0;34m,\u001b[0m \u001b[0mfn\u001b[0m\u001b[0;34m,\u001b[0m \u001b[0;34m*\u001b[0m\u001b[0margs\u001b[0m\u001b[0;34m)\u001b[0m\u001b[0;34m:\u001b[0m\u001b[0;34m\u001b[0m\u001b[0m\n\u001b[1;32m   1038\u001b[0m     \u001b[0;32mtry\u001b[0m\u001b[0;34m:\u001b[0m\u001b[0;34m\u001b[0m\u001b[0m\n\u001b[0;32m-> 1039\u001b[0;31m       \u001b[0;32mreturn\u001b[0m \u001b[0mfn\u001b[0m\u001b[0;34m(\u001b[0m\u001b[0;34m*\u001b[0m\u001b[0margs\u001b[0m\u001b[0;34m)\u001b[0m\u001b[0;34m\u001b[0m\u001b[0m\n\u001b[0m\u001b[1;32m   1040\u001b[0m     \u001b[0;32mexcept\u001b[0m \u001b[0merrors\u001b[0m\u001b[0;34m.\u001b[0m\u001b[0mOpError\u001b[0m \u001b[0;32mas\u001b[0m \u001b[0me\u001b[0m\u001b[0;34m:\u001b[0m\u001b[0;34m\u001b[0m\u001b[0m\n\u001b[1;32m   1041\u001b[0m       \u001b[0mmessage\u001b[0m \u001b[0;34m=\u001b[0m \u001b[0mcompat\u001b[0m\u001b[0;34m.\u001b[0m\u001b[0mas_text\u001b[0m\u001b[0;34m(\u001b[0m\u001b[0me\u001b[0m\u001b[0;34m.\u001b[0m\u001b[0mmessage\u001b[0m\u001b[0;34m)\u001b[0m\u001b[0;34m\u001b[0m\u001b[0m\n",
      "\u001b[0;32m/home/shouldsee/.local/lib/python2.7/site-packages/tensorflow/python/client/session.pyc\u001b[0m in \u001b[0;36m_run_fn\u001b[0;34m(session, feed_dict, fetch_list, target_list, options, run_metadata)\u001b[0m\n\u001b[1;32m   1019\u001b[0m         return tf_session.TF_Run(session, options,\n\u001b[1;32m   1020\u001b[0m                                  \u001b[0mfeed_dict\u001b[0m\u001b[0;34m,\u001b[0m \u001b[0mfetch_list\u001b[0m\u001b[0;34m,\u001b[0m \u001b[0mtarget_list\u001b[0m\u001b[0;34m,\u001b[0m\u001b[0;34m\u001b[0m\u001b[0m\n\u001b[0;32m-> 1021\u001b[0;31m                                  status, run_metadata)\n\u001b[0m\u001b[1;32m   1022\u001b[0m \u001b[0;34m\u001b[0m\u001b[0m\n\u001b[1;32m   1023\u001b[0m     \u001b[0;32mdef\u001b[0m \u001b[0m_prun_fn\u001b[0m\u001b[0;34m(\u001b[0m\u001b[0msession\u001b[0m\u001b[0;34m,\u001b[0m \u001b[0mhandle\u001b[0m\u001b[0;34m,\u001b[0m \u001b[0mfeed_dict\u001b[0m\u001b[0;34m,\u001b[0m \u001b[0mfetch_list\u001b[0m\u001b[0;34m)\u001b[0m\u001b[0;34m:\u001b[0m\u001b[0;34m\u001b[0m\u001b[0m\n",
      "\u001b[0;31mKeyboardInterrupt\u001b[0m: "
     ]
    }
   ],
   "source": [
    "env = gym.make(\"Pong-v0\")\n",
    "observation = env.reset()\n",
    "prev_x = None # used in computing the difference frame\n",
    "xs,hs,dlogps,drs = [],[],[],[]\n",
    "ys=[];byss=[];rss=[];tpreds=[];\n",
    "running_reward = None\n",
    "reward_sum = 0\n",
    "episode_number = 0;\n",
    "\n",
    "ModelName = 'H5k4_agent_critic1'\n",
    "ModelFile = 'Models/'+ModelName+'.ckpt';\n",
    "AgentName = 'pong_ac1';\n",
    "AgentFile = 'Models/'+AgentName+'.h5'\n",
    "LogName= 'Models/' + AgentName+'.log';\n",
    "# LogFile =open(LogName,'a+');\n",
    "\n",
    "render = 0;\n",
    "resume = 0;\n",
    "batch_size=1;\n",
    "learning_rate = 1e-2\n",
    "optimiser = keras.optimizers.RMSprop(lr=learning_rate, rho=0.9, epsilon=1e-08, decay=0.0)\n",
    "# episode_number = 0;\n",
    "\n",
    "if 'losshist' in locals():\n",
    "    pass\n",
    "else:\n",
    "    losshist = LossHist();\n",
    "\n",
    "if True:\n",
    "    \n",
    "    agent = PGAgent(D, action_size)\n",
    "    if resume:\n",
    "        model = loadmodel(ModelFile)\n",
    "        agent.load(AgentFile);\n",
    "#         losshist=losshist_temp;\n",
    "        print(losshist.losses[-5:])\n",
    "        print(len(losshist.losses))\n",
    "        \n",
    "    model.compile(optimizer='rmsprop',\n",
    "                  loss=lossfunc)\n",
    "    \n",
    "#     episode_number = 0; #### for test only\n",
    "    while episode_number > -1:\n",
    "        if render: env.render()\n",
    "\n",
    "        # preprocess the observation, set input to network to be difference image\n",
    "        cur_x = prepro(observation)\n",
    "        diff_x = cur_x - prev_x if prev_x is not None else np.zeros(D)\n",
    "        prev_x = cur_x\n",
    "#         x = np.reshape(diff_x,[1,D1,D2,1]);\n",
    "        x = np.expand_dims(diff_x,axis = 2).T;\n",
    "#         x = diff_x.T\n",
    "        \n",
    "        # Sample action and label it \n",
    "#         aprob = 0.5;        \n",
    "        action, prob = agent.act(x)\n",
    "#         aprob = model_actor.predict(x);\n",
    "#         action = 2 if np.random.uniform() < aprob else 3 # roll the dice!\n",
    "        y = 1 if action == 2 else 0 # a \"fake label\"\n",
    "        \n",
    "        # Run predictor\n",
    "        tpred = model.predict([x,np.array([[y]])]);\n",
    "#         tpred = model.predict({'input_1':x,'input_2':np.array([[y]])});\n",
    "        \n",
    "    \n",
    "        # record various intermediates (needed later for backprop)\n",
    "        xs.append(x) # observation\n",
    "        ys.append(y)\n",
    "        tpreds.append(tpred);\n",
    "#         spreds.append(spred);\n",
    "\n",
    "        # step the environment and get new measurements\n",
    "        observation, reward, done, info = env.step(action)\n",
    "        reward_sum += reward\n",
    "        drs.append(reward) # record reward (has to be done after we call step() to get reward for previous action)\n",
    "        \n",
    "        agent.remember(x, action, prob, reward)\n",
    "        \n",
    "\n",
    "        if done: # an episode finished\n",
    "            episode_number += 1\n",
    "\n",
    "            # stack together all inputs, hidden states, action gradients, and rewards for this episode\n",
    "            epx = np.vstack(xs)\n",
    "            epy = np.vstack(ys);\n",
    "            epr = np.vstack(drs)\n",
    "            eptpred=np.vstack(tpreds);\n",
    "#             epspred=np.vstack()\n",
    "            xs,hs,dlogps,drs,ys,tpreds = [],[],[],[],[],[] # reset array memory\n",
    "            \n",
    "            ## process reward on a per event basis\n",
    "            tpr=time_rewards(epr);\n",
    "            time_epr = decouple(tpr);\n",
    "            \n",
    "            ## train the critic networks \n",
    "            curr_loss = model.train_on_batch([epx,epy], time_epr)\n",
    "            losshist.add(episode_number,curr_loss);\n",
    "            \n",
    "            ## train the actor network, with signal from critics weighted by the loss.\n",
    "#             critic = calc_expt(eptpred);\n",
    "            rsignal = merge_signal(epr,eptpred,.5);\n",
    "#             rsignal = merge_signal(epr,eptpred,1.);\n",
    "            \n",
    "#             rsignal = discount_rewards(epr);\n",
    "            agent.train(rsignal);\n",
    "            \n",
    "#             model_actor.train_on_batch([epx,epy],rsignal*); ### finish this\n",
    "            \n",
    "            if episode_number % batch_size == 0:\n",
    "                #accumulate gradient over batch where appropriate\n",
    "                pass\n",
    "   \n",
    "            # boring book-keeping\n",
    "            running_reward = reward_sum if running_reward is None else running_reward * 0.99 + reward_sum * 0.01\n",
    "            logmsg='resetting env. episode %d reward total was %f. loss_func: %f' % (episode_number, reward_sum, curr_loss);\n",
    "            print(logmsg);\n",
    "            with open(LogName,'a+') as LogFile:\n",
    "                LogFile.write(logmsg+'\\n')\n",
    "            \n",
    "            if episode_number % 10  == 9: \n",
    "                savemodel(model,ModelFile)\n",
    "                agent.save(AgentFile)\n",
    "\n",
    "            reward_sum = 0\n",
    "            observation = env.reset() # reset env\n",
    "            prev_x = None\n",
    "            #     print ('ep %d: game finished, reward: %f' % (episode_number, reward)) + ('' if reward == -1 else ' !!!!!!!!')"
   ]
  },
  {
   "cell_type": "code",
   "execution_count": 18,
   "metadata": {},
   "outputs": [
    {
     "data": {
      "text/plain": [
       "(1267, 1)"
      ]
     },
     "execution_count": 18,
     "metadata": {},
     "output_type": "execute_result"
    }
   ],
   "source": [
    "# rsignal.shape\n",
    "epr.shape"
   ]
  },
  {
   "cell_type": "code",
   "execution_count": 11,
   "metadata": {},
   "outputs": [
    {
     "data": {
      "text/plain": [
       "(1, 6400)"
      ]
     },
     "execution_count": 11,
     "metadata": {},
     "output_type": "execute_result"
    }
   ],
   "source": [
    "# agent.state\n",
    "try:\n",
    "    del PGAgent;\n",
    "except: pass\n",
    "x.shape"
   ]
  },
  {
   "cell_type": "code",
   "execution_count": 4,
   "metadata": {},
   "outputs": [
    {
     "ename": "NameError",
     "evalue": "name 'eptpred' is not defined",
     "output_type": "error",
     "traceback": [
      "\u001b[0;31m---------------------------------------------------------------------------\u001b[0m",
      "\u001b[0;31mNameError\u001b[0m                                 Traceback (most recent call last)",
      "\u001b[0;32m<ipython-input-4-6f0fb49a8c3e>\u001b[0m in \u001b[0;36m<module>\u001b[0;34m()\u001b[0m\n\u001b[1;32m      5\u001b[0m \u001b[0;31m# z[:,1]= np.convolve(x[:,1], [1,-2,1], mode='same')\u001b[0m\u001b[0;34m\u001b[0m\u001b[0;34m\u001b[0m\u001b[0m\n\u001b[1;32m      6\u001b[0m \u001b[0;31m# eptpred = z;\u001b[0m\u001b[0;34m\u001b[0m\u001b[0;34m\u001b[0m\u001b[0m\n\u001b[0;32m----> 7\u001b[0;31m \u001b[0mdeptpred\u001b[0m \u001b[0;34m=\u001b[0m \u001b[0mnp\u001b[0m\u001b[0;34m.\u001b[0m\u001b[0mcopy\u001b[0m\u001b[0;34m(\u001b[0m\u001b[0meptpred\u001b[0m\u001b[0;34m)\u001b[0m\u001b[0;34m;\u001b[0m\u001b[0;34m\u001b[0m\u001b[0m\n\u001b[0m\u001b[1;32m      8\u001b[0m \u001b[0mx\u001b[0m\u001b[0;34m=\u001b[0m \u001b[0mnp\u001b[0m\u001b[0;34m.\u001b[0m\u001b[0mcopy\u001b[0m\u001b[0;34m(\u001b[0m\u001b[0meptpred\u001b[0m\u001b[0;34m)\u001b[0m\u001b[0;34m;\u001b[0m\u001b[0;34m\u001b[0m\u001b[0m\n\u001b[1;32m      9\u001b[0m \u001b[0;34m\u001b[0m\u001b[0m\n",
      "\u001b[0;31mNameError\u001b[0m: name 'eptpred' is not defined"
     ]
    }
   ],
   "source": [
    "# discount_rewards(epdlogp)\n",
    "\n",
    "# z=x;\n",
    "# z[:,0]= np.convolve(x[:,0], [1,-2,1], mode='same')\n",
    "# z[:,1]= np.convolve(x[:,1], [1,-2,1], mode='same')\n",
    "# eptpred = z;\n",
    "deptpred = np.copy(eptpred);\n",
    "x= np.copy(eptpred);\n",
    "\n",
    "deptpred[:,0] = np.convolve(x[:,0], [0,-1,1], mode='same');\n",
    "deptpred[:,1] = np.convolve(x[:,1], [0,-1,1], mode='same');\n",
    "x[:,0] = np.convolve(x[:,0], [1./3,1./3,1./3], mode='same');\n",
    "x[:,1] = np.convolve(x[:,1], [1./3,1./3,1./3], mode='same');\n",
    "# deptpred[:,0] = np.convolve(abs(deptpred[:,0]), [1./3,1./3,1./3], mode='same');\n",
    "# deptpred[:,1] = np.convolve(abs(deptpred[:,1]), [1./3,1./3,1./3], mode='same');\n",
    "\n",
    "# deptpred[:,1] = np.convolve(x[:,1], [0,-1,1], mode='same');\n",
    "\n",
    "\n",
    "\n",
    "def calc_expt(eptpred,rd=np.array([[1,-1]])):\n",
    "    prep = np.exp(-eptpred)\n",
    "    z = np.expand_dims(np.sum(prep,axis = 1),1);\n",
    "    rz = np.reciprocal(z)\n",
    "#     p = prep * z,;\n",
    "#     rd = np.array([[1,-1]]);\n",
    "    expt = (np.sum(prep*rd,axis = 1)*rz.T).T;\n",
    "    return expt\n",
    "\n",
    "\n",
    "def merge_signal(epr,eptpred):\n",
    "    rd = discount_rewards(epr);\n",
    "    critic = calc_expt(eptpred);\n",
    "    wt =np.expand_dims(np.array( [1, np.exp(-curr_loss)]),1);\n",
    "    vct = np.array([epr,critic]).squeeze();\n",
    "    signal = np.sum(vct*wt,axis=0)/np.sum(wt,axis=0);\n",
    "    return signal \n",
    "# signal\n",
    "# x"
   ]
  },
  {
   "cell_type": "code",
   "execution_count": 234,
   "metadata": {},
   "outputs": [
    {
     "ename": "AttributeError",
     "evalue": "'builtin_function_or_method' object has no attribute 'shape'",
     "output_type": "error",
     "traceback": [
      "\u001b[0;31m---------------------------------------------------------------------------\u001b[0m",
      "\u001b[0;31mAttributeError\u001b[0m                            Traceback (most recent call last)",
      "\u001b[0;32m<ipython-input-234-539efbf64dfb>\u001b[0m in \u001b[0;36m<module>\u001b[0;34m()\u001b[0m\n\u001b[0;32m----> 1\u001b[0;31m \u001b[0mvct\u001b[0m\u001b[0;34m.\u001b[0m\u001b[0mshape\u001b[0m\u001b[0;34m\u001b[0m\u001b[0m\n\u001b[0m\u001b[1;32m      2\u001b[0m \u001b[0;31m# wt.shape\u001b[0m\u001b[0;34m\u001b[0m\u001b[0;34m\u001b[0m\u001b[0m\n\u001b[1;32m      3\u001b[0m \u001b[0;31m# epr.shape\u001b[0m\u001b[0;34m\u001b[0m\u001b[0;34m\u001b[0m\u001b[0m\n",
      "\u001b[0;31mAttributeError\u001b[0m: 'builtin_function_or_method' object has no attribute 'shape'"
     ]
    }
   ],
   "source": [
    "vct.shape\n",
    "# wt.shape\n",
    "# epr.shape"
   ]
  },
  {
   "cell_type": "code",
   "execution_count": 9,
   "metadata": {
    "scrolled": false
   },
   "outputs": [
    {
     "data": {
      "text/plain": [
       "(0.0, 2.5)"
      ]
     },
     "execution_count": 9,
     "metadata": {},
     "output_type": "execute_result"
    },
    {
     "data": {
      "image/png": "[encoded data removed]",
      "text/plain": [
       "<matplotlib.figure.Figure at 0x7f8dee9d1dd0>"
      ]
     },
     "metadata": {},
     "output_type": "display_data"
    }
   ],
   "source": [
    "%matplotlib inline\n",
    "plt.close('all')\n",
    "fig=plt.figure(figsize=[10,10])\n",
    "ax1=plt.subplot(221)\n",
    "\n",
    "ax1.plot(time_epr)\n",
    "ax1b=ax1.twinx()\n",
    "ax1b.plot(rsignal,'r')\n",
    "\n",
    "\n",
    "# ax1b.plot(expt)\n",
    "\n",
    "# xcritic= np.convolve(critic, [0,-1,1], mode='same');\n",
    "\n",
    "# ax1.plot(xcritic)\n",
    "\n",
    "# ax1.plot(eptpred,'-')\n",
    "# ax1.plot(x,'-')\n",
    "\n",
    "\n",
    "ax2=plt.subplot(222)\n",
    "ax2b=ax2.twinx();\n",
    "# ax2.plot(eptpred[1:,: ])\n",
    "# ax2b.plot(np.diff(eptpred[:,:],axis=0,n=1)/eptpred[:-1,],'--')\n",
    "# ax1.plot(eptpred[:,1])\n",
    "\n",
    "ax2.plot(eptpred[:-1,1])\n",
    "# ax2b.plot(abs(deptpred[:,1])/x[:,1],'--r')\n",
    "# ax2.plot(eptpred[:-1,0])\n",
    "# ax2b.plot(abs(deptpred[:,0])/x[:,0],'--r')\n",
    "\n",
    "# ax1.plot(np.sign(-(epspred-.5))*2*(eptpred-1))\n",
    "\n",
    "# ax1.plot(discounted_epr)\n",
    "# ax1.scatter(abs(time_epr),eptpred)\n",
    "ax1.set_xlim([0, 500])\n",
    "# ax1.set_xlim([500,1000])\n",
    "# ax1.set_xlim([800,1200])\n",
    "ax1.set_ylim(top = 20)\n",
    "ax2.set_xlim([600, 850])\n",
    "ax2b.set_ylim(top =2.5)\n",
    "\n",
    "\n",
    "# ax1.imshow(eph[:500,:500].T)\n",
    "# tpreds.size"
   ]
  },
  {
   "cell_type": "code",
   "execution_count": 188,
   "metadata": {},
   "outputs": [
    {
     "data": {
      "text/plain": [
       "(1, 1314)"
      ]
     },
     "execution_count": 188,
     "metadata": {},
     "output_type": "execute_result"
    }
   ],
   "source": [
    "# prep\n",
    "# np.min(prep)\n",
    "np.multiply(np.sum(prep*rd,axis = 1),rz.T).shape\n",
    "# (rz.shape)"
   ]
  },
  {
   "cell_type": "code",
   "execution_count": 19,
   "metadata": {},
   "outputs": [
    {
     "data": {
      "text/plain": [
       "(1631, 2)"
      ]
     },
     "execution_count": 19,
     "metadata": {},
     "output_type": "execute_result"
    }
   ],
   "source": [
    "time_epr.shape\n",
    "# print(time_epr.ravel())\n",
    "# time_epr\n",
    "# tpreds\n",
    "# H\n",
    "# np.expand_dims(epx,1).shape\n",
    "# curr_loss = sess.run(loss,feed_dict={xinput: epx, input_y: epy, rtime: time_epr});\n",
    "# epx.shape\n",
    "# tf.reshape(epy);\n",
    "# D*H\n",
    "# oSaver = tf.train.Saver()\n",
    "# print(sess.run(score,feed_dict={xinput: epx, input_y: epy, rtime: time_epr}))\n",
    "# oSess = sess\n",
    "# oSaver.save(oSess, ModelFile)"
   ]
  }
 ],
 "metadata": {
  "kernelspec": {
   "display_name": "Python 3",
   "language": "python",
   "name": "python3"
  },
  "language_info": {
   "codemirror_mode": {
    "name": "ipython",
    "version": 2
   },
   "file_extension": ".py",
   "mimetype": "text/x-python",
   "name": "python",
   "nbconvert_exporter": "python",
   "pygments_lexer": "ipython2",
   "version": "2.7.12"
  }
 },
 "nbformat": 4,
 "nbformat_minor": 2
}
