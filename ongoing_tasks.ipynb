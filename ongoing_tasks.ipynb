{
 "cells": [
  {
   "cell_type": "markdown",
   "metadata": {},
   "source": [
    "##### lst = [1,2,3];\n",
    "lst.index(1)"
   ]
  },
  {
   "cell_type": "code",
   "execution_count": 1,
   "metadata": {},
   "outputs": [
    {
     "name": "stderr",
     "output_type": "stream",
     "text": [
      "Using TensorFlow backend.\n",
      "[2017-06-19 17:42:16,362] Making new env: Pong-v0\n"
     ]
    }
   ],
   "source": [
    "import gym\n",
    "import numpy as np\n",
    "import tensorflow as tf\n",
    "from keras import backend as K\n",
    "from keras.models import Sequential,load_model\n",
    "from keras.layers import Dense, Reshape, Flatten\n",
    "from keras.optimizers import Adam\n",
    "from keras.layers.convolutional import Convolution2D\n",
    "# from AgentUtil import *\n",
    "execfile('AgentUtil.py')\n",
    "\n",
    "if __name__ == \"__main__\":\n",
    "    env = gym.make(\"Pong-v0\")\n",
    "    state = env.reset()\n",
    "    prev_x = None\n",
    "    score = 0\n",
    "    episode = 0\n",
    "\n",
    "    state_size = 80 * 80\n",
    "    action_size = env.action_space.n\n",
    "#     agent = PGAgent(state_size, action_size)\n"
   ]
  },
  {
   "cell_type": "code",
   "execution_count": 2,
   "metadata": {},
   "outputs": [
    {
     "name": "stderr",
     "output_type": "stream",
     "text": [
      "[2017-06-19 17:42:16,798] Making new env: Pong-v0\n"
     ]
    }
   ],
   "source": [
    "if __name__ == \"__main__\":\n",
    "    env = gym.make(\"Pong-v0\")\n",
    "    state = env.reset()\n",
    "    prev_x = None\n",
    "    score = 0\n",
    "    episode = 0\n",
    "\n",
    "    state_size = 80 * 80\n",
    "    action_size = env.action_space.n\n",
    "    \n",
    "#     agent.summary();\n",
    "AgentName = 'pong_minimal-s5L1b-tst'\n",
    "# AgentFile = 'Models/%s.h5'%AgentName;\n",
    "# LogName = 'Models/%s.log'%AgentName;\n",
    "# LogFile = open(LogName,'a');\n",
    "resume = 1;\n",
    "render = 0;\n",
    "usegpu = 1;\n",
    "nb_episode = 5;\n",
    "batch_size = 1000;\n",
    "\n",
    "if not usegpu:\n",
    "    sess = tf.Session(config=tf.ConfigProto(log_device_placement=True, device_count = {'GPU': 0}))\n",
    "    K.set_session(sess)\n",
    "\n",
    "K.clear_session()\n",
    "config = tf.ConfigProto(log_device_placement=True)\n",
    "config.gpu_options.per_process_gpu_memory_fraction = 0.4\n",
    "config.gpu_options.allow_growth=True\n",
    "sess = tf.Session(config=config)\n",
    "K.set_session(sess)\n",
    "# agent = PGAgent(state_size, action_size,AgentName=AgentName)\n",
    "\n"
   ]
  },
  {
   "cell_type": "code",
   "execution_count": 3,
   "metadata": {
    "collapsed": true
   },
   "outputs": [],
   "source": [
    "# AgentName = 'pong_minimal-s5L0'\n",
    "# agent = PGAgent(state_size, action_size,AgentName=AgentName)\n",
    "# nb_episode = 1000;\n",
    "# main(agent) \n",
    "\n",
    "# AgentName = 'pong_minimal-s5L0'\n",
    "# agent = PGAgent(state_size, action_size,AgentName=AgentName)\n",
    "# main(agent) "
   ]
  },
  {
   "cell_type": "code",
   "execution_count": 4,
   "metadata": {
    "collapsed": true,
    "scrolled": true
   },
   "outputs": [],
   "source": [
    "\n",
    "\n",
    "# AgentName = 'pong_minimal-s5L0'\n",
    "# agent = PGAgent(state_size, action_size,AgentName=AgentName)\n",
    "# # agent.newlog()\n",
    "# nb_episode = 1000;\n",
    "# main(agent) \n",
    "\n",
    "\n",
    "# %load_ext line_profiler\n",
    "# %lprun -f main main(agent,verbose = 0) "
   ]
  },
  {
   "cell_type": "code",
   "execution_count": null,
   "metadata": {
    "scrolled": false
   },
   "outputs": [
    {
     "name": "stderr",
     "output_type": "stream",
     "text": [
      "/home/shouldsee/.local/lib/python2.7/site-packages/ipykernel_launcher.py:40: UserWarning: Update your `Conv2D` call to the Keras 2 API: `Conv2D(25, (6, 6), kernel_initializer=\"he_uniform\", activation=\"relu\", padding=\"same\", strides=(3, 3))`\n",
      "/home/shouldsee/.local/lib/python2.7/site-packages/ipykernel_launcher.py:42: UserWarning: Update your `Conv2D` call to the Keras 2 API: `Conv2D(5, (6, 6), kernel_initializer=\"he_uniform\", activation=\"relu\", padding=\"same\", strides=(1, 1))`\n",
      "/home/shouldsee/.local/lib/python2.7/site-packages/ipykernel_launcher.py:44: UserWarning: Update your `Conv2D` call to the Keras 2 API: `Conv2D(5, (6, 6), kernel_initializer=\"he_uniform\", activation=\"relu\", padding=\"same\", strides=(1, 1))`\n",
      "/home/shouldsee/.local/lib/python2.7/site-packages/ipykernel_launcher.py:46: UserWarning: Update your `Conv2D` call to the Keras 2 API: `Conv2D(5, (6, 6), kernel_initializer=\"he_uniform\", activation=\"relu\", padding=\"same\", strides=(1, 1))`\n",
      "[2017-06-19 18:49:33,683] Making new env: Pong-v0\n"
     ]
    },
    {
     "name": "stdout",
     "output_type": "stream",
     "text": [
      "The line_profiler extension is already loaded. To reload it, use:\n",
      "  %reload_ext line_profiler\n",
      "Episode\t752\tScore\t-21.000000\tlargest_variance\t0.000000\tall_var\t0.138432\tL1_norm\t0.011119\n",
      "Episode\t753\tScore\t-21.000000\tlargest_variance\t0.000000\tall_var\t0.138471\tL1_norm\t0.008084\n",
      "Episode\t754\tScore\t-20.000000\tlargest_variance\t0.000000\tall_var\t0.138355\tL1_norm\t0.007908\n",
      "Episode\t755\tScore\t-21.000000\tlargest_variance\t0.000000\tall_var\t0.138290\tL1_norm\t0.003753\n",
      "Episode\t756\tScore\t-21.000000\tlargest_variance\t0.000000\tall_var\t0.138241\tL1_norm\t0.005835\n",
      "Episode\t757\tScore\t-21.000000\tlargest_variance\t0.000000\tall_var\t0.138664\tL1_norm\t0.010948\n",
      "Episode\t758\tScore\t-21.000000\tlargest_variance\t0.000000\tall_var\t0.138379\tL1_norm\t0.004562\n",
      "Episode\t759\tScore\t-20.000000\tlargest_variance\t0.000000\tall_var\t0.138341\tL1_norm\t0.008036\n",
      "Episode\t760\tScore\t-21.000000\tlargest_variance\t0.000000\tall_var\t0.138016\tL1_norm\t0.006983\n",
      "Episode\t761\tScore\t-21.000000\tlargest_variance\t0.000000\tall_var\t0.138391\tL1_norm\t0.004241\n",
      "Episode\t762\tScore\t-21.000000\tlargest_variance\t0.000000\tall_var\t0.138287\tL1_norm\t0.003183\n",
      "Episode\t763\tScore\t-21.000000\tlargest_variance\t0.000000\tall_var\t0.138179\tL1_norm\t0.008120\n",
      "Episode\t764\tScore\t-21.000000\tlargest_variance\t0.000000\tall_var\t0.138258\tL1_norm\t0.007267\n",
      "Episode\t765\tScore\t-20.000000\tlargest_variance\t0.000000\tall_var\t0.138083\tL1_norm\t0.011088\n",
      "Episode\t766\tScore\t-19.000000\tlargest_variance\t0.000000\tall_var\t0.138717\tL1_norm\t0.007372\n",
      "Episode\t767\tScore\t-21.000000\tlargest_variance\t0.000000\tall_var\t0.137714\tL1_norm\t0.014147\n",
      "Episode\t768\tScore\t-19.000000\tlargest_variance\t0.000000\tall_var\t0.137721\tL1_norm\t0.009883\n",
      "Episode\t769\tScore\t-21.000000\tlargest_variance\t0.000000\tall_var\t0.138241\tL1_norm\t0.010540\n",
      "Episode\t770\tScore\t-18.000000\tlargest_variance\t0.000000\tall_var\t0.138180\tL1_norm\t0.006376\n",
      "Episode\t771\tScore\t-19.000000\tlargest_variance\t0.000000\tall_var\t0.138221\tL1_norm\t0.008645\n",
      "Episode\t772\tScore\t-19.000000\tlargest_variance\t0.000000\tall_var\t0.138236\tL1_norm\t0.008736\n",
      "Episode\t773\tScore\t-20.000000\tlargest_variance\t0.000000\tall_var\t0.138380\tL1_norm\t0.005766\n",
      "Episode\t774\tScore\t-21.000000\tlargest_variance\t0.000000\tall_var\t0.137670\tL1_norm\t0.011257\n",
      "Episode\t775\tScore\t-21.000000\tlargest_variance\t0.000000\tall_var\t0.138485\tL1_norm\t0.007842\n",
      "Episode\t776\tScore\t-21.000000\tlargest_variance\t0.000000\tall_var\t0.138351\tL1_norm\t0.010109\n",
      "Episode\t777\tScore\t-21.000000\tlargest_variance\t0.000000\tall_var\t0.138578\tL1_norm\t0.006293\n",
      "Episode\t778\tScore\t-18.000000\tlargest_variance\t0.000000\tall_var\t0.138387\tL1_norm\t0.006324\n",
      "Episode\t779\tScore\t-19.000000\tlargest_variance\t0.000000\tall_var\t0.138129\tL1_norm\t0.010816\n",
      "Episode\t780\tScore\t-19.000000\tlargest_variance\t0.000000\tall_var\t0.138112\tL1_norm\t0.007649\n",
      "Episode\t781\tScore\t-20.000000\tlargest_variance\t0.000000\tall_var\t0.137959\tL1_norm\t0.011515\n",
      "Episode\t782\tScore\t-20.000000\tlargest_variance\t0.000000\tall_var\t0.138403\tL1_norm\t0.007858\n",
      "Episode\t783\tScore\t-20.000000\tlargest_variance\t0.000000\tall_var\t0.138201\tL1_norm\t0.005261\n",
      "Episode\t784\tScore\t-19.000000\tlargest_variance\t0.000000\tall_var\t0.138500\tL1_norm\t0.004814\n",
      "Episode\t785\tScore\t-21.000000\tlargest_variance\t0.000000\tall_var\t0.138598\tL1_norm\t0.006113\n",
      "Episode\t786\tScore\t-21.000000\tlargest_variance\t0.000000\tall_var\t0.138131\tL1_norm\t0.007990\n",
      "Episode\t787\tScore\t-20.000000\tlargest_variance\t0.000000\tall_var\t0.138272\tL1_norm\t0.018911\n",
      "Episode\t788\tScore\t-20.000000\tlargest_variance\t0.000000\tall_var\t0.138387\tL1_norm\t0.008522\n",
      "Episode\t789\tScore\t-20.000000\tlargest_variance\t0.000000\tall_var\t0.138092\tL1_norm\t0.006538\n",
      "Episode\t790\tScore\t-21.000000\tlargest_variance\t0.000000\tall_var\t0.138140\tL1_norm\t0.006487\n",
      "Episode\t791\tScore\t-20.000000\tlargest_variance\t0.000000\tall_var\t0.138526\tL1_norm\t0.005836\n",
      "Episode\t792\tScore\t-20.000000\tlargest_variance\t0.000000\tall_var\t0.137790\tL1_norm\t0.011782\n",
      "Episode\t793\tScore\t-18.000000\tlargest_variance\t0.000000\tall_var\t0.138129\tL1_norm\t0.007686\n",
      "Episode\t794\tScore\t-18.000000\tlargest_variance\t0.000000\tall_var\t0.138370\tL1_norm\t0.008164\n",
      "Episode\t795\tScore\t-20.000000\tlargest_variance\t0.000000\tall_var\t0.138096\tL1_norm\t0.006842\n",
      "Episode\t796\tScore\t-21.000000\tlargest_variance\t0.000000\tall_var\t0.138243\tL1_norm\t0.004454\n",
      "Episode\t797\tScore\t-20.000000\tlargest_variance\t0.000000\tall_var\t0.138529\tL1_norm\t0.007509\n",
      "Episode\t798\tScore\t-19.000000\tlargest_variance\t0.000000\tall_var\t0.137814\tL1_norm\t0.011087\n",
      "Episode\t799\tScore\t-20.000000\tlargest_variance\t0.000000\tall_var\t0.137723\tL1_norm\t0.014267\n",
      "Episode\t800\tScore\t-21.000000\tlargest_variance\t0.000000\tall_var\t0.138211\tL1_norm\t0.004011\n",
      "Episode\t801\tScore\t-20.000000\tlargest_variance\t0.000000\tall_var\t0.138175\tL1_norm\t0.011326\n",
      "Episode\t802\tScore\t-21.000000\tlargest_variance\t0.000000\tall_var\t0.138265\tL1_norm\t0.005548\n",
      "Episode\t803\tScore\t-21.000000\tlargest_variance\t0.000000\tall_var\t0.138190\tL1_norm\t0.007376\n",
      "Episode\t804\tScore\t-19.000000\tlargest_variance\t0.000000\tall_var\t0.138318\tL1_norm\t0.005477\n",
      "Episode\t805\tScore\t-21.000000\tlargest_variance\t0.000000\tall_var\t0.137871\tL1_norm\t0.012034\n",
      "Episode\t806\tScore\t-21.000000\tlargest_variance\t0.000000\tall_var\t0.138343\tL1_norm\t0.009043\n",
      "Episode\t807\tScore\t-21.000000\tlargest_variance\t0.000000\tall_var\t0.138403\tL1_norm\t0.011976\n",
      "Episode\t808\tScore\t-21.000000\tlargest_variance\t0.000000\tall_var\t0.138534\tL1_norm\t0.005364\n",
      "Episode\t809\tScore\t-20.000000\tlargest_variance\t0.000000\tall_var\t0.138273\tL1_norm\t0.007429\n",
      "Episode\t810\tScore\t-20.000000\tlargest_variance\t0.000000\tall_var\t0.138416\tL1_norm\t0.005084\n",
      "Episode\t811\tScore\t-20.000000\tlargest_variance\t0.000000\tall_var\t0.138441\tL1_norm\t0.008864\n",
      "Episode\t812\tScore\t-21.000000\tlargest_variance\t0.000000\tall_var\t0.138435\tL1_norm\t0.005461\n",
      "Episode\t813\tScore\t-20.000000\tlargest_variance\t0.000000\tall_var\t0.137908\tL1_norm\t0.006107\n",
      "Episode\t814\tScore\t-19.000000\tlargest_variance\t0.000000\tall_var\t0.138407\tL1_norm\t0.003195\n",
      "Episode\t815\tScore\t-21.000000\tlargest_variance\t0.000000\tall_var\t0.138018\tL1_norm\t0.009164\n",
      "Episode\t816\tScore\t-20.000000\tlargest_variance\t0.000000\tall_var\t0.138167\tL1_norm\t0.006314\n",
      "Episode\t817\tScore\t-21.000000\tlargest_variance\t0.000000\tall_var\t0.138075\tL1_norm\t0.008264\n",
      "Episode\t818\tScore\t-19.000000\tlargest_variance\t0.000000\tall_var\t0.138018\tL1_norm\t0.007547\n",
      "Episode\t819\tScore\t-20.000000\tlargest_variance\t0.000000\tall_var\t0.138646\tL1_norm\t0.008688\n",
      "Episode\t820\tScore\t-20.000000\tlargest_variance\t0.000000\tall_var\t0.138128\tL1_norm\t0.008692\n",
      "Episode\t821\tScore\t-18.000000\tlargest_variance\t0.000000\tall_var\t0.138091\tL1_norm\t0.008718\n",
      "Episode\t822\tScore\t-19.000000\tlargest_variance\t0.000000\tall_var\t0.138244\tL1_norm\t0.010474\n",
      "Episode\t823\tScore\t-20.000000\tlargest_variance\t0.000000\tall_var\t0.138089\tL1_norm\t0.006139\n",
      "Episode\t824\tScore\t-17.000000\tlargest_variance\t0.000000\tall_var\t0.138235\tL1_norm\t0.003677\n",
      "Episode\t825\tScore\t-20.000000\tlargest_variance\t0.000000\tall_var\t0.138354\tL1_norm\t0.010242\n",
      "Episode\t826\tScore\t-19.000000\tlargest_variance\t0.000000\tall_var\t0.138540\tL1_norm\t0.005315\n",
      "Episode\t827\tScore\t-21.000000\tlargest_variance\t0.000000\tall_var\t0.138016\tL1_norm\t0.006470\n",
      "Episode\t828\tScore\t-21.000000\tlargest_variance\t0.000000\tall_var\t0.138300\tL1_norm\t0.008739\n",
      "Episode\t829\tScore\t-18.000000\tlargest_variance\t0.000000\tall_var\t0.138433\tL1_norm\t0.004180\n",
      "Episode\t830\tScore\t-20.000000\tlargest_variance\t0.000000\tall_var\t0.138477\tL1_norm\t0.004598\n",
      "Episode\t831\tScore\t-20.000000\tlargest_variance\t0.000000\tall_var\t0.138139\tL1_norm\t0.003314\n",
      "Episode\t832\tScore\t-20.000000\tlargest_variance\t0.000000\tall_var\t0.137844\tL1_norm\t0.006700\n",
      "Episode\t833\tScore\t-21.000000\tlargest_variance\t0.000000\tall_var\t0.137540\tL1_norm\t0.006941\n",
      "Episode\t834\tScore\t-20.000000\tlargest_variance\t0.000000\tall_var\t0.138008\tL1_norm\t0.010799\n",
      "Episode\t835\tScore\t-20.000000\tlargest_variance\t0.000000\tall_var\t0.138242\tL1_norm\t0.008044\n",
      "Episode\t836\tScore\t-21.000000\tlargest_variance\t0.000000\tall_var\t0.138145\tL1_norm\t0.013716\n",
      "Episode\t837\tScore\t-19.000000\tlargest_variance\t0.000000\tall_var\t0.138052\tL1_norm\t0.004848\n",
      "Episode\t838\tScore\t-19.000000\tlargest_variance\t0.000000\tall_var\t0.138252\tL1_norm\t0.009239\n",
      "Episode\t839\tScore\t-20.000000\tlargest_variance\t0.000000\tall_var\t0.137447\tL1_norm\t0.009638\n",
      "Episode\t840\tScore\t-19.000000\tlargest_variance\t0.000000\tall_var\t0.138258\tL1_norm\t0.006925\n",
      "Episode\t841\tScore\t-21.000000\tlargest_variance\t0.000000\tall_var\t0.138258\tL1_norm\t0.013633\n",
      "Episode\t842\tScore\t-20.000000\tlargest_variance\t0.000000\tall_var\t0.137782\tL1_norm\t0.012401\n"
     ]
    },
    {
     "name": "stdout",
     "output_type": "stream",
     "text": [
      "Episode\t843\tScore\t-20.000000\tlargest_variance\t0.000000\tall_var\t0.138428\tL1_norm\t0.008195\n",
      "Episode\t844\tScore\t-21.000000\tlargest_variance\t0.000000\tall_var\t0.138223\tL1_norm\t0.007309\n",
      "Episode\t845\tScore\t-21.000000\tlargest_variance\t0.000000\tall_var\t0.138275\tL1_norm\t0.003746\n",
      "Episode\t846\tScore\t-21.000000\tlargest_variance\t0.000000\tall_var\t0.138001\tL1_norm\t0.004778\n",
      "Episode\t847\tScore\t-19.000000\tlargest_variance\t0.000000\tall_var\t0.137827\tL1_norm\t0.004448\n",
      "Episode\t848\tScore\t-21.000000\tlargest_variance\t0.000000\tall_var\t0.137995\tL1_norm\t0.011886\n",
      "Episode\t849\tScore\t-21.000000\tlargest_variance\t0.000000\tall_var\t0.137794\tL1_norm\t0.004557\n",
      "Episode\t850\tScore\t-19.000000\tlargest_variance\t0.000000\tall_var\t0.138205\tL1_norm\t0.003956\n",
      "Episode\t851\tScore\t-20.000000\tlargest_variance\t0.000000\tall_var\t0.138365\tL1_norm\t0.009306\n",
      "Episode\t852\tScore\t-21.000000\tlargest_variance\t0.000000\tall_var\t0.138123\tL1_norm\t0.014581\n",
      "Episode\t853\tScore\t-19.000000\tlargest_variance\t0.000000\tall_var\t0.138331\tL1_norm\t0.010666\n",
      "Episode\t854\tScore\t-19.000000\tlargest_variance\t0.000000\tall_var\t0.137955\tL1_norm\t0.007171\n",
      "Episode\t855\tScore\t-21.000000\tlargest_variance\t0.000000\tall_var\t0.137761\tL1_norm\t0.006121\n",
      "Episode\t856\tScore\t-20.000000\tlargest_variance\t0.000000\tall_var\t0.138156\tL1_norm\t0.009278\n",
      "Episode\t857\tScore\t-20.000000\tlargest_variance\t0.000000\tall_var\t0.138115\tL1_norm\t0.005527\n",
      "Episode\t858\tScore\t-21.000000\tlargest_variance\t0.000000\tall_var\t0.137705\tL1_norm\t0.008766\n",
      "Episode\t859\tScore\t-21.000000\tlargest_variance\t0.000000\tall_var\t0.138397\tL1_norm\t0.007915\n",
      "Episode\t860\tScore\t-18.000000\tlargest_variance\t0.000000\tall_var\t0.138248\tL1_norm\t0.007498\n",
      "Episode\t861\tScore\t-19.000000\tlargest_variance\t0.000000\tall_var\t0.138707\tL1_norm\t0.006898\n",
      "Episode\t862\tScore\t-21.000000\tlargest_variance\t0.000000\tall_var\t0.137962\tL1_norm\t0.004367\n",
      "Episode\t863\tScore\t-21.000000\tlargest_variance\t0.000000\tall_var\t0.138205\tL1_norm\t0.004419\n",
      "Episode\t864\tScore\t-20.000000\tlargest_variance\t0.000000\tall_var\t0.138450\tL1_norm\t0.009993\n",
      "Episode\t865\tScore\t-21.000000\tlargest_variance\t0.000000\tall_var\t0.138205\tL1_norm\t0.006895\n",
      "Episode\t866\tScore\t-21.000000\tlargest_variance\t0.000000\tall_var\t0.138130\tL1_norm\t0.005029\n",
      "Episode\t867\tScore\t-20.000000\tlargest_variance\t0.000000\tall_var\t0.137849\tL1_norm\t0.007678\n",
      "Episode\t868\tScore\t-17.000000\tlargest_variance\t0.000000\tall_var\t0.138298\tL1_norm\t0.004799\n",
      "Episode\t869\tScore\t-19.000000\tlargest_variance\t0.000000\tall_var\t0.138375\tL1_norm\t0.005105\n",
      "Episode\t870\tScore\t-21.000000\tlargest_variance\t0.000000\tall_var\t0.137950\tL1_norm\t0.003968\n",
      "Episode\t871\tScore\t-20.000000\tlargest_variance\t0.000000\tall_var\t0.138261\tL1_norm\t0.008391\n",
      "Episode\t872\tScore\t-20.000000\tlargest_variance\t0.000000\tall_var\t0.137704\tL1_norm\t0.008386\n",
      "Episode\t873\tScore\t-17.000000\tlargest_variance\t0.000000\tall_var\t0.137841\tL1_norm\t0.009168\n",
      "Episode\t874\tScore\t-19.000000\tlargest_variance\t0.000000\tall_var\t0.138186\tL1_norm\t0.009041\n",
      "Episode\t875\tScore\t-21.000000\tlargest_variance\t0.000000\tall_var\t0.137914\tL1_norm\t0.009633\n",
      "Episode\t876\tScore\t-19.000000\tlargest_variance\t0.000000\tall_var\t0.138087\tL1_norm\t0.004420\n",
      "Episode\t877\tScore\t-20.000000\tlargest_variance\t0.000000\tall_var\t0.138296\tL1_norm\t0.009527\n",
      "Episode\t878\tScore\t-19.000000\tlargest_variance\t0.000000\tall_var\t0.138552\tL1_norm\t0.003945\n",
      "Episode\t879\tScore\t-20.000000\tlargest_variance\t0.000000\tall_var\t0.137863\tL1_norm\t0.009219\n",
      "Episode\t880\tScore\t-21.000000\tlargest_variance\t0.000000\tall_var\t0.137204\tL1_norm\t0.017109\n",
      "Episode\t881\tScore\t-19.000000\tlargest_variance\t0.000000\tall_var\t0.137877\tL1_norm\t0.003568\n",
      "Episode\t882\tScore\t-19.000000\tlargest_variance\t0.000000\tall_var\t0.137816\tL1_norm\t0.003387\n",
      "Episode\t883\tScore\t-21.000000\tlargest_variance\t0.000000\tall_var\t0.137855\tL1_norm\t0.009455\n",
      "Episode\t884\tScore\t-21.000000\tlargest_variance\t0.000000\tall_var\t0.138241\tL1_norm\t0.004421\n",
      "Episode\t885\tScore\t-20.000000\tlargest_variance\t0.000000\tall_var\t0.137933\tL1_norm\t0.006806\n",
      "Episode\t886\tScore\t-21.000000\tlargest_variance\t0.000000\tall_var\t0.137832\tL1_norm\t0.008581\n",
      "Episode\t887\tScore\t-19.000000\tlargest_variance\t0.000000\tall_var\t0.138373\tL1_norm\t0.006865\n",
      "Episode\t888\tScore\t-20.000000\tlargest_variance\t0.000000\tall_var\t0.137729\tL1_norm\t0.007442\n",
      "Episode\t889\tScore\t-21.000000\tlargest_variance\t0.000000\tall_var\t0.138155\tL1_norm\t0.007539\n",
      "Episode\t890\tScore\t-20.000000\tlargest_variance\t0.000000\tall_var\t0.137388\tL1_norm\t0.014461\n",
      "Episode\t891\tScore\t-20.000000\tlargest_variance\t0.000000\tall_var\t0.137805\tL1_norm\t0.009940\n",
      "Episode\t892\tScore\t-19.000000\tlargest_variance\t0.000000\tall_var\t0.137222\tL1_norm\t0.009532\n",
      "Episode\t893\tScore\t-21.000000\tlargest_variance\t0.000000\tall_var\t0.137982\tL1_norm\t0.007433\n",
      "Episode\t894\tScore\t-20.000000\tlargest_variance\t0.000000\tall_var\t0.137853\tL1_norm\t0.003877\n",
      "Episode\t895\tScore\t-21.000000\tlargest_variance\t0.000000\tall_var\t0.138155\tL1_norm\t0.004651\n",
      "Episode\t896\tScore\t-20.000000\tlargest_variance\t0.000000\tall_var\t0.138137\tL1_norm\t0.005940\n"
     ]
    }
   ],
   "source": [
    "\n",
    "\n",
    "AgentName = 'pong_minimal-s5L1_i1'\n",
    "agent = PGAgent(state_size, action_size,AgentName=AgentName)\n",
    "# agent.newlog()\n",
    "batch_size = 1000;\n",
    "\n",
    "nb_episode = 1000;\n",
    "# main(agent) \n",
    "\n",
    "\n",
    "%load_ext line_profiler\n",
    "%lprun -f main main(agent,verbose = 1) "
   ]
  },
  {
   "cell_type": "code",
   "execution_count": 6,
   "metadata": {},
   "outputs": [],
   "source": [
    "# AgentName = 'pong_minimal-s5L2'\n",
    "# agent = PGAgent(state_size, action_size,AgentName=AgentName)\n",
    "# # agent.newlog()\n",
    "# nb_episode = 1000;\n",
    "# main(agent) \n",
    "\n",
    "\n",
    "# %load_ext line_profiler\n",
    "# %lprun -f main main(agent,verbose = 0) \n",
    "K.clear_session()\n",
    "import gc\n",
    "gc.collect()\n",
    "del sess"
   ]
  },
  {
   "cell_type": "code",
   "execution_count": 7,
   "metadata": {
    "collapsed": true
   },
   "outputs": [],
   "source": [
    "# AgentName = 'pong_minimal-s5L3'\n",
    "# agent = PGAgent(state_size, action_size,AgentName=AgentName)\n",
    "# # agent.newlog()\n",
    "# nb_episode = 1000;\n",
    "# main(agent) \n",
    "\n",
    "\n",
    "# %load_ext line_profiler\n",
    "# %lprun -f main main(agent,verbose = 0) "
   ]
  },
  {
   "cell_type": "code",
   "execution_count": 8,
   "metadata": {},
   "outputs": [],
   "source": [
    "# # len(agent.probs)\n",
    "# from sklearn.decomposition import PCA\n",
    "# X = np.vstack(agent.gradients)\n",
    "# pca = PCA(n_components = 1)\n",
    "# pca.fit(X)\n",
    "# print(pca.explained_variance_ratio_)"
   ]
  }
 ],
 "metadata": {
  "kernelspec": {
   "display_name": "Python 2",
   "language": "python",
   "name": "python2"
  },
  "language_info": {
   "codemirror_mode": {
    "name": "ipython",
    "version": 2
   },
   "file_extension": ".py",
   "mimetype": "text/x-python",
   "name": "python",
   "nbconvert_exporter": "python",
   "pygments_lexer": "ipython2",
   "version": "2.7.12"
  }
 },
 "nbformat": 4,
 "nbformat_minor": 2
}
